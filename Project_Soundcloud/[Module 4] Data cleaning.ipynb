{
 "cells": [
  {
   "cell_type": "markdown",
   "metadata": {},
   "source": [
    "Họ và tên: **Nguyễn Ngọc Băng Tâm**\n",
    "\n",
    "MSSV: **1712747**"
   ]
  },
  {
   "cell_type": "code",
   "execution_count": 4,
   "metadata": {},
   "outputs": [],
   "source": [
    "import numpy as np\n",
    "import pandas as pd\n",
    "import matplotlib.pyplot as plt\n",
    "import seaborn as sns"
   ]
  },
  {
   "cell_type": "markdown",
   "metadata": {},
   "source": [
    "## 1. Tập playlist"
   ]
  },
  {
   "cell_type": "markdown",
   "metadata": {},
   "source": [
    "### a. Kiểm tra tổng quan "
   ]
  },
  {
   "cell_type": "code",
   "execution_count": 18,
   "metadata": {},
   "outputs": [],
   "source": [
    "raw_playlist = pd.read_csv(\"Crawl_data/playlists.csv\", sep = '\\t')\n",
    "\n",
    "# Xóa cột index (chỉ đóng vai trò chỉ mục)\n",
    "raw_playlist.drop(columns=['index'], inplace=True)"
   ]
  },
  {
   "cell_type": "markdown",
   "metadata": {},
   "source": [
    "Tập playlist hiện tại có 2704 mẫu và 32 thuộc tính. Ta sẽ tiến hành tìm hiểu các thuộc tính và lựa chọn một số thuộc tính nhất định phục vụ cho câu hỏi mà ta quan tâm "
   ]
  },
  {
   "cell_type": "code",
   "execution_count": 19,
   "metadata": {},
   "outputs": [
    {
     "data": {
      "text/plain": [
       "(2704, 32)"
      ]
     },
     "execution_count": 19,
     "metadata": {},
     "output_type": "execute_result"
    }
   ],
   "source": [
    "raw_playlist.shape"
   ]
  },
  {
   "cell_type": "markdown",
   "metadata": {},
   "source": [
    "**Tóm tắt:**\n",
    "\n",
    "|Thuộc tính|Kiểu dữ liệu|     Ý nghĩa   |Miền giá trị |\n",
    "|:--------:|:-------------:|:-----:|:-----:|\n",
    "|**artwork_url**|Chuỗi |Đường dẫn đến ản đại diện của playlist||\n",
    "|**created_at**|Thời gian|Thời gian khởi tạo playlist|   |\n",
    "|**description**|Chuỗi|Mô tả playlist của người đăng tải| |\n",
    "|**duration**|Số nguyên|Tổng thời gian các track nhạc trong playlist|Liên tục (đơn vị: mili giây)|\n",
    "|**embeddable_by**|Chuỗi|Đối tượng có quyền nhúng track hoặc playlist này|\"all\" (tất cả mọi người), \"me\" (chỉ mình tôi) hoặc None (không ai)|\n",
    "|**genre**|Chuỗi|Thể loại nhạc của playlist|   |\n",
    "|**id**|Kiểu phân loại|Định danh của playlist||\n",
    "|**kind**|Chuỗi|Loại đối tượng|playlist|\n",
    "|**label_name**|Chuỗi|Hãng thu âm|   |\n",
    "|**last_modified**|Thời gian|Lần chỉnh sửa cuối cùng|   |\n",
    "|**license**|Chuỗi|Giấy phép Creative Commons|“no-rights-reserved”, “all-rights-reserved”, “cc-by”, “cc-by-nc”, “cc-by-nd”, “cc-by-sa”, “cc-by-nc-nd”, “cc-by-nc-sa”|\n",
    "|**likes_count**|Số nguyên|Số lượt yêu thích của playlist|Liên tục|\n",
    "|**managed_by_feeds**|Luận lý|Playlist có được quản lý bởi RSS feed|True hoặc False|\n",
    "|**permalink**|Chuỗi|Đường dẫn cố định của tài nguyên|   |\n",
    "|**permalink_url**|Chuỗi|Đường dẫn đến trang Soundcloud    |   |\n",
    "|**public**|Luận lý|Playlist có công khai hay không|True hoặc False. Trong dataset chỉ chứa playlist có giá trị True do chỉ rút trích được các playlist chia sẻ công khai|\n",
    "|**purchase_title**|Chuỗi|     |\n",
    "|**purchase_url**|Chuỗi|       |\n",
    "|**release_date**|Thời gian|Thời gian xuất bản playlist|   |\n",
    "|**reposts_count**|Số nguyên|Số lượt đăng lại playlist| Liên tục  |\n",
    "|**secret_token**|Chuỗi|   |\n",
    "|**sharing**|Chuỗi|Chế độ chia sẻ công khai hoặc riêng tư|public, private|\n",
    "|**tag_list**|Chuỗi|Danh sách các tag của playlist|   |\n",
    "|**title**|Chuỗi|Tiêu đề playlist|    |\n",
    "|**uri**|Chuỗi|Đường dẫn API của playlist|    |\n",
    "|**user_id**|Kiểu phân loại|Định danh của người sở hữu playlist|   |\n",
    "|**set_type**|Chuỗi|Định dạng đĩa|\"album\", \"compilation\", \"ep\", \"single\"|\n",
    "|**is_album**|Luận lý|Playlist có phải album hay không|True hoặc False|\n",
    "|**published_at**|Thời gian|Thời điểm đăng tải playlist|   |\n",
    "|**display_date**|Thời gian|Thời điểm playlist hiển thị|   |\n",
    "|**track_counts**|Số nguyên|Số lượng track trong playlist|Liên tục |\n",
    "|**tracks**|Chuỗi|Danh sách id của các track trong playlist|   |"
   ]
  },
  {
   "cell_type": "markdown",
   "metadata": {},
   "source": [
    "#### a.1. Kiểm tra các thuộc tính định danh"
   ]
  },
  {
   "cell_type": "code",
   "execution_count": 24,
   "metadata": {},
   "outputs": [
    {
     "name": "stdout",
     "output_type": "stream",
     "text": [
      "Số lượng id: 2704\n",
      "Số lượng permalink_url: 2704\n",
      "Số lượng uri: 2704\n"
     ]
    }
   ],
   "source": [
    "print(f\"Số lượng id: {raw_playlist['id'].nunique()}\")\n",
    "print(f\"Số lượng permalink_url: {raw_playlist['permalink_url'].nunique()}\")\n",
    "print(f\"Số lượng uri: {raw_playlist['uri'].nunique()}\")      "
   ]
  },
  {
   "cell_type": "markdown",
   "metadata": {},
   "source": [
    "#### a.2. Kiểm tra các thuộc tính không đóng góp đáng kể vào EDA"
   ]
  },
  {
   "cell_type": "code",
   "execution_count": 44,
   "metadata": {},
   "outputs": [
    {
     "name": "stdout",
     "output_type": "stream",
     "text": [
      "Số lượng artwork_url: 467\n",
      "\n",
      "Số lượng kind: 1\n",
      "Giá trị của thuộc tính kind: ['playlist']\n",
      "\n",
      "Số lượng secret_token: 0\n",
      "Giá trị của secret_token: [nan]\n",
      "\n",
      "Số lượng public: 1\n",
      "Giá trị của public: [ True]\n",
      "\n",
      "Số lượng sharing: 1\n",
      "Giá trị của sharing: ['public']\n",
      "\n",
      "Số lượng tag_list: 442\n",
      "\n",
      "Số lượng description: 453\n"
     ]
    }
   ],
   "source": [
    "print(f\"Số lượng artwork_url: {raw_playlist['artwork_url'].nunique()}\\n\") \n",
    "\n",
    "# kind\n",
    "print(f\"Số lượng kind: {raw_playlist['kind'].nunique()}\")\n",
    "print(f\"Giá trị của thuộc tính kind: {raw_playlist['kind'].unique()}\\n\")\n",
    "      \n",
    "# secret_token\n",
    "print(f\"Số lượng secret_token: {raw_playlist['secret_token'].nunique()}\")   \n",
    "print(f\"Giá trị của secret_token: {raw_playlist['secret_token'].unique()}\\n\")  \n",
    "      \n",
    "# public\n",
    "print(f\"Số lượng public: {raw_playlist['public'].nunique()}\")   \n",
    "print(f\"Giá trị của public: {raw_playlist['public'].unique()}\\n\")         \n",
    "      \n",
    "# sharing\n",
    "print(f\"Số lượng sharing: {raw_playlist['sharing'].nunique()}\")   \n",
    "print(f\"Giá trị của sharing: {raw_playlist['sharing'].unique()}\\n\")  \n",
    "\n",
    "# tag_list\n",
    "print(f\"Số lượng tag_list: {raw_playlist['tag_list'].nunique()}\\n\")   \n",
    "# print(f\"Giá trị của tag_list: {raw_playlist['tag_list'].unique()}\")  \n",
    "\n",
    "# description\n",
    "print(f\"Số lượng description: {raw_playlist['description'].nunique()}\")   \n",
    "# print(f\"Giá trị của tag_list: {raw_playlist['description'].unique()}\")  "
   ]
  },
  {
   "cell_type": "markdown",
   "metadata": {},
   "source": [
    "#### a.3. Kiểm tra các thuộc tính tương đồng"
   ]
  },
  {
   "cell_type": "code",
   "execution_count": 45,
   "metadata": {},
   "outputs": [
    {
     "name": "stdout",
     "output_type": "stream",
     "text": [
      "Số lượng created_at: 2703\n",
      "Số lượng release_date: 318\n",
      "Số lượng published_at: 2347\n",
      "Số lượng display_date: 2690\n"
     ]
    }
   ],
   "source": [
    "print(f\"Số lượng created_at: {raw_playlist['created_at'].nunique()}\")\n",
    "print(f\"Số lượng release_date: {raw_playlist['release_date'].nunique()}\")\n",
    "print(f\"Số lượng published_at: {raw_playlist['published_at'].nunique()}\")    \n",
    "print(f\"Số lượng display_date: {raw_playlist['display_date'].nunique()}\")      "
   ]
  },
  {
   "cell_type": "markdown",
   "metadata": {},
   "source": [
    "Khi xem xét 4 thuộc tính `created_at`, `release_date`, `published_at`, `display_date`, có thể thấy chúng khá liên quan nhau. \n",
    "- `created_at` là thời điểm người đăng tải **bắt đầu khởi tạo** playlist\n",
    "- `published_at` là thời điểm người đăng tải nhấn **phát hành** playlist\n",
    "- `displate_date` là thời điểm playlist thực sự hiển thị sau khi được người đăng tải phát hành\n",
    "- `release_date` là thời điểm người đăng tải **dự kiến phát hành** playlist (set trước 1 thời điểm nhất định)\n",
    "\n",
    "Đồ án chỉ xét thời điểm playlist thực sự hiển thị công khai trên Soundcloud, tức chỉ chọn thuộc tính `display_date`"
   ]
  },
  {
   "cell_type": "code",
   "execution_count": 50,
   "metadata": {},
   "outputs": [
    {
     "data": {
      "text/html": [
       "<div>\n",
       "<style scoped>\n",
       "    .dataframe tbody tr th:only-of-type {\n",
       "        vertical-align: middle;\n",
       "    }\n",
       "\n",
       "    .dataframe tbody tr th {\n",
       "        vertical-align: top;\n",
       "    }\n",
       "\n",
       "    .dataframe thead th {\n",
       "        text-align: right;\n",
       "    }\n",
       "</style>\n",
       "<table border=\"1\" class=\"dataframe\">\n",
       "  <thead>\n",
       "    <tr style=\"text-align: right;\">\n",
       "      <th></th>\n",
       "      <th>created_at</th>\n",
       "      <th>release_date</th>\n",
       "      <th>published_at</th>\n",
       "      <th>display_date</th>\n",
       "    </tr>\n",
       "  </thead>\n",
       "  <tbody>\n",
       "    <tr>\n",
       "      <th>2699</th>\n",
       "      <td>2020-10-04T05:03:56Z</td>\n",
       "      <td>NaN</td>\n",
       "      <td>2020-10-04T05:03:56Z</td>\n",
       "      <td>2020-10-04T05:03:56Z</td>\n",
       "    </tr>\n",
       "    <tr>\n",
       "      <th>2700</th>\n",
       "      <td>2018-11-02T22:11:44Z</td>\n",
       "      <td>2018-11-08T00:00:00Z</td>\n",
       "      <td>2018-11-09T05:00:32Z</td>\n",
       "      <td>2018-11-09T05:00:32Z</td>\n",
       "    </tr>\n",
       "    <tr>\n",
       "      <th>2701</th>\n",
       "      <td>2019-01-25T00:26:59Z</td>\n",
       "      <td>2019-01-25T00:00:00Z</td>\n",
       "      <td>2019-01-25T00:00:00Z</td>\n",
       "      <td>2019-01-25T00:00:00Z</td>\n",
       "    </tr>\n",
       "    <tr>\n",
       "      <th>2702</th>\n",
       "      <td>2020-05-09T03:06:04Z</td>\n",
       "      <td>NaN</td>\n",
       "      <td>2020-05-09T05:05:50Z</td>\n",
       "      <td>2020-05-09T05:05:50Z</td>\n",
       "    </tr>\n",
       "    <tr>\n",
       "      <th>2703</th>\n",
       "      <td>2018-10-22T09:08:13Z</td>\n",
       "      <td>2018-10-23T00:00:00Z</td>\n",
       "      <td>2018-10-22T15:00:04Z</td>\n",
       "      <td>2018-10-22T15:00:04Z</td>\n",
       "    </tr>\n",
       "  </tbody>\n",
       "</table>\n",
       "</div>"
      ],
      "text/plain": [
       "                created_at          release_date          published_at  \\\n",
       "2699  2020-10-04T05:03:56Z                   NaN  2020-10-04T05:03:56Z   \n",
       "2700  2018-11-02T22:11:44Z  2018-11-08T00:00:00Z  2018-11-09T05:00:32Z   \n",
       "2701  2019-01-25T00:26:59Z  2019-01-25T00:00:00Z  2019-01-25T00:00:00Z   \n",
       "2702  2020-05-09T03:06:04Z                   NaN  2020-05-09T05:05:50Z   \n",
       "2703  2018-10-22T09:08:13Z  2018-10-23T00:00:00Z  2018-10-22T15:00:04Z   \n",
       "\n",
       "              display_date  \n",
       "2699  2020-10-04T05:03:56Z  \n",
       "2700  2018-11-09T05:00:32Z  \n",
       "2701  2019-01-25T00:00:00Z  \n",
       "2702  2020-05-09T05:05:50Z  \n",
       "2703  2018-10-22T15:00:04Z  "
      ]
     },
     "execution_count": 50,
     "metadata": {},
     "output_type": "execute_result"
    }
   ],
   "source": [
    "raw_playlist[['created_at', 'release_date', 'published_at', 'display_date']].tail()"
   ]
  },
  {
   "cell_type": "markdown",
   "metadata": {},
   "source": [
    "#### a.4 Kiểm tra các thuộc tính còn lại"
   ]
  },
  {
   "cell_type": "code",
   "execution_count": 66,
   "metadata": {},
   "outputs": [
    {
     "name": "stdout",
     "output_type": "stream",
     "text": [
      "Số lượng duration: 2119\n",
      "\n",
      "Số lượng embeddable_by: 3\n",
      "Giá trị của embeddable_by: ['all' 'none' 'me']\n",
      "\n",
      "Số lượng genre: 157\n",
      "\n",
      "Số lượng label_name: 38\n",
      "\n",
      "Số lượng last_modified: 2694\n",
      "\n",
      "Số lượng license: 5\n",
      "Giá trị của license: ['all-rights-reserved' 'cc-by-nc-sa' 'cc-by' 'cc-by-nc-nd' 'cc-']\n",
      "\n",
      "Số lượng likes_count: 910\n",
      "\n",
      "Số lượng managed_by_feeds: 2\n",
      "Giá trị của managed_by_feeds: [False  True]\n",
      "\n",
      "Số lượng permalink: 927\n",
      "\n",
      "Số lượng purchase_title: 24\n",
      "\n",
      "Số lượng purchase_url: 55\n",
      "\n",
      "Số lượng reposts_count: 560\n",
      "\n",
      "Số lượng title: 1287\n",
      "\n",
      "Số lượng user_id: 1754\n",
      "\n",
      "Số lượng set_type: 4\n",
      "Giá trị của set_type: [nan 'album' 'compilation' 'ep' 'single']\n",
      "\n",
      "Số lượng is_album: 2\n",
      "Giá trị của is_album: [False  True]\n",
      "\n",
      "Số lượng display_date: 2690\n",
      "\n",
      "Số lượng track_counts: 455\n",
      "\n",
      "Số lượng track: 2122\n",
      "\n"
     ]
    }
   ],
   "source": [
    "# duration\n",
    "print(f\"Số lượng duration: {raw_playlist['duration'].nunique()}\\n\")\n",
    "\n",
    "# embeddable_by\n",
    "print(f\"Số lượng embeddable_by: {raw_playlist['embeddable_by'].nunique()}\")\n",
    "print(f\"Giá trị của embeddable_by: {raw_playlist['embeddable_by'].unique()}\\n\")  \n",
    "\n",
    "      \n",
    "# genre\n",
    "print(f\"Số lượng genre: {raw_playlist['genre'].nunique()}\\n\")\n",
    "      \n",
    "# label_name\n",
    "print(f\"Số lượng label_name: {raw_playlist['label_name'].nunique()}\\n\")\n",
    "\n",
    "# last_modified\n",
    "print(f\"Số lượng last_modified: {raw_playlist['last_modified'].nunique()}\\n\")\n",
    "      \n",
    "# license\n",
    "print(f\"Số lượng license: {raw_playlist['license'].nunique()}\")\n",
    "print(f\"Giá trị của license: {raw_playlist['license'].unique()}\\n\")  \n",
    "      \n",
    "      \n",
    "# likes_count\n",
    "print(f\"Số lượng likes_count: {raw_playlist['likes_count'].nunique()}\\n\")\n",
    "      \n",
    "# managed_by_feeds\n",
    "print(f\"Số lượng managed_by_feeds: {raw_playlist['managed_by_feeds'].nunique()}\")\n",
    "print(f\"Giá trị của managed_by_feeds: {raw_playlist['managed_by_feeds'].unique()}\\n\")  \n",
    "     \n",
    "# permalink\n",
    "print(f\"Số lượng permalink: {raw_playlist['permalink'].nunique()}\\n\")      \n",
    "      \n",
    "# purchase_title\n",
    "print(f\"Số lượng purchase_title: {raw_playlist['purchase_title'].nunique()}\\n\")   \n",
    "\n",
    "# purchase_url\n",
    "print(f\"Số lượng purchase_url: {raw_playlist['purchase_url'].nunique()}\\n\") \n",
    "      \n",
    "# reposts_count\n",
    "print(f\"Số lượng reposts_count: {raw_playlist['reposts_count'].nunique()}\\n\") \n",
    "\n",
    "# title\n",
    "print(f\"Số lượng title: {raw_playlist['title'].nunique()}\\n\") \n",
    "\n",
    "# user_id\n",
    "print(f\"Số lượng user_id: {raw_playlist['user_id'].nunique()}\\n\") \n",
    "\n",
    "# set_type\n",
    "print(f\"Số lượng set_type: {raw_playlist['set_type'].nunique()}\") \n",
    "print(f\"Giá trị của set_type: {raw_playlist['set_type'].unique()}\\n\")  \n",
    "\n",
    "# is_album\n",
    "print(f\"Số lượng is_album: {raw_playlist['is_album'].nunique()}\") \n",
    "print(f\"Giá trị của is_album: {raw_playlist['is_album'].unique()}\\n\")  \n",
    "\n",
    "# display_date\n",
    "print(f\"Số lượng display_date: {raw_playlist['display_date'].nunique()}\\n\") \n",
    "\n",
    "# track_counts\n",
    "print(f\"Số lượng track_counts: {raw_playlist['track_counts'].nunique()}\\n\") \n",
    "\n",
    "# track\n",
    "print(f\"Số lượng track: {raw_playlist['tracks'].nunique()}\\n\") "
   ]
  },
  {
   "cell_type": "markdown",
   "metadata": {},
   "source": [
    "Xem thử số lượng của từng giá trị"
   ]
  },
  {
   "cell_type": "code",
   "execution_count": 88,
   "metadata": {},
   "outputs": [
    {
     "data": {
      "text/plain": [
       "TenThousand Projects, LLC                             4\n",
       "Cinematic Music Group                                 2\n",
       "6ix9ine, distributed by Create Music Group            2\n",
       "DiviSoul                                              2\n",
       "Tik Tok Songs                                         2\n",
       "Generation Now 2016                                   1\n",
       "Shop FMM LLC                                          1\n",
       "Winners Circle Entertainment Inc /EMPIRE              1\n",
       "Internet Money Records / TenThousand Projects, LLC    1\n",
       "One Umbrella Records                                  1\n",
       "KSR Group                                             1\n",
       "300 Entertainment                                     1\n",
       "Winners Cirlce Entertainment / EMPIRE                 1\n",
       "MAU Records                                           1\n",
       "AUTNMY under license to Columbia Records              1\n",
       "Mugatunes                                             1\n",
       "Columbia Records                                      1\n",
       "300 Entertainment / Quality Control Music             1\n",
       "Atlantic Records                                      1\n",
       "Goon Squad Ent. LLC                                   1\n",
       "James Quavo                                           1\n",
       "Alamo Records                                         1\n",
       "Lost Kids                                             1\n",
       "88risng Music/12Tone Music, LLC                       1\n",
       "Slaughter Gang                                        1\n",
       "TenThousand Projects, LLC / Dior Gang Music           1\n",
       "TenThousand Projects                                  1\n",
       "Music Is Elation                                      1\n",
       "HITTAH Entertainment                                  1\n",
       "Frank Ocean                                           1\n",
       "indecision                                            1\n",
       "Paradise East Records                                 1\n",
       "Def Jam Recordings                                    1\n",
       "All Money In                                          1\n",
       "Fools Gold Records                                    1\n",
       "All Money In No Money Out                             1\n",
       "AWGE/Interscope                                       1\n",
       "Generation Now                                        1\n",
       "Name: label_name, dtype: int64"
      ]
     },
     "execution_count": 88,
     "metadata": {},
     "output_type": "execute_result"
    }
   ],
   "source": [
    "raw_playlist['label_name'].value_counts()"
   ]
  },
  {
   "cell_type": "code",
   "execution_count": 86,
   "metadata": {},
   "outputs": [
    {
     "data": {
      "text/plain": [
       "russ                             10\n",
       "said-sum-moneybagg               10\n",
       "sex-sounds-lil-tjay              10\n",
       "sofia-clairo-slowed              10\n",
       "sweater-weather                  10\n",
       "                                 ..\n",
       "xxxtentacion-presents-members     1\n",
       "14-with-a-dream                   1\n",
       "bring-em-out-calboy               1\n",
       "yeahh                             1\n",
       "life-of-betrayal                  1\n",
       "Name: permalink, Length: 927, dtype: int64"
      ]
     },
     "execution_count": 86,
     "metadata": {},
     "output_type": "execute_result"
    }
   ],
   "source": [
    "raw_playlist['permalink'].value_counts()"
   ]
  },
  {
   "cell_type": "code",
   "execution_count": 87,
   "metadata": {},
   "outputs": [
    {
     "data": {
      "text/plain": [
       "ppcocaine                   10\n",
       "capitalize off pain         10\n",
       "sofia clairo slowed         10\n",
       "bookbag 2 0                 10\n",
       "train wreck james arthur    10\n",
       "                            ..\n",
       "✨Mulatto✨                    1\n",
       "Nectar                       1\n",
       "Certified Hitmaker           1\n",
       "DOJA                         1\n",
       "F*CK LOVE (SAVAGE)           1\n",
       "Name: title, Length: 1287, dtype: int64"
      ]
     },
     "execution_count": 87,
     "metadata": {},
     "output_type": "execute_result"
    }
   ],
   "source": [
    "raw_playlist['title'].value_counts()"
   ]
  },
  {
   "cell_type": "code",
   "execution_count": 89,
   "metadata": {},
   "outputs": [
    {
     "data": {
      "text/plain": [
       "Stream/Download           8\n",
       "Download                  6\n",
       "Stream                    6\n",
       "DOWNLOAD                  3\n",
       "// D O W N L O A D        3\n",
       "Buy                       2\n",
       "❤️mell-ø Mix Youtube❤️    2\n",
       "Stream/download           1\n",
       "SPOTIFY  🚫💩🎧              1\n",
       "BUY NOW, Do it ;)         1\n",
       "Rake // Hexada Video      1\n",
       "itunes                    1\n",
       "D O W N L O A D           1\n",
       "iTunes                    1\n",
       "Dowload the mixtape       1\n",
       "stream / download         1\n",
       "BUY ON ITUNES             1\n",
       "Purchase                  1\n",
       "BUY NOW ON ITUNES         1\n",
       "Buy on iTunes             1\n",
       "DOWNLOAD NOW              1\n",
       "stream/download NOVA      1\n",
       "Download Mixtape Now      1\n",
       "❤️mell-ø mix❤️            1\n",
       "Name: purchase_title, dtype: int64"
      ]
     },
     "execution_count": 89,
     "metadata": {},
     "output_type": "execute_result"
    }
   ],
   "source": [
    "raw_playlist['purchase_title'].value_counts()"
   ]
  },
  {
   "cell_type": "code",
   "execution_count": 90,
   "metadata": {},
   "outputs": [
    {
     "data": {
      "text/plain": [
       "http://www.davidsanyabeats.com                                                                  3\n",
       "https://www.youtube.com/c/LofiHipHopBeats?sub_confirmation=1                                    2\n",
       "http://youngboynba.lnk.to/AIYOUNGBOY2So                                                         1\n",
       "https://ABoogie.lnk.to/hoodieszn                                                                1\n",
       "https://yungeenace.ffm.to/chloe.pbt                                                             1\n",
       "https://music.apple.com/us/album/dont-sleep/1484726272                                          1\n",
       "http://fanlink.to/NudyLand                                                                      1\n",
       "https://criminalbassline.com/goodie-daniel-jaeger-the-job-without-me-eminem-tribute             1\n",
       "https://fanlink.to/mugatunes-spotify                                                            1\n",
       "https://itunes.apple.com/us/album/tell-me-single/id887871018                                    1\n",
       "https://itunes.apple.com/album/id1459178410?ls=1&app=itunes                                     1\n",
       "https://geo.itunes.apple.com/us/album/bobby-tarantino/id1129380389?at=1l3vsrm&mt=1&app=music    1\n",
       "https://JackHarlow.lnk.to/LooseSo                                                               1\n",
       "https://cmg.ffm.to/TattleTales                                                                  1\n",
       "https://ovosound.io/p3                                                                          1\n",
       "https://yungeenace.ffm.to/stepharder                                                            1\n",
       "http://smarturl.it/bawskee2                                                                     1\n",
       "https://6ix9ine.lnk.to/DUMMYBOY                                                                 1\n",
       "https://www.youtube.com/watch?v=Uh2jkfWILhA&t=103s                                              1\n",
       "https://itunes.apple.com/us/album/a.m.-paradox-ep/id1153937452                                  1\n",
       "http://www.DavidSanyaBeats.com                                                                  1\n",
       "https://itunes.apple.com/us/artist/lil-uzi-vert/id940710524                                     1\n",
       "http://tinyurl.com/HIGHBEAMS                                                                    1\n",
       "http://cabinfever3.com                                                                          1\n",
       "https://unitedmasters.com/m/cottonwood                                                          1\n",
       "https://JayDaYoungan.lnk.to/Forever23                                                           1\n",
       "http://smarturl.it/SavageModeiTunes                                                             1\n",
       "https://music.apple.com/us/album/the-unluccy-luccy-kid/1479636658                               1\n",
       "http://smarturl.it/NovaRemixesVol1                                                              1\n",
       "https://JayDaYoungan.lnk.to/EndlessPainPR                                                       1\n",
       "https://ffm.to/DAYSTAR                                                                          1\n",
       "https://quandorondo.lnk.to/LifeAfterFameSo                                                      1\n",
       "http://lilskies.lnk.to/ShelbySo                                                                 1\n",
       "http://smarturl.it/bawskee                                                                      1\n",
       "https://youngboynba.lnk.to/realerSo                                                             1\n",
       "https://YungeenAce.lnk.to/LOB                                                                   1\n",
       "https://smarturl.it/ghettogospel                                                                1\n",
       "http://smarturl.it/COWYS2                                                                       1\n",
       "https://ovosound.io/pndcolours2                                                                 1\n",
       "http://flyt.it/CULTURE                                                                          1\n",
       "http://smarturl.it/LucaBrasi2                                                                   1\n",
       "http://smarturl.it/UnderPressureDlx                                                             1\n",
       "http://piff.me/e9615f2                                                                          1\n",
       "http://smarturl.it/MFH2                                                                         1\n",
       "https://itunes.apple.com/us/album/king-of-memphis/id1084907209&ct=888915196038&app=itunes       1\n",
       "http://iamproud2pay.com/products/mailbox-money-digital?variant=1026202573                       1\n",
       "https://roddyricch.lnk.to/PleaseExcuseMeForBeingAntisocial                                      1\n",
       "https://www.youtube.com/watch?v=_tRp_RFeuu4                                                     1\n",
       "http://smarturl.it/RLGrimeNOVA                                                                  1\n",
       "http://smarturl.it/BLIK                                                                         1\n",
       "https://itunes.apple.com/us/album/gangsta-bitch-music-vol.-1/id1090779765                       1\n",
       "http://Kodak.lnk.to/DyingToLiveSo                                                               1\n",
       "https://itunes.apple.com/us/album/id1222638516?app=itunes&ls=1                                  1\n",
       "https://itunes.apple.com/us/album/purrr!-ep/id904682063                                         1\n",
       "https://lilskies.lnk.to/LOADRSo                                                                 1\n",
       "Name: purchase_url, dtype: int64"
      ]
     },
     "execution_count": 90,
     "metadata": {},
     "output_type": "execute_result"
    }
   ],
   "source": [
    "raw_playlist['purchase_url'].value_counts()"
   ]
  },
  {
   "cell_type": "code",
   "execution_count": 91,
   "metadata": {},
   "outputs": [
    {
     "data": {
      "text/plain": [
       "all     2420\n",
       "none     282\n",
       "me         2\n",
       "Name: embeddable_by, dtype: int64"
      ]
     },
     "execution_count": 91,
     "metadata": {},
     "output_type": "execute_result"
    }
   ],
   "source": [
    "raw_playlist['embeddable_by'].value_counts()"
   ]
  },
  {
   "cell_type": "code",
   "execution_count": 93,
   "metadata": {},
   "outputs": [
    {
     "data": {
      "text/plain": [
       "all-rights-reserved    2693\n",
       "cc-by                     6\n",
       "cc-by-nc-sa               3\n",
       "cc-                       1\n",
       "cc-by-nc-nd               1\n",
       "Name: license, dtype: int64"
      ]
     },
     "execution_count": 93,
     "metadata": {},
     "output_type": "execute_result"
    }
   ],
   "source": [
    "raw_playlist['license'].value_counts()"
   ]
  },
  {
   "cell_type": "code",
   "execution_count": 94,
   "metadata": {},
   "outputs": [
    {
     "data": {
      "text/plain": [
       "False    2630\n",
       "True       74\n",
       "Name: managed_by_feeds, dtype: int64"
      ]
     },
     "execution_count": 94,
     "metadata": {},
     "output_type": "execute_result"
    }
   ],
   "source": [
    "raw_playlist['managed_by_feeds'].value_counts()"
   ]
  },
  {
   "cell_type": "markdown",
   "metadata": {},
   "source": [
    "**Nhận xét:**\n",
    "- `set_type` và `is_album` tương đồng nên chỉ cần chọn trường `set_type`\n",
    "- `purchase_url` sẽ được dùng để tạo trường mới là `is_purchasable` (playlist có mục đích thương mại hay không, nếu giá trị `purchase_url` khác null tức playlist đó nhằm mục đích thương mại)\n",
    "- `embeddable_by` chủ yếu chứa giá trị `all`, `license` chủ yếu chứa giá trị `all-rights-reserved` nên độ mất cân bằng các phân lớp lớn => không chọn cho quá trình EDA\n",
    "\n",
    "- Các thuộc tính `managed_by_feeds`, `last_modified`, `permalink`, `purchase_title` và `title`, `label_name` cũng không chọn cho bước EDA\n"
   ]
  },
  {
   "cell_type": "markdown",
   "metadata": {},
   "source": [
    "#### a.5 Tổng kết"
   ]
  },
  {
   "cell_type": "markdown",
   "metadata": {},
   "source": [
    "- Thuộc tính `index` là cột chỉ mục. \n",
    "- Đối tượng playlist có 31 thuộc tính, trong đó bao gồm 4 loại thuộc tính chính:\n",
    "    - Các thuộc tính định danh => Chỉ chọn `id`\n",
    "        - `id`    \n",
    "        - `permalink_url`\n",
    "        - `uri`\n",
    "       \n",
    "    - Các thuộc tính không đóng góp đáng kể vào quá trình EDA => Không chọn\n",
    "        - `artwork_url`\n",
    "        - `kind`\n",
    "        - `secret_token`\n",
    "        - `public`\n",
    "        - `sharing`\n",
    "        - `tag_list`\n",
    "        - `description`\n",
    "      \n",
    "    - Các thuộc tính khá liên quan nên chỉ cần giữ lại 1 trong số chúng\n",
    "        - `created_at`, `release_date`, `published_at` và `display_date` => Tạm chọn giữ lại `display_date`\n",
    "        \n",
    "    - Các thuộc tính còn lại:\n",
    "        - `duration`\n",
    "        - `embeddable_by`\n",
    "        - `genre`\n",
    "        - `label_name`\n",
    "        - `last_modified`\n",
    "        - `license`\n",
    "        - `likes_count`\n",
    "        - `managed_by_feeds`\n",
    "        - `permalink`\n",
    "        - `purchase_title`\n",
    "        - `purchase_url`\n",
    "        - `reposts_count`\n",
    "        - `title`\n",
    "        - `user_id`\n",
    "        - `set_type`\n",
    "        - `is_album`\n",
    "        - `display_date`\n",
    "        - `track_counts`\n",
    "        - `tracks`\n",
    "        \n",
    "- Cuối cùng, đồ án chọn 11 thuộc tính của tập playlist để EDA:\n",
    "    - `id`\n",
    "    - `duration`\n",
    "    - `genre`\n",
    "    - `likes_count`\n",
    "    - `is_purchasable` (feature engineer từ `purchase_url`)\n",
    "    - `reposts_count`\n",
    "    - `user_id`\n",
    "    - `set_type` \n",
    "    - `display_time` (feature engineer từ `display_date`, mang ý nghĩa là thời gian playlist đã hiển thị tính tới thời điểm ngày 05/11/2020)\n",
    "    - `track_counts`\n",
    "    - `tracks`\n",
    "\n"
   ]
  },
  {
   "cell_type": "code",
   "execution_count": 1037,
   "metadata": {},
   "outputs": [],
   "source": [
    "selected_columns = ['id', 'duration', 'genre', 'likes_count', 'purchase_url', 'reposts_count', \n",
    "                   'user_id', 'set_type', 'display_date', 'track_counts', 'tracks']\n",
    "selected_playlist = raw_playlist[selected_columns]"
   ]
  },
  {
   "cell_type": "markdown",
   "metadata": {},
   "source": [
    "### b. Tiền xử lý và feature engineer"
   ]
  },
  {
   "cell_type": "code",
   "execution_count": 1038,
   "metadata": {},
   "outputs": [
    {
     "data": {
      "text/html": [
       "<div>\n",
       "<style scoped>\n",
       "    .dataframe tbody tr th:only-of-type {\n",
       "        vertical-align: middle;\n",
       "    }\n",
       "\n",
       "    .dataframe tbody tr th {\n",
       "        vertical-align: top;\n",
       "    }\n",
       "\n",
       "    .dataframe thead th {\n",
       "        text-align: right;\n",
       "    }\n",
       "</style>\n",
       "<table border=\"1\" class=\"dataframe\">\n",
       "  <thead>\n",
       "    <tr style=\"text-align: right;\">\n",
       "      <th></th>\n",
       "      <th>id</th>\n",
       "      <th>duration</th>\n",
       "      <th>genre</th>\n",
       "      <th>likes_count</th>\n",
       "      <th>purchase_url</th>\n",
       "      <th>reposts_count</th>\n",
       "      <th>user_id</th>\n",
       "      <th>set_type</th>\n",
       "      <th>display_date</th>\n",
       "      <th>track_counts</th>\n",
       "      <th>tracks</th>\n",
       "    </tr>\n",
       "  </thead>\n",
       "  <tbody>\n",
       "    <tr>\n",
       "      <th>0</th>\n",
       "      <td>310741832</td>\n",
       "      <td>40935252</td>\n",
       "      <td>NaN</td>\n",
       "      <td>2035</td>\n",
       "      <td>NaN</td>\n",
       "      <td>103</td>\n",
       "      <td>273587555</td>\n",
       "      <td>NaN</td>\n",
       "      <td>2017-03-27T09:59:33Z</td>\n",
       "      <td>189</td>\n",
       "      <td>111350611,127711350,89291705,221922037,2557906...</td>\n",
       "    </tr>\n",
       "    <tr>\n",
       "      <th>1</th>\n",
       "      <td>1143112054</td>\n",
       "      <td>37740984</td>\n",
       "      <td>NaN</td>\n",
       "      <td>0</td>\n",
       "      <td>NaN</td>\n",
       "      <td>0</td>\n",
       "      <td>667588841</td>\n",
       "      <td>NaN</td>\n",
       "      <td>2020-10-10T04:28:26Z</td>\n",
       "      <td>181</td>\n",
       "      <td>877524697,877524238,877523905,877523803,877523...</td>\n",
       "    </tr>\n",
       "    <tr>\n",
       "      <th>2</th>\n",
       "      <td>971808526</td>\n",
       "      <td>15552646</td>\n",
       "      <td>NaN</td>\n",
       "      <td>12</td>\n",
       "      <td>NaN</td>\n",
       "      <td>0</td>\n",
       "      <td>769710073</td>\n",
       "      <td>NaN</td>\n",
       "      <td>2020-01-22T16:32:34Z</td>\n",
       "      <td>76</td>\n",
       "      <td>547941324,5284026,579807702,685678354,33010377...</td>\n",
       "    </tr>\n",
       "    <tr>\n",
       "      <th>3</th>\n",
       "      <td>149404857</td>\n",
       "      <td>66544676</td>\n",
       "      <td>NaN</td>\n",
       "      <td>234</td>\n",
       "      <td>NaN</td>\n",
       "      <td>28</td>\n",
       "      <td>177229326</td>\n",
       "      <td>NaN</td>\n",
       "      <td>2015-09-28T08:34:17Z</td>\n",
       "      <td>203</td>\n",
       "      <td>19320434,215361560,216352962,43248780,21468388...</td>\n",
       "    </tr>\n",
       "    <tr>\n",
       "      <th>4</th>\n",
       "      <td>361670771</td>\n",
       "      <td>9427177</td>\n",
       "      <td>NaN</td>\n",
       "      <td>5548</td>\n",
       "      <td>NaN</td>\n",
       "      <td>278</td>\n",
       "      <td>339239709</td>\n",
       "      <td>NaN</td>\n",
       "      <td>2017-10-21T14:37:16Z</td>\n",
       "      <td>50</td>\n",
       "      <td>332962988,333923891,329430750,335860168,308016...</td>\n",
       "    </tr>\n",
       "  </tbody>\n",
       "</table>\n",
       "</div>"
      ],
      "text/plain": [
       "           id  duration genre  likes_count purchase_url  reposts_count  \\\n",
       "0   310741832  40935252   NaN         2035          NaN            103   \n",
       "1  1143112054  37740984   NaN            0          NaN              0   \n",
       "2   971808526  15552646   NaN           12          NaN              0   \n",
       "3   149404857  66544676   NaN          234          NaN             28   \n",
       "4   361670771   9427177   NaN         5548          NaN            278   \n",
       "\n",
       "     user_id set_type          display_date  track_counts  \\\n",
       "0  273587555      NaN  2017-03-27T09:59:33Z           189   \n",
       "1  667588841      NaN  2020-10-10T04:28:26Z           181   \n",
       "2  769710073      NaN  2020-01-22T16:32:34Z            76   \n",
       "3  177229326      NaN  2015-09-28T08:34:17Z           203   \n",
       "4  339239709      NaN  2017-10-21T14:37:16Z            50   \n",
       "\n",
       "                                              tracks  \n",
       "0  111350611,127711350,89291705,221922037,2557906...  \n",
       "1  877524697,877524238,877523905,877523803,877523...  \n",
       "2  547941324,5284026,579807702,685678354,33010377...  \n",
       "3  19320434,215361560,216352962,43248780,21468388...  \n",
       "4  332962988,333923891,329430750,335860168,308016...  "
      ]
     },
     "execution_count": 1038,
     "metadata": {},
     "output_type": "execute_result"
    }
   ],
   "source": [
    "selected_playlist.head()"
   ]
  },
  {
   "cell_type": "markdown",
   "metadata": {},
   "source": [
    "#### b.1. Kiểm tra giá trị không hợp lệ\n",
    "\n",
    "Ta thực hiện kiểm tra sự không hợp lệ và không đồng nhất (cùng một từ nhưng từ viết hoa, từ viết thường,...) với các trường dữ liệu kiểu `categorical` là `genre`.\n",
    "\n",
    "Soundcloud chỉ chứa 41 thể loại nhạc chính thức [(Tham khảo)](https://gist.github.com/Thinkscape/8b98b82a74c102b31f5d) nhưng các giá trị unique của genre lại đạt đến 157    "
   ]
  },
  {
   "cell_type": "code",
   "execution_count": 1039,
   "metadata": {},
   "outputs": [
    {
     "data": {
      "text/plain": [
       "157"
      ]
     },
     "execution_count": 1039,
     "metadata": {},
     "output_type": "execute_result"
    }
   ],
   "source": [
    "selected_playlist['genre'].nunique()"
   ]
  },
  {
   "cell_type": "code",
   "execution_count": 1040,
   "metadata": {},
   "outputs": [
    {
     "name": "stdout",
     "output_type": "stream",
     "text": [
      "Số lượng genre của Soundcloud: 41\n"
     ]
    }
   ],
   "source": [
    "genre_lst = ['Alternative Rock',\n",
    "            'Ambient',\n",
    "            'Audiobooks',\n",
    "             'Business',\n",
    "             'Classical',\n",
    "             'Comedy',\n",
    "             'Country',\n",
    "             'Dance & EDM',\n",
    "             'Dancehall'\n",
    "             'Deep House'\n",
    "             'Disco',\n",
    "             'Drum & Bass',\n",
    "             'Dubstep',\n",
    "             'Electronic',\n",
    "             'Entertainment',\n",
    "             'Folk & Singer-Songwriter',\n",
    "             'Hip Hop & Rap',\n",
    "             'House',\n",
    "             'Indie',\n",
    "             'Jazz & Blues',\n",
    "             'Latin',\n",
    "             'Learning',\n",
    "             'Metal',\n",
    "             'News & Politics',\n",
    "             'Piano',\n",
    "             'Pop',\n",
    "             'R&B & Soul', \n",
    "             'Reggae', \n",
    "             'Reggaeton',\n",
    "             'Religion & Spirituality',\n",
    "             'Rock',\n",
    "             'Science',\n",
    "             'Soundtrack',\n",
    "             'Sports',\n",
    "             'Storytelling',\n",
    "             'Techno',\n",
    "             'Technology',\n",
    "             'Trance',\n",
    "             'Trap', \n",
    "             'Trending Audio',\n",
    "             'Trending Music',\n",
    "             'Trip Hop',\n",
    "             'World']\n",
    "print(f\"Số lượng genre của Soundcloud: {len(genre_lst)}\")"
   ]
  },
  {
   "cell_type": "code",
   "execution_count": 1041,
   "metadata": {},
   "outputs": [
    {
     "data": {
      "text/plain": [
       "array(['1017 ', '14WITHADREAM', '2014 Festival Anthem ;)', '21 Savage',\n",
       "       '21-savage', 'A BOOGIE WIT DA HOODIE', 'Alternative',\n",
       "       'Alternative Rock', 'BYLU.THOAT', 'Billie Eilish', 'Brent Faiyaz',\n",
       "       'Calboy', 'Chill', 'Chillout', 'Country', 'DA BABY', 'DaBaby',\n",
       "       'Dance', 'Dance & EDM', 'Delusional Thomas', 'Doja Cat',\n",
       "       'Drake Laugh Now Cry Later', 'Dubstep', 'Electronic',\n",
       "       'Entertainment', 'Excitement Trippie redd',\n",
       "       'For The Night Pop Smoke', 'Frank Ocean', 'French Hip Hop',\n",
       "       'Hip Hop', 'Hip Hop/Rap', 'Hip hop', 'Hip hop y Rap', 'Hip-Hop',\n",
       "       'Hip-hop & Rap', 'Hip-hop/rap', 'Hiphop', 'House', 'Iann Dior',\n",
       "       'Indie', 'JACK HARLOW', 'JESUSISKING', 'Juice WRLD', 'Kpop',\n",
       "       'LAFLAME', 'LIL DARKIE', 'LIL PEEP', 'LIL TECCA', 'LILMOSEY',\n",
       "       'LUV', 'Latin', 'Latin Music', 'Lets Link', 'Lifestyle R&B',\n",
       "       'Lil Baby', 'Lil Tecca', 'Lil Tjay', 'Lil Wayne', 'Lo-fi', 'Lofi',\n",
       "       'Lofi Chill Relax', 'MONEYBAGG YO', 'MoneyBagg Yo',\n",
       "       'Mood Swings Pop Smoke', 'Mulatto', 'NBA YoungBoy', 'NLE Choppa',\n",
       "       'Nightcore', 'PBR&B', 'POLO G', 'Party', 'Playboi Carti Leaks',\n",
       "       'Pop', 'Post Malone', 'Punk Christmas', 'R & B', 'R&B',\n",
       "       'R&B & Soul', 'RM,', 'ROD WAVE', 'Rap', 'Rap Hiphop',\n",
       "       'Rap/Hip Hop', 'Real Street Shit', 'Reggae', 'Regional Mexicano',\n",
       "       'Remixes', 'Rock', 'Rod Wave', 'Roddy Ricch', 'SHORELINE MAFIA',\n",
       "       'Sad', 'Sad Songs', 'Shadow Rap', 'Slowed and Reverb', 'Swavey',\n",
       "       'TGOD', 'TRAP', 'Tacquitos', 'The Kid Laroi', 'Tik Tok Songs',\n",
       "       'Trap', 'Travis Scott', 'Travis Scott Unreleased', 'Trippie Redd',\n",
       "       'Unreleased Don Toliver', 'Unreleased Drake',\n",
       "       'Unreleased Juice Wrld', 'Unreleased Lil Uzi Vert',\n",
       "       'Unreleased Trippie Redd', 'Unreleased Xxxtentacion', 'VOID',\n",
       "       'What You Know About Love Pop Smoke', 'World', 'YNW Melly',\n",
       "       'Ynw Melly', 'Young Thug', 'YoungBoy Never Broke Again',\n",
       "       'Yung Bleu', 'alternative', 'alternative folk',\n",
       "       'astroworld travis scott', 'cigarettes juice wrld', 'clairo',\n",
       "       'coffin lil yachty', 'country,rap,metal', 'dirty',\n",
       "       'doja cat unreleased', 'g herbo', 'hip hop', 'iann dior',\n",
       "       'lil mosey', 'lil skies', 'lilpeep', 'lofi', 'lofi hip hop',\n",
       "       'mac miller', 'memes', 'mood', 'nocopyrightsounds', 'offonoff',\n",
       "       'playboi carti', 'playboicarti', 'pop smoke',\n",
       "       'pop smoke unreleased', 'rap', 'rap ♥', 'sad', 'scfirst',\n",
       "       'shadow rap', 'tory lanez', 'wap cardi b', 'whoopty cj',\n",
       "       'wishing well juice wrld', 'woah lil baby', 'youngthug', '☿', nan],\n",
       "      dtype=object)"
      ]
     },
     "execution_count": 1041,
     "metadata": {},
     "output_type": "execute_result"
    }
   ],
   "source": [
    "selected_playlist['genre'].sort_values().unique()"
   ]
  },
  {
   "cell_type": "code",
   "execution_count": 1042,
   "metadata": {},
   "outputs": [],
   "source": [
    "invalid_genres = {'1017 ', '14WITHADREAM', '2014 Festival Anthem ;)', '21 Savage', '21-savage', 'A BOOGIE WIT DA HOODIE',\n",
    "                 'BYLU.THOAT', 'Billie Eilish', 'Brent Faiyaz', 'Calboy', 'Chill', 'Chillout', 'DA BABY', 'DaBaby',\n",
    "                 'Delusional Thomas', 'Doja Cat', 'Drake Laugh Now Cry Later', 'Excitement Trippie redd', \n",
    "                  'For The Night Pop Smoke', 'Frank Ocean', 'Iann Dior', 'LAFLAME', 'LIL DARKIE', 'LIL PEEP', 'LIL TECCA', \n",
    "                  'LILMOSEY','LUV', 'Lets Link', 'Lil Baby', 'Lil Tecca', 'Lil Tjay', 'Lil Wayne', 'MONEYBAGG YO', 'MoneyBagg Yo',\n",
    "                   'Mood Swings Pop Smoke', 'Mulatto', 'NBA YoungBoy', 'NLE Choppa', 'POLO G', 'Playboi Carti Leaks',\n",
    "                  'Post Malone', 'RM,', 'ROD WAVE', 'Real Street Shit', 'Rod Wave', 'Roddy Ricch', 'SHORELINE MAFIA',\n",
    "                 'Swavey','TGOD', 'Tacquitos', 'The Kid Laroi', 'Travis Scott', 'Travis Scott Unreleased', 'Trippie Redd',\n",
    "                   'Unreleased Don Toliver', 'Unreleased Drake', 'Unreleased Juice Wrld', 'Unreleased Lil Uzi Vert',\n",
    "                   'Unreleased Trippie Redd', 'Unreleased Xxxtentacion', 'VOID','What You Know About Love Pop Smoke',\n",
    "                 'YNW Melly', 'Ynw Melly', 'Young Thug', 'YoungBoy Never Broke Again','Yung Bleu','astroworld travis scott', \n",
    "                  'cigarettes juice wrld', 'clairo', 'coffin lil yachty','country,rap,metal', 'dirty', 'doja cat unreleased', \n",
    "                  'g herbo', 'iann dior', 'lil mosey', 'lil skies', 'lilpeep', 'mac miller', 'memes', 'mood', 'nocopyrightsounds', 'offonoff',\n",
    "               'playboi carti', 'playboicarti', 'pop smoke','pop smoke unreleased','scfirst', 'tory lanez', 'wap cardi b', 'whoopty cj',\n",
    "               'wishing well juice wrld', 'woah lil baby', 'youngthug', '☿', 'JACK HARLOW', 'JESUSISKING', 'Juice WRLD'}\n"
   ]
  },
  {
   "cell_type": "code",
   "execution_count": 1043,
   "metadata": {},
   "outputs": [
    {
     "data": {
      "text/plain": [
       "2157"
      ]
     },
     "execution_count": 1043,
     "metadata": {},
     "output_type": "execute_result"
    }
   ],
   "source": [
    "selected_playlist['genre'].isnull().sum()"
   ]
  },
  {
   "cell_type": "code",
   "execution_count": 1044,
   "metadata": {},
   "outputs": [
    {
     "name": "stderr",
     "output_type": "stream",
     "text": [
      "/home/nnbtam99/miniconda3/envs/pysyft/lib/python3.7/site-packages/pandas/core/indexing.py:1765: SettingWithCopyWarning: \n",
      "A value is trying to be set on a copy of a slice from a DataFrame.\n",
      "Try using .loc[row_indexer,col_indexer] = value instead\n",
      "\n",
      "See the caveats in the documentation: https://pandas.pydata.org/pandas-docs/stable/user_guide/indexing.html#returning-a-view-versus-a-copy\n",
      "  isetter(loc, value)\n"
     ]
    }
   ],
   "source": [
    "for index, row in selected_playlist.iterrows():\n",
    "    # chỉ xét các dòng có genre <> NaN\n",
    "    if not pd.isna(row['genre']):\n",
    "        if row['genre'] in invalid_genres:\n",
    "            selected_playlist.loc[index, 'genre'] = np.NaN"
   ]
  },
  {
   "cell_type": "code",
   "execution_count": 1045,
   "metadata": {},
   "outputs": [
    {
     "data": {
      "text/plain": [
       "2266"
      ]
     },
     "execution_count": 1045,
     "metadata": {},
     "output_type": "execute_result"
    }
   ],
   "source": [
    "# Số lượng giá trị NaN tăng lên do ta đã loại bỏ các giá trị không phải genre\n",
    "selected_playlist['genre'].isnull().sum()"
   ]
  },
  {
   "cell_type": "code",
   "execution_count": 1046,
   "metadata": {},
   "outputs": [
    {
     "name": "stderr",
     "output_type": "stream",
     "text": [
      "/home/nnbtam99/miniconda3/envs/pysyft/lib/python3.7/site-packages/ipykernel_launcher.py:2: SettingWithCopyWarning: \n",
      "A value is trying to be set on a copy of a slice from a DataFrame.\n",
      "Try using .loc[row_indexer,col_indexer] = value instead\n",
      "\n",
      "See the caveats in the documentation: https://pandas.pydata.org/pandas-docs/stable/user_guide/indexing.html#returning-a-view-versus-a-copy\n",
      "  \n"
     ]
    },
    {
     "data": {
      "text/plain": [
       "array(['alternative', 'alternative folk', 'alternative rock', 'country',\n",
       "       'dance', 'dance & edm', 'dubstep', 'electronic', 'entertainment',\n",
       "       'french hip hop', 'hip hop', 'hip hop y rap', 'hip hop/rap',\n",
       "       'hip-hop', 'hip-hop & rap', 'hip-hop/rap', 'hiphop', 'house',\n",
       "       'indie', 'kpop', 'latin', 'latin music', 'lifestyle r&b', 'lo-fi',\n",
       "       'lofi', 'lofi chill relax', 'lofi hip hop', 'nightcore', 'party',\n",
       "       'pbr&b', 'pop', 'punk christmas', 'r & b', 'r&b', 'r&b & soul',\n",
       "       'rap', 'rap hiphop', 'rap ♥', 'rap/hip hop', 'reggae',\n",
       "       'regional mexicano', 'remixes', 'rock', 'sad', 'sad songs',\n",
       "       'shadow rap', 'slowed and reverb', 'tik tok songs', 'trap',\n",
       "       'world', nan], dtype=object)"
      ]
     },
     "execution_count": 1046,
     "metadata": {},
     "output_type": "execute_result"
    }
   ],
   "source": [
    "# Xử lý các trường hợp không đồng nhất viết hoa-thường\n",
    "selected_playlist['genre'] = selected_playlist['genre'].str.lower();\n",
    "selected_playlist['genre'].sort_values().unique()"
   ]
  },
  {
   "cell_type": "code",
   "execution_count": 1047,
   "metadata": {},
   "outputs": [
    {
     "name": "stderr",
     "output_type": "stream",
     "text": [
      "/home/nnbtam99/miniconda3/envs/pysyft/lib/python3.7/site-packages/ipykernel_launcher.py:24: SettingWithCopyWarning: \n",
      "A value is trying to be set on a copy of a slice from a DataFrame.\n",
      "Try using .loc[row_indexer,col_indexer] = value instead\n",
      "\n",
      "See the caveats in the documentation: https://pandas.pydata.org/pandas-docs/stable/user_guide/indexing.html#returning-a-view-versus-a-copy\n"
     ]
    },
    {
     "data": {
      "text/plain": [
       "array(['alternative', 'alternative folk', 'alternative rock', 'country',\n",
       "       'dance', 'dance & edm', 'dubstep', 'electronic', 'entertainment',\n",
       "       'hip hop/rap', 'house', 'indie', 'kpop', 'latin', 'lo-fi',\n",
       "       'nightcore', 'party', 'pop', 'punk christmas', 'r&b & soul',\n",
       "       'reggae', 'regional mexicano', 'remixes', 'rock', 'sad',\n",
       "       'shadow rap', 'tik tok songs', 'trap', 'world', nan], dtype=object)"
      ]
     },
     "execution_count": 1047,
     "metadata": {},
     "output_type": "execute_result"
    }
   ],
   "source": [
    "# Xử lý không đồng nhất về chính tả\n",
    "spelling = {'french hip hop':'hip hop/rap',\n",
    "            'hip hop':'hip hop/rap',\n",
    "            'hip hop y rap':'hip hop/rap',\n",
    "            'hip-hop':'hip hop/rap',\n",
    "            'hip-hop & rap':'hip hop/rap',\n",
    "            'hip-hop/rap':'hip hop/rap', \n",
    "            'hiphop':'hip hop/rap',\n",
    "            'rap':'hip hop/rap',\n",
    "            'rap hiphop':'hip hop/rap', \n",
    "            'rap ♥':'hip hop/rap', \n",
    "            'rap/hip hop':'hip hop/rap',\n",
    "            'latin music': 'latin', \n",
    "            'lifestyle r&b':'r&b & soul',\n",
    "            'pbr&b':'r&b & soul', \n",
    "            'r & b':'r&b & soul', \n",
    "            'r&b':'r&b & soul', \n",
    "           'lofi':'lo-fi',\n",
    "            'lofi chill relax':'lo-fi',\n",
    "            'lofi hip hop':'lo-fi', \n",
    "            'slowed and reverb':'remixes',\n",
    "           'sad songs':'sad'}\n",
    "\n",
    "selected_playlist['genre'] = selected_playlist['genre'].replace(spelling)\n",
    "selected_playlist['genre'].sort_values().unique()"
   ]
  },
  {
   "cell_type": "code",
   "execution_count": 1048,
   "metadata": {},
   "outputs": [
    {
     "name": "stderr",
     "output_type": "stream",
     "text": [
      "/home/nnbtam99/miniconda3/envs/pysyft/lib/python3.7/site-packages/ipykernel_launcher.py:1: SettingWithCopyWarning: \n",
      "A value is trying to be set on a copy of a slice from a DataFrame.\n",
      "Try using .loc[row_indexer,col_indexer] = value instead\n",
      "\n",
      "See the caveats in the documentation: https://pandas.pydata.org/pandas-docs/stable/user_guide/indexing.html#returning-a-view-versus-a-copy\n",
      "  \"\"\"Entry point for launching an IPython kernel.\n"
     ]
    }
   ],
   "source": [
    "selected_playlist['genre'] = selected_playlist['genre'].str.capitalize();"
   ]
  },
  {
   "cell_type": "code",
   "execution_count": 1049,
   "metadata": {},
   "outputs": [
    {
     "data": {
      "text/plain": [
       "array(['Alternative', 'Alternative folk', 'Alternative rock', 'Country',\n",
       "       'Dance', 'Dance & edm', 'Dubstep', 'Electronic', 'Entertainment',\n",
       "       'Hip hop/rap', 'House', 'Indie', 'Kpop', 'Latin', 'Lo-fi',\n",
       "       'Nightcore', 'Party', 'Pop', 'Punk christmas', 'R&b & soul',\n",
       "       'Reggae', 'Regional mexicano', 'Remixes', 'Rock', 'Sad',\n",
       "       'Shadow rap', 'Tik tok songs', 'Trap', 'World', nan], dtype=object)"
      ]
     },
     "execution_count": 1049,
     "metadata": {},
     "output_type": "execute_result"
    }
   ],
   "source": [
    "# Kiểm tra sau khi xử lý các genre nhạc không hợp lệ\n",
    "selected_playlist['genre'].sort_values().unique()"
   ]
  },
  {
   "cell_type": "markdown",
   "metadata": {},
   "source": [
    "#### b.2. Kiểm tra giá trị null (missing value)"
   ]
  },
  {
   "cell_type": "code",
   "execution_count": 1050,
   "metadata": {},
   "outputs": [
    {
     "data": {
      "text/plain": [
       "id                  0\n",
       "duration            0\n",
       "genre            2266\n",
       "likes_count         0\n",
       "purchase_url     2646\n",
       "reposts_count       0\n",
       "user_id             0\n",
       "set_type         2325\n",
       "display_date        0\n",
       "track_counts        0\n",
       "tracks             19\n",
       "dtype: int64"
      ]
     },
     "execution_count": 1050,
     "metadata": {},
     "output_type": "execute_result"
    }
   ],
   "source": [
    "selected_playlist.isnull().sum()"
   ]
  },
  {
   "cell_type": "markdown",
   "metadata": {},
   "source": [
    "Ta tiến hành xử lý giá trị null của 4 thuộc tính: `genre`, `purchase_url`, `set_type` và `tracks`"
   ]
  },
  {
   "cell_type": "markdown",
   "metadata": {},
   "source": [
    "##### b1.1. purchase_url"
   ]
  },
  {
   "cell_type": "markdown",
   "metadata": {},
   "source": [
    "- Với trường `purchase_url`, nếu playlist có `purchase_url` khác null thì trường `is_purchasable = True`, ngược lại `is_purchasable = False`\n",
    "- Sau khi tạo trường `is_purchasable` ta xóa cột `purchase_url`"
   ]
  },
  {
   "cell_type": "code",
   "execution_count": 1051,
   "metadata": {},
   "outputs": [
    {
     "name": "stderr",
     "output_type": "stream",
     "text": [
      "/home/nnbtam99/miniconda3/envs/pysyft/lib/python3.7/site-packages/pandas/core/indexing.py:1596: SettingWithCopyWarning: \n",
      "A value is trying to be set on a copy of a slice from a DataFrame.\n",
      "Try using .loc[row_indexer,col_indexer] = value instead\n",
      "\n",
      "See the caveats in the documentation: https://pandas.pydata.org/pandas-docs/stable/user_guide/indexing.html#returning-a-view-versus-a-copy\n",
      "  self.obj[key] = _infer_fill_value(value)\n"
     ]
    }
   ],
   "source": [
    "selected_playlist.loc[~selected_playlist['purchase_url'].isnull(), 'is_purchasable'] = True"
   ]
  },
  {
   "cell_type": "code",
   "execution_count": 1052,
   "metadata": {},
   "outputs": [],
   "source": [
    "selected_playlist.loc[selected_playlist['purchase_url'].isnull(), 'is_purchasable'] = False"
   ]
  },
  {
   "cell_type": "code",
   "execution_count": 1053,
   "metadata": {},
   "outputs": [],
   "source": [
    "selected_playlist = selected_playlist.drop(columns=['purchase_url'])"
   ]
  },
  {
   "cell_type": "code",
   "execution_count": 1054,
   "metadata": {},
   "outputs": [
    {
     "name": "stdout",
     "output_type": "stream",
     "text": [
      "Số giá trị null trường is_purchasable: 0\n"
     ]
    }
   ],
   "source": [
    "print(f\"Số giá trị null trường is_purchasable: {selected_playlist['is_purchasable'].isnull().sum()}\")"
   ]
  },
  {
   "cell_type": "markdown",
   "metadata": {},
   "source": [
    "##### b1.2. set_type"
   ]
  },
  {
   "cell_type": "markdown",
   "metadata": {},
   "source": [
    "- Với trường `set_type`, các playlist không phải album, compilation hay episode thì ta sẽ fill bằng giá trị `normal_playlist`"
   ]
  },
  {
   "cell_type": "code",
   "execution_count": 1055,
   "metadata": {},
   "outputs": [],
   "source": [
    "set_type_na = {'set_type':'normal_playlist'}\n",
    "selected_playlist = selected_playlist.fillna(value=set_type_na)"
   ]
  },
  {
   "cell_type": "code",
   "execution_count": 1056,
   "metadata": {},
   "outputs": [
    {
     "name": "stdout",
     "output_type": "stream",
     "text": [
      "Số giá trị null trường set_type: 0\n",
      "Các giá trị trường set_type: ['normal_playlist' 'album' 'compilation' 'ep' 'single']\n"
     ]
    }
   ],
   "source": [
    "# Test sau khi fillna\n",
    "print(f\"Số giá trị null trường set_type: {selected_playlist['set_type'].isnull().sum()}\")\n",
    "print(f\"Các giá trị trường set_type: {selected_playlist['set_type'].unique()}\")      "
   ]
  },
  {
   "cell_type": "markdown",
   "metadata": {},
   "source": [
    "##### b1.3. tracks"
   ]
  },
  {
   "cell_type": "markdown",
   "metadata": {},
   "source": [
    "- Với trường `tracks`, có thể các playlist có trường này bằng null là những playlist không chứa track nào, nên ta sẽ thay trường `tracks = \" \"` (tức chuỗi rỗng).\n",
    "- Sau khi thực hiện kiểm tra, quả thật các playlist có `tracks = NaN` không chứa track nào, do đó đáng lẽ ra trường `duration` của chúng phải bằng 0. \n",
    "- Ta sẽ kiểm tra `permalink_url` của các `id` này, nếu có trường hợp `tracks = NaN` và `duration <> 0` thì ta sẽ sửa lại trường `duration` của chúng cho thống nhất. \n",
    "\n",
    "**Lưu ý: Ta sử dụng api của Soundcloud để dò tìm permalink_url từ id chứ không sử dụng permalink_url trực tiếp từ dataframe gốc**\n",
    "\n",
    "- Sau khi kiểm tra đường dẫn thực sự của các playlist này, rõ ràng chúng không chứa track nào nhưng trường `duration` lấy từ api vẫn khác 0. Ta sẽ điều chỉnh giá trị `duration = 0` và `tracks = \" \"` (chuỗi rỗng)"
   ]
  },
  {
   "cell_type": "code",
   "execution_count": 1057,
   "metadata": {},
   "outputs": [
    {
     "data": {
      "text/html": [
       "<div>\n",
       "<style scoped>\n",
       "    .dataframe tbody tr th:only-of-type {\n",
       "        vertical-align: middle;\n",
       "    }\n",
       "\n",
       "    .dataframe tbody tr th {\n",
       "        vertical-align: top;\n",
       "    }\n",
       "\n",
       "    .dataframe thead th {\n",
       "        text-align: right;\n",
       "    }\n",
       "</style>\n",
       "<table border=\"1\" class=\"dataframe\">\n",
       "  <thead>\n",
       "    <tr style=\"text-align: right;\">\n",
       "      <th></th>\n",
       "      <th>id</th>\n",
       "      <th>duration</th>\n",
       "      <th>genre</th>\n",
       "      <th>likes_count</th>\n",
       "      <th>reposts_count</th>\n",
       "      <th>user_id</th>\n",
       "      <th>set_type</th>\n",
       "      <th>display_date</th>\n",
       "      <th>track_counts</th>\n",
       "      <th>tracks</th>\n",
       "      <th>is_purchasable</th>\n",
       "    </tr>\n",
       "  </thead>\n",
       "  <tbody>\n",
       "    <tr>\n",
       "      <th>146</th>\n",
       "      <td>369995528</td>\n",
       "      <td>0</td>\n",
       "      <td>NaN</td>\n",
       "      <td>7</td>\n",
       "      <td>0</td>\n",
       "      <td>204551380</td>\n",
       "      <td>normal_playlist</td>\n",
       "      <td>2017-11-08T16:05:50Z</td>\n",
       "      <td>0</td>\n",
       "      <td>NaN</td>\n",
       "      <td>False</td>\n",
       "    </tr>\n",
       "    <tr>\n",
       "      <th>186</th>\n",
       "      <td>6668033</td>\n",
       "      <td>315849</td>\n",
       "      <td>NaN</td>\n",
       "      <td>0</td>\n",
       "      <td>0</td>\n",
       "      <td>24175139</td>\n",
       "      <td>normal_playlist</td>\n",
       "      <td>2013-06-12T22:39:55Z</td>\n",
       "      <td>0</td>\n",
       "      <td>NaN</td>\n",
       "      <td>False</td>\n",
       "    </tr>\n",
       "    <tr>\n",
       "      <th>275</th>\n",
       "      <td>15500855</td>\n",
       "      <td>249309</td>\n",
       "      <td>NaN</td>\n",
       "      <td>1</td>\n",
       "      <td>0</td>\n",
       "      <td>61990827</td>\n",
       "      <td>normal_playlist</td>\n",
       "      <td>2013-11-25T06:29:48Z</td>\n",
       "      <td>0</td>\n",
       "      <td>NaN</td>\n",
       "      <td>False</td>\n",
       "    </tr>\n",
       "    <tr>\n",
       "      <th>414</th>\n",
       "      <td>98000902</td>\n",
       "      <td>323242</td>\n",
       "      <td>NaN</td>\n",
       "      <td>0</td>\n",
       "      <td>0</td>\n",
       "      <td>143615197</td>\n",
       "      <td>normal_playlist</td>\n",
       "      <td>2015-04-13T14:42:21Z</td>\n",
       "      <td>0</td>\n",
       "      <td>NaN</td>\n",
       "      <td>False</td>\n",
       "    </tr>\n",
       "    <tr>\n",
       "      <th>563</th>\n",
       "      <td>45791266</td>\n",
       "      <td>1102020</td>\n",
       "      <td>R&amp;b &amp; soul</td>\n",
       "      <td>7184</td>\n",
       "      <td>2251</td>\n",
       "      <td>21207090</td>\n",
       "      <td>normal_playlist</td>\n",
       "      <td>2014-08-04T17:06:28Z</td>\n",
       "      <td>0</td>\n",
       "      <td>NaN</td>\n",
       "      <td>True</td>\n",
       "    </tr>\n",
       "    <tr>\n",
       "      <th>1171</th>\n",
       "      <td>224254822</td>\n",
       "      <td>0</td>\n",
       "      <td>NaN</td>\n",
       "      <td>59</td>\n",
       "      <td>11</td>\n",
       "      <td>225368471</td>\n",
       "      <td>normal_playlist</td>\n",
       "      <td>2016-05-12T01:06:10Z</td>\n",
       "      <td>0</td>\n",
       "      <td>NaN</td>\n",
       "      <td>False</td>\n",
       "    </tr>\n",
       "    <tr>\n",
       "      <th>1197</th>\n",
       "      <td>111914794</td>\n",
       "      <td>315849</td>\n",
       "      <td>NaN</td>\n",
       "      <td>0</td>\n",
       "      <td>0</td>\n",
       "      <td>110402225</td>\n",
       "      <td>normal_playlist</td>\n",
       "      <td>2015-05-29T00:30:07Z</td>\n",
       "      <td>0</td>\n",
       "      <td>NaN</td>\n",
       "      <td>False</td>\n",
       "    </tr>\n",
       "    <tr>\n",
       "      <th>1339</th>\n",
       "      <td>6668046</td>\n",
       "      <td>315849</td>\n",
       "      <td>NaN</td>\n",
       "      <td>1</td>\n",
       "      <td>0</td>\n",
       "      <td>24175139</td>\n",
       "      <td>normal_playlist</td>\n",
       "      <td>2013-06-12T22:40:23Z</td>\n",
       "      <td>0</td>\n",
       "      <td>NaN</td>\n",
       "      <td>False</td>\n",
       "    </tr>\n",
       "    <tr>\n",
       "      <th>1390</th>\n",
       "      <td>147758921</td>\n",
       "      <td>323242</td>\n",
       "      <td>NaN</td>\n",
       "      <td>0</td>\n",
       "      <td>0</td>\n",
       "      <td>173782556</td>\n",
       "      <td>normal_playlist</td>\n",
       "      <td>2015-09-23T15:08:35Z</td>\n",
       "      <td>0</td>\n",
       "      <td>NaN</td>\n",
       "      <td>False</td>\n",
       "    </tr>\n",
       "    <tr>\n",
       "      <th>1444</th>\n",
       "      <td>177519685</td>\n",
       "      <td>648878</td>\n",
       "      <td>NaN</td>\n",
       "      <td>4</td>\n",
       "      <td>1</td>\n",
       "      <td>194345673</td>\n",
       "      <td>normal_playlist</td>\n",
       "      <td>2015-12-21T20:55:58Z</td>\n",
       "      <td>0</td>\n",
       "      <td>NaN</td>\n",
       "      <td>False</td>\n",
       "    </tr>\n",
       "    <tr>\n",
       "      <th>1449</th>\n",
       "      <td>342862343</td>\n",
       "      <td>0</td>\n",
       "      <td>NaN</td>\n",
       "      <td>16</td>\n",
       "      <td>0</td>\n",
       "      <td>316732022</td>\n",
       "      <td>normal_playlist</td>\n",
       "      <td>2017-08-04T15:54:33Z</td>\n",
       "      <td>0</td>\n",
       "      <td>NaN</td>\n",
       "      <td>False</td>\n",
       "    </tr>\n",
       "    <tr>\n",
       "      <th>1504</th>\n",
       "      <td>97988610</td>\n",
       "      <td>323242</td>\n",
       "      <td>NaN</td>\n",
       "      <td>0</td>\n",
       "      <td>0</td>\n",
       "      <td>143615197</td>\n",
       "      <td>normal_playlist</td>\n",
       "      <td>2015-04-13T13:42:55Z</td>\n",
       "      <td>0</td>\n",
       "      <td>NaN</td>\n",
       "      <td>False</td>\n",
       "    </tr>\n",
       "    <tr>\n",
       "      <th>1726</th>\n",
       "      <td>37206735</td>\n",
       "      <td>249309</td>\n",
       "      <td>NaN</td>\n",
       "      <td>0</td>\n",
       "      <td>0</td>\n",
       "      <td>95781669</td>\n",
       "      <td>normal_playlist</td>\n",
       "      <td>2014-05-29T21:11:23Z</td>\n",
       "      <td>0</td>\n",
       "      <td>NaN</td>\n",
       "      <td>False</td>\n",
       "    </tr>\n",
       "    <tr>\n",
       "      <th>1896</th>\n",
       "      <td>342368037</td>\n",
       "      <td>244625</td>\n",
       "      <td>NaN</td>\n",
       "      <td>0</td>\n",
       "      <td>0</td>\n",
       "      <td>323759976</td>\n",
       "      <td>normal_playlist</td>\n",
       "      <td>2017-08-02T14:38:41Z</td>\n",
       "      <td>0</td>\n",
       "      <td>NaN</td>\n",
       "      <td>False</td>\n",
       "    </tr>\n",
       "    <tr>\n",
       "      <th>2040</th>\n",
       "      <td>232452800</td>\n",
       "      <td>0</td>\n",
       "      <td>NaN</td>\n",
       "      <td>0</td>\n",
       "      <td>0</td>\n",
       "      <td>127207302</td>\n",
       "      <td>normal_playlist</td>\n",
       "      <td>2016-06-10T05:03:51Z</td>\n",
       "      <td>0</td>\n",
       "      <td>NaN</td>\n",
       "      <td>False</td>\n",
       "    </tr>\n",
       "    <tr>\n",
       "      <th>2135</th>\n",
       "      <td>186934179</td>\n",
       "      <td>315849</td>\n",
       "      <td>NaN</td>\n",
       "      <td>0</td>\n",
       "      <td>0</td>\n",
       "      <td>134217853</td>\n",
       "      <td>normal_playlist</td>\n",
       "      <td>2016-01-18T20:31:01Z</td>\n",
       "      <td>0</td>\n",
       "      <td>NaN</td>\n",
       "      <td>False</td>\n",
       "    </tr>\n",
       "    <tr>\n",
       "      <th>2144</th>\n",
       "      <td>19892648</td>\n",
       "      <td>249309</td>\n",
       "      <td>NaN</td>\n",
       "      <td>3</td>\n",
       "      <td>0</td>\n",
       "      <td>74443459</td>\n",
       "      <td>normal_playlist</td>\n",
       "      <td>2014-01-13T00:11:49Z</td>\n",
       "      <td>0</td>\n",
       "      <td>NaN</td>\n",
       "      <td>False</td>\n",
       "    </tr>\n",
       "    <tr>\n",
       "      <th>2264</th>\n",
       "      <td>1147842298</td>\n",
       "      <td>0</td>\n",
       "      <td>NaN</td>\n",
       "      <td>0</td>\n",
       "      <td>0</td>\n",
       "      <td>303971218</td>\n",
       "      <td>normal_playlist</td>\n",
       "      <td>2020-10-18T17:45:37Z</td>\n",
       "      <td>0</td>\n",
       "      <td>NaN</td>\n",
       "      <td>False</td>\n",
       "    </tr>\n",
       "    <tr>\n",
       "      <th>2572</th>\n",
       "      <td>1114834351</td>\n",
       "      <td>120164</td>\n",
       "      <td>NaN</td>\n",
       "      <td>2</td>\n",
       "      <td>0</td>\n",
       "      <td>870760189</td>\n",
       "      <td>normal_playlist</td>\n",
       "      <td>2020-08-21T16:55:11Z</td>\n",
       "      <td>0</td>\n",
       "      <td>NaN</td>\n",
       "      <td>False</td>\n",
       "    </tr>\n",
       "  </tbody>\n",
       "</table>\n",
       "</div>"
      ],
      "text/plain": [
       "              id  duration       genre  likes_count  reposts_count    user_id  \\\n",
       "146    369995528         0         NaN            7              0  204551380   \n",
       "186      6668033    315849         NaN            0              0   24175139   \n",
       "275     15500855    249309         NaN            1              0   61990827   \n",
       "414     98000902    323242         NaN            0              0  143615197   \n",
       "563     45791266   1102020  R&b & soul         7184           2251   21207090   \n",
       "1171   224254822         0         NaN           59             11  225368471   \n",
       "1197   111914794    315849         NaN            0              0  110402225   \n",
       "1339     6668046    315849         NaN            1              0   24175139   \n",
       "1390   147758921    323242         NaN            0              0  173782556   \n",
       "1444   177519685    648878         NaN            4              1  194345673   \n",
       "1449   342862343         0         NaN           16              0  316732022   \n",
       "1504    97988610    323242         NaN            0              0  143615197   \n",
       "1726    37206735    249309         NaN            0              0   95781669   \n",
       "1896   342368037    244625         NaN            0              0  323759976   \n",
       "2040   232452800         0         NaN            0              0  127207302   \n",
       "2135   186934179    315849         NaN            0              0  134217853   \n",
       "2144    19892648    249309         NaN            3              0   74443459   \n",
       "2264  1147842298         0         NaN            0              0  303971218   \n",
       "2572  1114834351    120164         NaN            2              0  870760189   \n",
       "\n",
       "             set_type          display_date  track_counts tracks  \\\n",
       "146   normal_playlist  2017-11-08T16:05:50Z             0    NaN   \n",
       "186   normal_playlist  2013-06-12T22:39:55Z             0    NaN   \n",
       "275   normal_playlist  2013-11-25T06:29:48Z             0    NaN   \n",
       "414   normal_playlist  2015-04-13T14:42:21Z             0    NaN   \n",
       "563   normal_playlist  2014-08-04T17:06:28Z             0    NaN   \n",
       "1171  normal_playlist  2016-05-12T01:06:10Z             0    NaN   \n",
       "1197  normal_playlist  2015-05-29T00:30:07Z             0    NaN   \n",
       "1339  normal_playlist  2013-06-12T22:40:23Z             0    NaN   \n",
       "1390  normal_playlist  2015-09-23T15:08:35Z             0    NaN   \n",
       "1444  normal_playlist  2015-12-21T20:55:58Z             0    NaN   \n",
       "1449  normal_playlist  2017-08-04T15:54:33Z             0    NaN   \n",
       "1504  normal_playlist  2015-04-13T13:42:55Z             0    NaN   \n",
       "1726  normal_playlist  2014-05-29T21:11:23Z             0    NaN   \n",
       "1896  normal_playlist  2017-08-02T14:38:41Z             0    NaN   \n",
       "2040  normal_playlist  2016-06-10T05:03:51Z             0    NaN   \n",
       "2135  normal_playlist  2016-01-18T20:31:01Z             0    NaN   \n",
       "2144  normal_playlist  2014-01-13T00:11:49Z             0    NaN   \n",
       "2264  normal_playlist  2020-10-18T17:45:37Z             0    NaN   \n",
       "2572  normal_playlist  2020-08-21T16:55:11Z             0    NaN   \n",
       "\n",
       "     is_purchasable  \n",
       "146           False  \n",
       "186           False  \n",
       "275           False  \n",
       "414           False  \n",
       "563            True  \n",
       "1171          False  \n",
       "1197          False  \n",
       "1339          False  \n",
       "1390          False  \n",
       "1444          False  \n",
       "1449          False  \n",
       "1504          False  \n",
       "1726          False  \n",
       "1896          False  \n",
       "2040          False  \n",
       "2135          False  \n",
       "2144          False  \n",
       "2264          False  \n",
       "2572          False  "
      ]
     },
     "execution_count": 1057,
     "metadata": {},
     "output_type": "execute_result"
    }
   ],
   "source": [
    "# Lỗi không thống nhất: Các playlist không chứa tracks (track_counts = 0 và tracks = NaN) lại có duration <> 0\n",
    "selected_playlist[(selected_playlist['tracks'].isnull())]"
   ]
  },
  {
   "cell_type": "code",
   "execution_count": 1058,
   "metadata": {},
   "outputs": [],
   "source": [
    "selected_playlist.loc[(selected_playlist['tracks'].isnull()), 'duration'] = 0"
   ]
  },
  {
   "cell_type": "code",
   "execution_count": 1059,
   "metadata": {},
   "outputs": [
    {
     "data": {
      "text/html": [
       "<div>\n",
       "<style scoped>\n",
       "    .dataframe tbody tr th:only-of-type {\n",
       "        vertical-align: middle;\n",
       "    }\n",
       "\n",
       "    .dataframe tbody tr th {\n",
       "        vertical-align: top;\n",
       "    }\n",
       "\n",
       "    .dataframe thead th {\n",
       "        text-align: right;\n",
       "    }\n",
       "</style>\n",
       "<table border=\"1\" class=\"dataframe\">\n",
       "  <thead>\n",
       "    <tr style=\"text-align: right;\">\n",
       "      <th></th>\n",
       "      <th>id</th>\n",
       "      <th>duration</th>\n",
       "      <th>genre</th>\n",
       "      <th>likes_count</th>\n",
       "      <th>reposts_count</th>\n",
       "      <th>user_id</th>\n",
       "      <th>set_type</th>\n",
       "      <th>display_date</th>\n",
       "      <th>track_counts</th>\n",
       "      <th>tracks</th>\n",
       "      <th>is_purchasable</th>\n",
       "    </tr>\n",
       "  </thead>\n",
       "  <tbody>\n",
       "    <tr>\n",
       "      <th>146</th>\n",
       "      <td>369995528</td>\n",
       "      <td>0</td>\n",
       "      <td>NaN</td>\n",
       "      <td>7</td>\n",
       "      <td>0</td>\n",
       "      <td>204551380</td>\n",
       "      <td>normal_playlist</td>\n",
       "      <td>2017-11-08T16:05:50Z</td>\n",
       "      <td>0</td>\n",
       "      <td>NaN</td>\n",
       "      <td>False</td>\n",
       "    </tr>\n",
       "    <tr>\n",
       "      <th>186</th>\n",
       "      <td>6668033</td>\n",
       "      <td>0</td>\n",
       "      <td>NaN</td>\n",
       "      <td>0</td>\n",
       "      <td>0</td>\n",
       "      <td>24175139</td>\n",
       "      <td>normal_playlist</td>\n",
       "      <td>2013-06-12T22:39:55Z</td>\n",
       "      <td>0</td>\n",
       "      <td>NaN</td>\n",
       "      <td>False</td>\n",
       "    </tr>\n",
       "    <tr>\n",
       "      <th>275</th>\n",
       "      <td>15500855</td>\n",
       "      <td>0</td>\n",
       "      <td>NaN</td>\n",
       "      <td>1</td>\n",
       "      <td>0</td>\n",
       "      <td>61990827</td>\n",
       "      <td>normal_playlist</td>\n",
       "      <td>2013-11-25T06:29:48Z</td>\n",
       "      <td>0</td>\n",
       "      <td>NaN</td>\n",
       "      <td>False</td>\n",
       "    </tr>\n",
       "    <tr>\n",
       "      <th>414</th>\n",
       "      <td>98000902</td>\n",
       "      <td>0</td>\n",
       "      <td>NaN</td>\n",
       "      <td>0</td>\n",
       "      <td>0</td>\n",
       "      <td>143615197</td>\n",
       "      <td>normal_playlist</td>\n",
       "      <td>2015-04-13T14:42:21Z</td>\n",
       "      <td>0</td>\n",
       "      <td>NaN</td>\n",
       "      <td>False</td>\n",
       "    </tr>\n",
       "    <tr>\n",
       "      <th>563</th>\n",
       "      <td>45791266</td>\n",
       "      <td>0</td>\n",
       "      <td>R&amp;b &amp; soul</td>\n",
       "      <td>7184</td>\n",
       "      <td>2251</td>\n",
       "      <td>21207090</td>\n",
       "      <td>normal_playlist</td>\n",
       "      <td>2014-08-04T17:06:28Z</td>\n",
       "      <td>0</td>\n",
       "      <td>NaN</td>\n",
       "      <td>True</td>\n",
       "    </tr>\n",
       "    <tr>\n",
       "      <th>1171</th>\n",
       "      <td>224254822</td>\n",
       "      <td>0</td>\n",
       "      <td>NaN</td>\n",
       "      <td>59</td>\n",
       "      <td>11</td>\n",
       "      <td>225368471</td>\n",
       "      <td>normal_playlist</td>\n",
       "      <td>2016-05-12T01:06:10Z</td>\n",
       "      <td>0</td>\n",
       "      <td>NaN</td>\n",
       "      <td>False</td>\n",
       "    </tr>\n",
       "    <tr>\n",
       "      <th>1197</th>\n",
       "      <td>111914794</td>\n",
       "      <td>0</td>\n",
       "      <td>NaN</td>\n",
       "      <td>0</td>\n",
       "      <td>0</td>\n",
       "      <td>110402225</td>\n",
       "      <td>normal_playlist</td>\n",
       "      <td>2015-05-29T00:30:07Z</td>\n",
       "      <td>0</td>\n",
       "      <td>NaN</td>\n",
       "      <td>False</td>\n",
       "    </tr>\n",
       "    <tr>\n",
       "      <th>1339</th>\n",
       "      <td>6668046</td>\n",
       "      <td>0</td>\n",
       "      <td>NaN</td>\n",
       "      <td>1</td>\n",
       "      <td>0</td>\n",
       "      <td>24175139</td>\n",
       "      <td>normal_playlist</td>\n",
       "      <td>2013-06-12T22:40:23Z</td>\n",
       "      <td>0</td>\n",
       "      <td>NaN</td>\n",
       "      <td>False</td>\n",
       "    </tr>\n",
       "    <tr>\n",
       "      <th>1390</th>\n",
       "      <td>147758921</td>\n",
       "      <td>0</td>\n",
       "      <td>NaN</td>\n",
       "      <td>0</td>\n",
       "      <td>0</td>\n",
       "      <td>173782556</td>\n",
       "      <td>normal_playlist</td>\n",
       "      <td>2015-09-23T15:08:35Z</td>\n",
       "      <td>0</td>\n",
       "      <td>NaN</td>\n",
       "      <td>False</td>\n",
       "    </tr>\n",
       "    <tr>\n",
       "      <th>1444</th>\n",
       "      <td>177519685</td>\n",
       "      <td>0</td>\n",
       "      <td>NaN</td>\n",
       "      <td>4</td>\n",
       "      <td>1</td>\n",
       "      <td>194345673</td>\n",
       "      <td>normal_playlist</td>\n",
       "      <td>2015-12-21T20:55:58Z</td>\n",
       "      <td>0</td>\n",
       "      <td>NaN</td>\n",
       "      <td>False</td>\n",
       "    </tr>\n",
       "    <tr>\n",
       "      <th>1449</th>\n",
       "      <td>342862343</td>\n",
       "      <td>0</td>\n",
       "      <td>NaN</td>\n",
       "      <td>16</td>\n",
       "      <td>0</td>\n",
       "      <td>316732022</td>\n",
       "      <td>normal_playlist</td>\n",
       "      <td>2017-08-04T15:54:33Z</td>\n",
       "      <td>0</td>\n",
       "      <td>NaN</td>\n",
       "      <td>False</td>\n",
       "    </tr>\n",
       "    <tr>\n",
       "      <th>1504</th>\n",
       "      <td>97988610</td>\n",
       "      <td>0</td>\n",
       "      <td>NaN</td>\n",
       "      <td>0</td>\n",
       "      <td>0</td>\n",
       "      <td>143615197</td>\n",
       "      <td>normal_playlist</td>\n",
       "      <td>2015-04-13T13:42:55Z</td>\n",
       "      <td>0</td>\n",
       "      <td>NaN</td>\n",
       "      <td>False</td>\n",
       "    </tr>\n",
       "    <tr>\n",
       "      <th>1726</th>\n",
       "      <td>37206735</td>\n",
       "      <td>0</td>\n",
       "      <td>NaN</td>\n",
       "      <td>0</td>\n",
       "      <td>0</td>\n",
       "      <td>95781669</td>\n",
       "      <td>normal_playlist</td>\n",
       "      <td>2014-05-29T21:11:23Z</td>\n",
       "      <td>0</td>\n",
       "      <td>NaN</td>\n",
       "      <td>False</td>\n",
       "    </tr>\n",
       "    <tr>\n",
       "      <th>1896</th>\n",
       "      <td>342368037</td>\n",
       "      <td>0</td>\n",
       "      <td>NaN</td>\n",
       "      <td>0</td>\n",
       "      <td>0</td>\n",
       "      <td>323759976</td>\n",
       "      <td>normal_playlist</td>\n",
       "      <td>2017-08-02T14:38:41Z</td>\n",
       "      <td>0</td>\n",
       "      <td>NaN</td>\n",
       "      <td>False</td>\n",
       "    </tr>\n",
       "    <tr>\n",
       "      <th>2040</th>\n",
       "      <td>232452800</td>\n",
       "      <td>0</td>\n",
       "      <td>NaN</td>\n",
       "      <td>0</td>\n",
       "      <td>0</td>\n",
       "      <td>127207302</td>\n",
       "      <td>normal_playlist</td>\n",
       "      <td>2016-06-10T05:03:51Z</td>\n",
       "      <td>0</td>\n",
       "      <td>NaN</td>\n",
       "      <td>False</td>\n",
       "    </tr>\n",
       "    <tr>\n",
       "      <th>2135</th>\n",
       "      <td>186934179</td>\n",
       "      <td>0</td>\n",
       "      <td>NaN</td>\n",
       "      <td>0</td>\n",
       "      <td>0</td>\n",
       "      <td>134217853</td>\n",
       "      <td>normal_playlist</td>\n",
       "      <td>2016-01-18T20:31:01Z</td>\n",
       "      <td>0</td>\n",
       "      <td>NaN</td>\n",
       "      <td>False</td>\n",
       "    </tr>\n",
       "    <tr>\n",
       "      <th>2144</th>\n",
       "      <td>19892648</td>\n",
       "      <td>0</td>\n",
       "      <td>NaN</td>\n",
       "      <td>3</td>\n",
       "      <td>0</td>\n",
       "      <td>74443459</td>\n",
       "      <td>normal_playlist</td>\n",
       "      <td>2014-01-13T00:11:49Z</td>\n",
       "      <td>0</td>\n",
       "      <td>NaN</td>\n",
       "      <td>False</td>\n",
       "    </tr>\n",
       "    <tr>\n",
       "      <th>2264</th>\n",
       "      <td>1147842298</td>\n",
       "      <td>0</td>\n",
       "      <td>NaN</td>\n",
       "      <td>0</td>\n",
       "      <td>0</td>\n",
       "      <td>303971218</td>\n",
       "      <td>normal_playlist</td>\n",
       "      <td>2020-10-18T17:45:37Z</td>\n",
       "      <td>0</td>\n",
       "      <td>NaN</td>\n",
       "      <td>False</td>\n",
       "    </tr>\n",
       "    <tr>\n",
       "      <th>2572</th>\n",
       "      <td>1114834351</td>\n",
       "      <td>0</td>\n",
       "      <td>NaN</td>\n",
       "      <td>2</td>\n",
       "      <td>0</td>\n",
       "      <td>870760189</td>\n",
       "      <td>normal_playlist</td>\n",
       "      <td>2020-08-21T16:55:11Z</td>\n",
       "      <td>0</td>\n",
       "      <td>NaN</td>\n",
       "      <td>False</td>\n",
       "    </tr>\n",
       "  </tbody>\n",
       "</table>\n",
       "</div>"
      ],
      "text/plain": [
       "              id  duration       genre  likes_count  reposts_count    user_id  \\\n",
       "146    369995528         0         NaN            7              0  204551380   \n",
       "186      6668033         0         NaN            0              0   24175139   \n",
       "275     15500855         0         NaN            1              0   61990827   \n",
       "414     98000902         0         NaN            0              0  143615197   \n",
       "563     45791266         0  R&b & soul         7184           2251   21207090   \n",
       "1171   224254822         0         NaN           59             11  225368471   \n",
       "1197   111914794         0         NaN            0              0  110402225   \n",
       "1339     6668046         0         NaN            1              0   24175139   \n",
       "1390   147758921         0         NaN            0              0  173782556   \n",
       "1444   177519685         0         NaN            4              1  194345673   \n",
       "1449   342862343         0         NaN           16              0  316732022   \n",
       "1504    97988610         0         NaN            0              0  143615197   \n",
       "1726    37206735         0         NaN            0              0   95781669   \n",
       "1896   342368037         0         NaN            0              0  323759976   \n",
       "2040   232452800         0         NaN            0              0  127207302   \n",
       "2135   186934179         0         NaN            0              0  134217853   \n",
       "2144    19892648         0         NaN            3              0   74443459   \n",
       "2264  1147842298         0         NaN            0              0  303971218   \n",
       "2572  1114834351         0         NaN            2              0  870760189   \n",
       "\n",
       "             set_type          display_date  track_counts tracks  \\\n",
       "146   normal_playlist  2017-11-08T16:05:50Z             0    NaN   \n",
       "186   normal_playlist  2013-06-12T22:39:55Z             0    NaN   \n",
       "275   normal_playlist  2013-11-25T06:29:48Z             0    NaN   \n",
       "414   normal_playlist  2015-04-13T14:42:21Z             0    NaN   \n",
       "563   normal_playlist  2014-08-04T17:06:28Z             0    NaN   \n",
       "1171  normal_playlist  2016-05-12T01:06:10Z             0    NaN   \n",
       "1197  normal_playlist  2015-05-29T00:30:07Z             0    NaN   \n",
       "1339  normal_playlist  2013-06-12T22:40:23Z             0    NaN   \n",
       "1390  normal_playlist  2015-09-23T15:08:35Z             0    NaN   \n",
       "1444  normal_playlist  2015-12-21T20:55:58Z             0    NaN   \n",
       "1449  normal_playlist  2017-08-04T15:54:33Z             0    NaN   \n",
       "1504  normal_playlist  2015-04-13T13:42:55Z             0    NaN   \n",
       "1726  normal_playlist  2014-05-29T21:11:23Z             0    NaN   \n",
       "1896  normal_playlist  2017-08-02T14:38:41Z             0    NaN   \n",
       "2040  normal_playlist  2016-06-10T05:03:51Z             0    NaN   \n",
       "2135  normal_playlist  2016-01-18T20:31:01Z             0    NaN   \n",
       "2144  normal_playlist  2014-01-13T00:11:49Z             0    NaN   \n",
       "2264  normal_playlist  2020-10-18T17:45:37Z             0    NaN   \n",
       "2572  normal_playlist  2020-08-21T16:55:11Z             0    NaN   \n",
       "\n",
       "     is_purchasable  \n",
       "146           False  \n",
       "186           False  \n",
       "275           False  \n",
       "414           False  \n",
       "563            True  \n",
       "1171          False  \n",
       "1197          False  \n",
       "1339          False  \n",
       "1390          False  \n",
       "1444          False  \n",
       "1449          False  \n",
       "1504          False  \n",
       "1726          False  \n",
       "1896          False  \n",
       "2040          False  \n",
       "2135          False  \n",
       "2144          False  \n",
       "2264          False  \n",
       "2572          False  "
      ]
     },
     "execution_count": 1059,
     "metadata": {},
     "output_type": "execute_result"
    }
   ],
   "source": [
    "# Kiểm tra việc xử lý bất thống nhất dữ liệu \n",
    "selected_playlist[(selected_playlist['tracks'].isnull())]"
   ]
  },
  {
   "cell_type": "code",
   "execution_count": 1060,
   "metadata": {},
   "outputs": [],
   "source": [
    "tracks_na = {'tracks':'\" \"'}\n",
    "selected_playlist = selected_playlist.fillna(value=tracks_na)"
   ]
  },
  {
   "cell_type": "code",
   "execution_count": 1061,
   "metadata": {},
   "outputs": [
    {
     "name": "stdout",
     "output_type": "stream",
     "text": [
      "Số playlist có trường tracks là null: 0\n"
     ]
    }
   ],
   "source": [
    "# Test sau khi fill na cho tracks\n",
    "print(f\"Số playlist có trường tracks là null: {selected_playlist['tracks'].isnull().sum()}\")"
   ]
  },
  {
   "cell_type": "markdown",
   "metadata": {},
   "source": [
    "##### b1.4. genre\n",
    "- Do có khá nhiều playlist có trường `genre` bằng null, ta sẽ điền giá trị null bằng cách:\n",
    "    - Ghép hai bảng **playlists** và **tracks**\n",
    "    - Xác định thể loại của các track thuộc từng playlist và chọn thể loại xuất hiện nhiều nhất làm thể loại của playlist\n",
    "    \n",
    "**Lưu ý: Do trường tracks hiện tại đang còn giá trị null nên ta xử lý trường genre sau tracks**"
   ]
  },
  {
   "cell_type": "code",
   "execution_count": 1062,
   "metadata": {},
   "outputs": [],
   "source": [
    "raw_tracks = pd.read_csv('Crawl_data/tracks.csv', sep='\\t')\n",
    "raw_tracks = raw_tracks[['id', 'genre']]"
   ]
  },
  {
   "cell_type": "markdown",
   "metadata": {},
   "source": [
    "Để đơn giản, ta bỏ các track có `genre = NaN` để tránh việc genre phổ biến nhất của 5 track là NaN"
   ]
  },
  {
   "cell_type": "code",
   "execution_count": 1063,
   "metadata": {},
   "outputs": [],
   "source": [
    "raw_tracks = raw_tracks.dropna(subset=['genre'])"
   ]
  },
  {
   "cell_type": "code",
   "execution_count": 1064,
   "metadata": {},
   "outputs": [],
   "source": [
    "# Fillna cho genre của các playlist\n",
    "\n",
    "for index, row in selected_playlist.iterrows():\n",
    "    # chỉ xét các dòng có genre = NaN\n",
    "    if pd.isna(row['genre']):\n",
    "        # do ta chỉ lấy 5 track của mỗi playlist nên chỉ cần lấy 5 phần tử đầu của chuỗi tracks\n",
    "        track_lst = row['tracks'].split(',')[:5] \n",
    "        res = raw_tracks.loc[raw_tracks['id'].isin(track_lst)]\n",
    "        if not res.empty:\n",
    "            # lấy genre phổ biến nhất trong 5 track của playlist\n",
    "            selected_playlist.loc[index, 'genre'] = res['genre'].mode()[0]"
   ]
  },
  {
   "cell_type": "code",
   "execution_count": 1065,
   "metadata": {},
   "outputs": [
    {
     "data": {
      "text/plain": [
       "id                 0\n",
       "duration           0\n",
       "genre             67\n",
       "likes_count        0\n",
       "reposts_count      0\n",
       "user_id            0\n",
       "set_type           0\n",
       "display_date       0\n",
       "track_counts       0\n",
       "tracks             0\n",
       "is_purchasable     0\n",
       "dtype: int64"
      ]
     },
     "execution_count": 1065,
     "metadata": {},
     "output_type": "execute_result"
    }
   ],
   "source": [
    "# Kiểm tra sau khi xử lý missing value của genre\n",
    "selected_playlist.isnull().sum()"
   ]
  },
  {
   "cell_type": "markdown",
   "metadata": {},
   "source": [
    "Có vẻ như cách xử lý này đem lại hiệu quả khá tốt khi giảm số lượng giá trị NaN từ 2266 xuống còn 67.\n",
    "\n",
    "Dự kiến cách xử lý 67 mẫu dữ liệu còn lại là xử lý bằng tay (manual) nên ta sẽ loại các mẫu ít giá trị với đặc điểm sau:\n",
    "- duration = 0\n",
    "- duration <> 0, likes_count < 1000 và reposts_count < 1000\n",
    "\n",
    "Ngưỡng 1000 là giá trị do người lập trình quy định"
   ]
  },
  {
   "cell_type": "code",
   "execution_count": 1066,
   "metadata": {},
   "outputs": [],
   "source": [
    "# Drop các dòng có duration = 0\n",
    "duration_0 = selected_playlist[(selected_playlist['duration'] == 0) & (selected_playlist['genre'].isnull())]\n",
    "selected_playlist = selected_playlist.drop(duration_0.index)"
   ]
  },
  {
   "cell_type": "code",
   "execution_count": 1067,
   "metadata": {},
   "outputs": [],
   "source": [
    "# Drop các dòng có duration <> 0, likes_count < 1000 hoặc reposts_count < 1000\n",
    "likes_count_50 = selected_playlist[((selected_playlist['likes_count'] < 1000) | (selected_playlist['reposts_count'] < 1000)) & (selected_playlist['genre'].isnull())]\n",
    "selected_playlist = selected_playlist.drop(likes_count_50.index)"
   ]
  },
  {
   "cell_type": "code",
   "execution_count": 1068,
   "metadata": {},
   "outputs": [
    {
     "data": {
      "text/plain": [
       "id                 0\n",
       "duration           0\n",
       "genre             13\n",
       "likes_count        0\n",
       "reposts_count      0\n",
       "user_id            0\n",
       "set_type           0\n",
       "display_date       0\n",
       "track_counts       0\n",
       "tracks             0\n",
       "is_purchasable     0\n",
       "dtype: int64"
      ]
     },
     "execution_count": 1068,
     "metadata": {},
     "output_type": "execute_result"
    }
   ],
   "source": [
    "# Bằng điều kiện đặt ra, ta giới hạn số mẫu cần kiểm thử bằng tay còn 15 mẫu\n",
    "selected_playlist.isnull().sum()"
   ]
  },
  {
   "cell_type": "code",
   "execution_count": 1069,
   "metadata": {},
   "outputs": [
    {
     "data": {
      "text/html": [
       "<div>\n",
       "<style scoped>\n",
       "    .dataframe tbody tr th:only-of-type {\n",
       "        vertical-align: middle;\n",
       "    }\n",
       "\n",
       "    .dataframe tbody tr th {\n",
       "        vertical-align: top;\n",
       "    }\n",
       "\n",
       "    .dataframe thead th {\n",
       "        text-align: right;\n",
       "    }\n",
       "</style>\n",
       "<table border=\"1\" class=\"dataframe\">\n",
       "  <thead>\n",
       "    <tr style=\"text-align: right;\">\n",
       "      <th></th>\n",
       "      <th>id</th>\n",
       "      <th>duration</th>\n",
       "      <th>genre</th>\n",
       "      <th>likes_count</th>\n",
       "      <th>reposts_count</th>\n",
       "      <th>user_id</th>\n",
       "      <th>set_type</th>\n",
       "      <th>display_date</th>\n",
       "      <th>track_counts</th>\n",
       "      <th>tracks</th>\n",
       "      <th>is_purchasable</th>\n",
       "    </tr>\n",
       "  </thead>\n",
       "  <tbody>\n",
       "    <tr>\n",
       "      <th>27</th>\n",
       "      <td>238501253</td>\n",
       "      <td>523279</td>\n",
       "      <td>NaN</td>\n",
       "      <td>81814</td>\n",
       "      <td>4581</td>\n",
       "      <td>70601494</td>\n",
       "      <td>normal_playlist</td>\n",
       "      <td>2016-07-04T05:36:20Z</td>\n",
       "      <td>3</td>\n",
       "      <td>272081697,272081435,272080462</td>\n",
       "      <td>False</td>\n",
       "    </tr>\n",
       "    <tr>\n",
       "      <th>105</th>\n",
       "      <td>5914614</td>\n",
       "      <td>3187375</td>\n",
       "      <td>NaN</td>\n",
       "      <td>166616</td>\n",
       "      <td>13606</td>\n",
       "      <td>40174345</td>\n",
       "      <td>album</td>\n",
       "      <td>2013-05-21T20:55:56Z</td>\n",
       "      <td>14</td>\n",
       "      <td>93264012,93264013,93264014,93264015,93264016,9...</td>\n",
       "      <td>False</td>\n",
       "    </tr>\n",
       "    <tr>\n",
       "      <th>391</th>\n",
       "      <td>745124844</td>\n",
       "      <td>952327</td>\n",
       "      <td>NaN</td>\n",
       "      <td>27358</td>\n",
       "      <td>2415</td>\n",
       "      <td>28970722</td>\n",
       "      <td>normal_playlist</td>\n",
       "      <td>2019-04-03T23:30:14Z</td>\n",
       "      <td>4</td>\n",
       "      <td>600572022,600572007,600571983,600571947</td>\n",
       "      <td>False</td>\n",
       "    </tr>\n",
       "    <tr>\n",
       "      <th>660</th>\n",
       "      <td>232663900</td>\n",
       "      <td>1918277</td>\n",
       "      <td>NaN</td>\n",
       "      <td>191298</td>\n",
       "      <td>17184</td>\n",
       "      <td>70601494</td>\n",
       "      <td>normal_playlist</td>\n",
       "      <td>2016-06-11T01:37:24Z</td>\n",
       "      <td>11</td>\n",
       "      <td>268546390,268546291,268546234,268546180,261904...</td>\n",
       "      <td>False</td>\n",
       "    </tr>\n",
       "    <tr>\n",
       "      <th>776</th>\n",
       "      <td>510100800</td>\n",
       "      <td>1772220</td>\n",
       "      <td>NaN</td>\n",
       "      <td>51611</td>\n",
       "      <td>5185</td>\n",
       "      <td>67377000</td>\n",
       "      <td>normal_playlist</td>\n",
       "      <td>2018-05-01T01:59:05Z</td>\n",
       "      <td>3</td>\n",
       "      <td>346168006,377749574,370579751</td>\n",
       "      <td>False</td>\n",
       "    </tr>\n",
       "    <tr>\n",
       "      <th>938</th>\n",
       "      <td>1055757508</td>\n",
       "      <td>3006484</td>\n",
       "      <td>NaN</td>\n",
       "      <td>40760</td>\n",
       "      <td>2083</td>\n",
       "      <td>577909794</td>\n",
       "      <td>normal_playlist</td>\n",
       "      <td>2020-05-22T04:00:44Z</td>\n",
       "      <td>18</td>\n",
       "      <td>825583921,825583918,825583897,825583876,825583...</td>\n",
       "      <td>False</td>\n",
       "    </tr>\n",
       "    <tr>\n",
       "      <th>945</th>\n",
       "      <td>246349810</td>\n",
       "      <td>1952250</td>\n",
       "      <td>NaN</td>\n",
       "      <td>256005</td>\n",
       "      <td>42345</td>\n",
       "      <td>10494998</td>\n",
       "      <td>normal_playlist</td>\n",
       "      <td>2016-07-31T22:08:45Z</td>\n",
       "      <td>10</td>\n",
       "      <td>276206960,276233032,276233401,276233719,276233...</td>\n",
       "      <td>False</td>\n",
       "    </tr>\n",
       "    <tr>\n",
       "      <th>1807</th>\n",
       "      <td>620015283</td>\n",
       "      <td>1762922</td>\n",
       "      <td>NaN</td>\n",
       "      <td>31961</td>\n",
       "      <td>4148</td>\n",
       "      <td>46143974</td>\n",
       "      <td>album</td>\n",
       "      <td>2018-10-10T04:31:11Z</td>\n",
       "      <td>12</td>\n",
       "      <td>512131077,512131044,512131011,512130987,512130...</td>\n",
       "      <td>False</td>\n",
       "    </tr>\n",
       "    <tr>\n",
       "      <th>1887</th>\n",
       "      <td>341715990</td>\n",
       "      <td>48898451</td>\n",
       "      <td>NaN</td>\n",
       "      <td>79448</td>\n",
       "      <td>10413</td>\n",
       "      <td>160760950</td>\n",
       "      <td>normal_playlist</td>\n",
       "      <td>2017-07-30T20:41:47Z</td>\n",
       "      <td>276</td>\n",
       "      <td>284653251,284653159,284653120,284652973,284652...</td>\n",
       "      <td>False</td>\n",
       "    </tr>\n",
       "    <tr>\n",
       "      <th>2203</th>\n",
       "      <td>236100282</td>\n",
       "      <td>3263532</td>\n",
       "      <td>NaN</td>\n",
       "      <td>179391</td>\n",
       "      <td>27671</td>\n",
       "      <td>7436630</td>\n",
       "      <td>album</td>\n",
       "      <td>2016-06-24T22:16:31Z</td>\n",
       "      <td>16</td>\n",
       "      <td>270727639,270727618,270727583,270727654,270727...</td>\n",
       "      <td>False</td>\n",
       "    </tr>\n",
       "    <tr>\n",
       "      <th>2339</th>\n",
       "      <td>537883152</td>\n",
       "      <td>2364732</td>\n",
       "      <td>NaN</td>\n",
       "      <td>42514</td>\n",
       "      <td>2101</td>\n",
       "      <td>351737129</td>\n",
       "      <td>album</td>\n",
       "      <td>2018-06-10T18:09:30Z</td>\n",
       "      <td>16</td>\n",
       "      <td>352718012,383347202,383347661,383347925,383345...</td>\n",
       "      <td>False</td>\n",
       "    </tr>\n",
       "    <tr>\n",
       "      <th>2373</th>\n",
       "      <td>34518577</td>\n",
       "      <td>5217509</td>\n",
       "      <td>NaN</td>\n",
       "      <td>48966</td>\n",
       "      <td>3222</td>\n",
       "      <td>68485802</td>\n",
       "      <td>album</td>\n",
       "      <td>2014-05-12T02:25:58Z</td>\n",
       "      <td>24</td>\n",
       "      <td>149086617,149086625,149086629,149086630,149086...</td>\n",
       "      <td>False</td>\n",
       "    </tr>\n",
       "    <tr>\n",
       "      <th>2393</th>\n",
       "      <td>5193173</td>\n",
       "      <td>6407701</td>\n",
       "      <td>NaN</td>\n",
       "      <td>5835</td>\n",
       "      <td>2018</td>\n",
       "      <td>43126413</td>\n",
       "      <td>normal_playlist</td>\n",
       "      <td>2013-04-28T06:47:32Z</td>\n",
       "      <td>14</td>\n",
       "      <td>1053336,5684822,6678666,6523316,6873710,652342...</td>\n",
       "      <td>False</td>\n",
       "    </tr>\n",
       "  </tbody>\n",
       "</table>\n",
       "</div>"
      ],
      "text/plain": [
       "              id  duration genre  likes_count  reposts_count    user_id  \\\n",
       "27     238501253    523279   NaN        81814           4581   70601494   \n",
       "105      5914614   3187375   NaN       166616          13606   40174345   \n",
       "391    745124844    952327   NaN        27358           2415   28970722   \n",
       "660    232663900   1918277   NaN       191298          17184   70601494   \n",
       "776    510100800   1772220   NaN        51611           5185   67377000   \n",
       "938   1055757508   3006484   NaN        40760           2083  577909794   \n",
       "945    246349810   1952250   NaN       256005          42345   10494998   \n",
       "1807   620015283   1762922   NaN        31961           4148   46143974   \n",
       "1887   341715990  48898451   NaN        79448          10413  160760950   \n",
       "2203   236100282   3263532   NaN       179391          27671    7436630   \n",
       "2339   537883152   2364732   NaN        42514           2101  351737129   \n",
       "2373    34518577   5217509   NaN        48966           3222   68485802   \n",
       "2393     5193173   6407701   NaN         5835           2018   43126413   \n",
       "\n",
       "             set_type          display_date  track_counts  \\\n",
       "27    normal_playlist  2016-07-04T05:36:20Z             3   \n",
       "105             album  2013-05-21T20:55:56Z            14   \n",
       "391   normal_playlist  2019-04-03T23:30:14Z             4   \n",
       "660   normal_playlist  2016-06-11T01:37:24Z            11   \n",
       "776   normal_playlist  2018-05-01T01:59:05Z             3   \n",
       "938   normal_playlist  2020-05-22T04:00:44Z            18   \n",
       "945   normal_playlist  2016-07-31T22:08:45Z            10   \n",
       "1807            album  2018-10-10T04:31:11Z            12   \n",
       "1887  normal_playlist  2017-07-30T20:41:47Z           276   \n",
       "2203            album  2016-06-24T22:16:31Z            16   \n",
       "2339            album  2018-06-10T18:09:30Z            16   \n",
       "2373            album  2014-05-12T02:25:58Z            24   \n",
       "2393  normal_playlist  2013-04-28T06:47:32Z            14   \n",
       "\n",
       "                                                 tracks is_purchasable  \n",
       "27                        272081697,272081435,272080462          False  \n",
       "105   93264012,93264013,93264014,93264015,93264016,9...          False  \n",
       "391             600572022,600572007,600571983,600571947          False  \n",
       "660   268546390,268546291,268546234,268546180,261904...          False  \n",
       "776                       346168006,377749574,370579751          False  \n",
       "938   825583921,825583918,825583897,825583876,825583...          False  \n",
       "945   276206960,276233032,276233401,276233719,276233...          False  \n",
       "1807  512131077,512131044,512131011,512130987,512130...          False  \n",
       "1887  284653251,284653159,284653120,284652973,284652...          False  \n",
       "2203  270727639,270727618,270727583,270727654,270727...          False  \n",
       "2339  352718012,383347202,383347661,383347925,383345...          False  \n",
       "2373  149086617,149086625,149086629,149086630,149086...          False  \n",
       "2393  1053336,5684822,6678666,6523316,6873710,652342...          False  "
      ]
     },
     "execution_count": 1069,
     "metadata": {},
     "output_type": "execute_result"
    }
   ],
   "source": [
    "selected_playlist[selected_playlist['genre'].isnull()]"
   ]
  },
  {
   "cell_type": "markdown",
   "metadata": {},
   "source": [
    "Tiến hành tra cứu từng thể loại của playlist và xử lý missing value của 13 mẫu bằng tay"
   ]
  },
  {
   "cell_type": "code",
   "execution_count": 1070,
   "metadata": {},
   "outputs": [],
   "source": [
    "selected_playlist.loc[selected_playlist['id'] == 238501253, 'genre'] = 'Alternative Rock'\n",
    "selected_playlist.loc[selected_playlist['id'] == 5914614, 'genre'] = 'Hip Hop'\n",
    "selected_playlist.loc[selected_playlist['id'] == 745124844, 'genre'] = 'Hip Hop/Rap'\n",
    "selected_playlist.loc[selected_playlist['id'] == 232663900, 'genre'] = 'Hip Hop/Rap'\n",
    "selected_playlist.loc[selected_playlist['id'] == 510100800, 'genre'] = 'Hip hop'\n",
    "selected_playlist.loc[selected_playlist['id'] == 1055757508, 'genre'] = 'Hip Hop/Rap'\n",
    "selected_playlist.loc[selected_playlist['id'] == 246349810, 'genre'] = 'Hip Hop/Rap'\n",
    "selected_playlist.loc[selected_playlist['id'] == 341715990, 'genre'] = 'Hip Hop/Rap'\n",
    "selected_playlist.loc[selected_playlist['id'] == 236100282, 'genre'] = 'Hip Hop/Rap'\n",
    "selected_playlist.loc[selected_playlist['id'] == 34518577, 'genre'] = 'Hip hop'\n",
    "selected_playlist.loc[selected_playlist['id'] == 5193173, 'genre'] = 'Hip hop'\n",
    "selected_playlist.loc[selected_playlist['id'] == 620015283, 'genre'] = 'Alternative'\n",
    "selected_playlist.loc[selected_playlist['id'] == 537883152, 'genre'] = 'Pop'"
   ]
  },
  {
   "cell_type": "markdown",
   "metadata": {},
   "source": [
    "**Sau khi fillna, ta tiếp tục làm sạch trường `genre`**"
   ]
  },
  {
   "cell_type": "code",
   "execution_count": 1071,
   "metadata": {},
   "outputs": [
    {
     "data": {
      "text/plain": [
       "array(['Country', 'Hip-hop & Rap', 'Alternative Rock', 'beats',\n",
       "       'Alternative', 'ESTRENO MUNDIAL', 'Hip hop/rap', 'R&B', 'Hip-hop',\n",
       "       'Rap', 'Balada', 'Anuel AA', 'Pop', 'Hip Hop/Rap', 'Rap/Hip Hop',\n",
       "       'RL Grime', 'Rock', 'Hip Hop', 'Kevin Gates', 'Electronic',\n",
       "       'Remixes', 'Logic', 'R&B & Soul', 'FettyWap', 'AFROHOUSE',\n",
       "       'Acoustic Pop', 'Dynasty', 'Anuel', 'JASON ALDEAN', 'Dubstep',\n",
       "       'LAFLAME', 'Classical', 'Tik tok songs', 'Latin', 'Corridos',\n",
       "       '21-savage', 'RamySabry2020', 'Hip-hop/rap', 'Deep House',\n",
       "       'Mulatto', 'Young Thug', 'Disclosure', 'Nightcore', '670', 'Lo-fi',\n",
       "       'Criminal Bassline | Goodie', 'HIPHOP', 'R&b & soul', 'كارول عون',\n",
       "       'Chill Artistry', 'Shrey_Singhal', 'Electro House', 'Trap',\n",
       "       'Instermental', 'Dance & EDM', 'Indie', 'ASOC', 'Butta', 'Music',\n",
       "       'R & B', 'AnuelAA', 'ArianaGrande', 'Hip-hop/Rap', 'Hip-Hop',\n",
       "       'rap', 'LATIN MUSIC / SALSA', 'Joe Budden', 'LucasColy', 'Chicago',\n",
       "       'SCHEMATHRAXX', 'K-POP', 'Dillon Cooper', 'holy',\n",
       "       'Folk & Singer-Songwriter', 'Crybaby', 'ReverseBass', 'russ',\n",
       "       'Audiobooks', 'Sad', 'BACHATA 2014 LATIN', 'BATON ROUGE',\n",
       "       'MissingYou', 'Lifestyle', 'OVO', 'Comedy', 'JuiceWRLD', 'ISSA',\n",
       "       'Juicy J', 'ECMG', 'World', 'Casa Urbana', 'Reggae', 'HH-LA',\n",
       "       'Hiphop', 'Grime', 'BKBK', 'Calvin Harris', 'youngdolph',\n",
       "       'Ambient', 'mac miller', 'Chopped And Screwed', 'Lil Herb',\n",
       "       'Alternative rock', 'Grime Trap', 'Drill', 'Future', 'borgeous',\n",
       "       'jacquees', 'Entertainment', 'Bachata',\n",
       "       \"Assassin's Creed IV: Black Flag\", '☿', 'H8itHere', 'BTS',\n",
       "       'Drunk Music', 'Mix', 'Dance', 'Hip-Hop/Rap', 'Camilla Barbugli',\n",
       "       'Bryson Tiller', 'Pop Electro- Pop', 'Storytelling', 'Kpop',\n",
       "       'kill yourself', 'Cover', 'Shadow Rap', 'Rap/Hip-Hop', 'Party',\n",
       "       'TikTok Songs', 'Hip hop', 'Human Music', 'Latina', 'Moon', 'TGOD',\n",
       "       'EDIT', 'bachata', 'film enta omry', 'Mike Stud', 'Punk christmas',\n",
       "       'GetNMoneyMusic', 'Delusional Thomas', 'Meek Mill', '3HUNNA',\n",
       "       'Elhae', 'HellaWave', 'Hip Hop ', 'Swavey', 'Goa Minimal',\n",
       "       'FkThisSongButItWillShakeYourCar', 'clarity', 'Hardstyle',\n",
       "       '25 Nights For Nujabes', 'PUNJAbi', 'Acid Ambient', 'Abdullah',\n",
       "       'Nipsey Hussle', 'DJ', 'KPOP', \":')\", 'Futuristic', 'Shadow rap',\n",
       "       'Trance', '1700', 'original', 'Arabic', 'Regional Mexicano',\n",
       "       'Future Bass', 'Carti', 'Hiphoprap', 'Roddy Ricch', 'Million',\n",
       "       'Kompa Love', 'BLove', 'sharmoofers', 'Flume Step', 'BILLO', '100',\n",
       "       'Regional mexicano', 'ACEHOOD', 'Kara_Para', 'JoynerLucas',\n",
       "       'Computers', 'Diplo', 'Acoustic', 'Ana Gabriel Mix', '80s Pop',\n",
       "       'BEATS', 'Chenal', 'Dembow 2015', 'CARTERV', 'Major Lazer', 'ASMR',\n",
       "       'XO', 'Chutney', 'FB:Gary Mackavelli', 'ella mai', 'FBG',\n",
       "       'Reggaeton', 'Techno', 'Chris Brown', 'Real Hasta La Muerte',\n",
       "       'DMV', 'Waves', 'Metal  ', 'DEJ LOAF ', 'House', 'Rahn Rahn',\n",
       "       'Electronic Pop', 'Damian Marley', 'Speaker Knockerz',\n",
       "       'Hip-Hop/R&B', 'Matt Corman', 'Blues', 'RAP', 'J Balvin',\n",
       "       'Mixtape', 'Jah Cure', 'missmulatto', 'Gucci Mane', 'Jhene Aiko',\n",
       "       'Rnb', 'blik', '#HIP-HOP', 'CUMBIA MIX', 'Dance & edm',\n",
       "       'Bad Vibes Forever', 'Detroit', 'edited', '@newboston', 'Emo Trap',\n",
       "       'yara', 'Adou Manje Gep', 'Fank', 'LUV', 'Wiz Khalifa', 'Eminem',\n",
       "       'Origami Sound', 'Drake', 'GUCCIMANE', 'justin bieber',\n",
       "       'Dancehall', 'Oriental', 'The Kid', 'DJ MUSTARD', 'fuckupcunt',\n",
       "       'MetroBoominWantSomeMore', 'tory lanez', 'MGK', 'DaBaby', 'Lucki',\n",
       "       '2 Chainz', 'RnB', 'Corridos Verdes', 'BFTD', 'Aeroplane Remix',\n",
       "       'arabic', 'lofi', 'ChoppaBoyz Dex Osama', 'youngthug',\n",
       "       'brent faiyaz ', 'Electronica', 'Farhad Darya', 'Cashkidd', 'Bosy',\n",
       "       'FUNK', 'Swag', 'CHIEF KEEF', 'Imran Khan ', 'John', 'Dlow',\n",
       "       'Electro', 'Bachata Mix', 'ily', 'Memories', 'Beats', '1waycamp',\n",
       "       'DN Exclusive', 'Alternative folk', 'Gear Up', 'Gaspare Music',\n",
       "       '808mafia', 'CADA VES QUE TE BAS', 'Dine Alone Records', '70s',\n",
       "       'Indie, Alternative, Folk, Pop', 'GANG SHIT #112600',\n",
       "       'Duranguense', 'Chief Keef', 'LostCause', 'Desiigner',\n",
       "       'Electro Swing', 'offonoff', 'Eton Messy', 'Classic Rock', '1738',\n",
       "       'ChadBahton', 'DESIIGNER', 'hip hop', '187', '1017', 'GoonLife',\n",
       "       'Backyard Sessions', 'promiscuous', 'HELLAWAVE', 'Samurai Guru',\n",
       "       'HipHop', 'G Shit Only', 'Punjabi', 'Migos', '6OCLOCK',\n",
       "       'niykee heaton', 'nav', 'g herbo', 'Latin Urban / Reggaeton',\n",
       "       'All About You ', 'Chiraq', 'Metal', '#DWP15', 'Chingona',\n",
       "       'PNBRock', 'BLACKSILK', 'SPM', 'RM,'], dtype=object)"
      ]
     },
     "execution_count": 1071,
     "metadata": {},
     "output_type": "execute_result"
    }
   ],
   "source": [
    "selected_playlist['genre'].unique()"
   ]
  },
  {
   "cell_type": "code",
   "execution_count": 1072,
   "metadata": {},
   "outputs": [],
   "source": [
    "invalid_genres = {'ESTRENO MUNDIAL', 'Anuel AA', 'Kevin Gates',\n",
    "        'Logic', 'FettyWap', 'AFROHOUSE', 'Dynasty', 'Anuel', 'JASON ALDEAN',\n",
    "       'LAFLAME', '21-savage', 'RamySabry2020','Mulatto', 'Young Thug', 'Disclosure', '670',\n",
    "       'Criminal Bassline | Goodie', 'كارول عون','Chill Artistry', 'Shrey_Singhal',  \n",
    "        'ASOC', 'Butta', 'Music', 'AnuelAA', 'ArianaGrande', 'Joe Budden', 'LucasColy', 'Chicago',\n",
    "       'SCHEMATHRAXX', 'Dillon Cooper', 'Crybaby', 'ReverseBass', 'russ', 'BATON ROUGE',\n",
    "       'MissingYou', 'Lifestyle', 'OVO', 'JuiceWRLD', 'ISSA',\n",
    "       'Juicy J', 'ECMG', 'Casa Urbana', 'HH-LA', 'BKBK', 'Calvin Harris', 'youngdolph',\n",
    "       'mac miller', 'Chopped And Screwed', 'Lil Herb', 'Future', 'borgeous',\n",
    "       'jacquees', 'Bachata',\"Assassin's Creed IV: Black Flag\", '☿', 'H8itHere','Drunk Music','Camilla Barbugli',\n",
    "        'Bryson Tiller',  'kill yourself', 'Human Music', 'Moon', 'TGOD',\n",
    "       'EDIT', 'bachata', 'film enta omry', 'Mike Stud',\n",
    "       'GetNMoneyMusic', 'Delusional Thomas', 'Meek Mill', '3HUNNA',\n",
    "       'Elhae', 'HellaWave', 'Swavey', 'Goa Minimal',\n",
    "       'FkThisSongButItWillShakeYourCar', 'clarity', 'Hardstyle',\n",
    "       '25 Nights For Nujabes', 'PUNJAbi', 'Acid Ambient', 'Abdullah',\n",
    "       'Nipsey Hussle', 'DJ', \":')\", 'Futuristic', '1700', 'Arabic', \n",
    "        'Carti', 'Roddy Ricch', 'Million',\n",
    "       'Kompa Love', 'BLove', 'sharmoofers', 'Flume Step', 'BILLO', '100','ACEHOOD', 'Kara_Para', 'JoynerLucas',\n",
    "       'Computers', 'Diplo', 'Ana Gabriel Mix',\n",
    "       'BEATS', 'Chenal', 'Dembow 2015', 'CARTERV', 'Major Lazer', 'ASMR',\n",
    "       'XO', 'Chutney', 'FB:Gary Mackavelli', 'ella mai', 'FBG',\n",
    "       'Reggaeton',  'Chris Brown', 'Real Hasta La Muerte',\n",
    "       'DMV', 'DEJ LOAF ', 'Rahn Rahn', 'Damian Marley', 'Speaker Knockerz',\n",
    "       'Hip-Hop/R&B', 'Matt Corman', 'J Balvin',\n",
    "       'Mixtape', 'Jah Cure', 'missmulatto', 'Gucci Mane', 'Jhene Aiko', 'blik','CUMBIA MIX', \n",
    "       'Bad Vibes Forever', 'Detroit', 'edited', '@newboston',\n",
    "       'yara', 'Adou Manje Gep', 'Fank', 'LUV', 'Wiz Khalifa', 'Eminem',\n",
    "       'Origami Sound', 'Drake', 'GUCCIMANE', 'justin bieber',\n",
    "       'The Kid', 'DJ MUSTARD', 'fuckupcunt',\n",
    "       'MetroBoominWantSomeMore', 'tory lanez', 'MGK', 'DaBaby', 'Lucki',\n",
    "       '2 Chainz', 'BFTD', 'arabic', 'ChoppaBoyz Dex Osama', 'youngthug',\n",
    "       'brent faiyaz ', 'Farhad Darya', 'Cashkidd', 'Bosy',\n",
    "       'FUNK', 'Swag', 'CHIEF KEEF', 'Imran Khan ', 'John', 'Dlow', 'Bachata Mix', 'ily', 'Memories', '1waycamp',\n",
    "       'DN Exclusive', 'Gear Up', 'Gaspare Music',\n",
    "       '808mafia', 'CADA VES QUE TE BAS', 'Dine Alone Records', '70s',\n",
    "       'Indie, Alternative, Folk, Pop', 'GANG SHIT #112600',\n",
    "       'Duranguense', 'Chief Keef', 'LostCause', 'Desiigner', 'offonoff', 'Eton Messy', '1738',\n",
    "       'ChadBahton', 'DESIIGNER', '187', '1017', 'GoonLife',\n",
    "       'Backyard Sessions', 'promiscuous', 'HELLAWAVE', 'Samurai Guru', 'G Shit Only', 'Punjabi', 'Migos', '6OCLOCK',\n",
    "       'niykee heaton', 'nav', 'g herbo','All About You ', 'Chiraq', '#DWP15', 'Chingona',\n",
    "       'PNBRock', 'BLACKSILK', 'SPM', 'RM,'}"
   ]
  },
  {
   "cell_type": "code",
   "execution_count": 1073,
   "metadata": {},
   "outputs": [],
   "source": [
    "for index, row in selected_playlist.iterrows():\n",
    "    # chỉ xét các dòng có genre <> NaN\n",
    "    if not pd.isna(row['genre']):\n",
    "        if row['genre'] in invalid_genres:\n",
    "            selected_playlist.loc[index, 'genre'] = np.NaN"
   ]
  },
  {
   "cell_type": "code",
   "execution_count": 1074,
   "metadata": {},
   "outputs": [
    {
     "data": {
      "text/plain": [
       "array(['Acoustic', 'Alternative', 'Alternative folk', 'Alternative rock',\n",
       "       'Ambient', 'Audiobooks', 'Beats', 'Blues', 'Classical', 'Comedy',\n",
       "       'Corridos', 'Country', 'Cover', 'Dance', 'Dance & edm',\n",
       "       'Dancehall', 'Deep house', 'Drill', 'Dubstep', 'Electronic',\n",
       "       'Entertainment', 'Folk & singer-songwriter', 'Future bass',\n",
       "       'Grime', 'Hip hop/rap', 'House', 'Indie', 'Instrumental', 'Kpop',\n",
       "       'Latin', 'Lo-fi', 'Metal', 'Mix', 'Nightcore', 'Oriental',\n",
       "       'Original', 'Party', 'Pop', 'Punk christmas', 'R&b & soul',\n",
       "       'Reggae', 'Reggaeton', 'Regional mexicano', 'Remixes', 'Sad',\n",
       "       'Shadow rap', 'Storytelling', 'Techno', 'Tiktok songs', 'Trance',\n",
       "       'Trap', 'Waves', 'World', nan], dtype=object)"
      ]
     },
     "execution_count": 1074,
     "metadata": {},
     "output_type": "execute_result"
    }
   ],
   "source": [
    "spelling = {'#HIP-HOP':'Hip Hop/Rap', \n",
    "            '80s Pop':'Pop',\n",
    "            'Acoustic Pop':'Pop',\n",
    "            'Aeroplane Remix':'Remixes',\n",
    "            'Alternative rock':'Alternative Rock',\n",
    "            'BACHATA 2014 LATIN':'Latin', \n",
    "            'BTS':'Kpop',\n",
    "            'Balada':'R&B & Soul', \n",
    "            'Classic Rock':'Alternative Rock',\n",
    "            'Corridos Verdes':'Corridos',\n",
    "            'Dance & edm':'Dance & EDM',\n",
    "            'Electro':'Electronic', \n",
    "            'Electro House':'House', \n",
    "            'Electro Swing':'Electronic',\n",
    "            'Electronic Pop':'Pop',\n",
    "            'Electronica':'Electronic',\n",
    "            'Emo Trap':'Trap',\n",
    "            'Grime Trap':'Trap',\n",
    "            'HIPHOP':'Hip Hop/Rap', \n",
    "            'Hip Hop':'Hip Hop/Rap', \n",
    "            'Hip Hop ':'Hip Hop/Rap', \n",
    "            'Hip hop':'Hip Hop/Rap',\n",
    "            'Hip hop/rap':'Hip Hop/Rap', \n",
    "            'Hip-Hop':'Hip Hop/Rap', \n",
    "            'Hip-Hop/Rap':'Hip Hop/Rap', \n",
    "            'Hip-hop':'Hip Hop/Rap',\n",
    "            'Hip-hop & Rap':'Hip Hop/Rap', \n",
    "            'Hip-hop/Rap':'Hip Hop/Rap', \n",
    "            'Hip-hop/rap':'Hip Hop/Rap', \n",
    "            'HipHop':'Hip Hop/Rap', \n",
    "            'Hiphop':'Hip Hop/Rap',\n",
    "            'Hiphoprap':'Hip Hop/Rap', \n",
    "            'Instermental':'Instrumental', \n",
    "            'K-POP':'Kpop', \n",
    "            'KPOP':'Kpop',\n",
    "            'LATIN MUSIC / SALSA':'Latin',\n",
    "            'Latin Urban / Reggaeton':'Reggaeton',\n",
    "            'Latina':'Latin', \n",
    "            'lofi':'Lo-fi', \n",
    "            'Metal  ':'Metal',\n",
    "           'Pop Electro- Pop':'Pop', \n",
    "            'R & B':'R&B & Soul', \n",
    "            'R&B':'R&B & Soul', \n",
    "            'R&b & soul':'R&B & Soul', \n",
    "            'RAP':'Hip Hop/Rap', \n",
    "            'RL Grime':'Grime',\n",
    "            'Rap':'Hip Hop/Rap', \n",
    "            'Rap/Hip Hop':'Hip Hop/Rap', \n",
    "            'Rap/Hip-Hop':'Hip Hop/Rap', \n",
    "            'Regional mexicano':'Regional Mexicano',\n",
    "            'RnB':'R&B & Soul', \n",
    "            'Rnb':'R&B & Soul', \n",
    "            'Rock':'Alternative Rock', \n",
    "            'Shadow rap':'Shadow Rap', \n",
    "            'Tik tok songs': 'TikTok Songs',\n",
    "            'hip hop':'Hip Hop/Rap', \n",
    "            'rap':'Hip Hop/Rap',\n",
    "            'holy':'Pop'\n",
    "          }\n",
    "selected_playlist['genre'] = selected_playlist['genre'].replace(spelling)\n",
    "selected_playlist['genre'] = selected_playlist['genre'].str.capitalize()\n",
    "selected_playlist['genre'].sort_values().unique()"
   ]
  },
  {
   "cell_type": "code",
   "execution_count": 1075,
   "metadata": {},
   "outputs": [
    {
     "data": {
      "text/plain": [
       "id                  0\n",
       "duration            0\n",
       "genre             282\n",
       "likes_count         0\n",
       "reposts_count       0\n",
       "user_id             0\n",
       "set_type            0\n",
       "display_date        0\n",
       "track_counts        0\n",
       "tracks              0\n",
       "is_purchasable      0\n",
       "dtype: int64"
      ]
     },
     "execution_count": 1075,
     "metadata": {},
     "output_type": "execute_result"
    }
   ],
   "source": [
    "# Kiểm tra lần cuối các giá trị missing \n",
    "# Lần này ta sẽ bỏ các dòng còn genre = NaN\n",
    "selected_playlist.isnull().sum()"
   ]
  },
  {
   "cell_type": "code",
   "execution_count": 1076,
   "metadata": {},
   "outputs": [],
   "source": [
    "selected_playlist = selected_playlist.dropna(subset=['genre'])"
   ]
  },
  {
   "cell_type": "markdown",
   "metadata": {},
   "source": [
    "#### b.3. Biến đổi thuộc tính (data transformation) "
   ]
  },
  {
   "cell_type": "code",
   "execution_count": 1077,
   "metadata": {},
   "outputs": [
    {
     "name": "stdout",
     "output_type": "stream",
     "text": [
      "<class 'pandas.core.frame.DataFrame'>\n",
      "Int64Index: 2368 entries, 0 to 2703\n",
      "Data columns (total 11 columns):\n",
      " #   Column          Non-Null Count  Dtype \n",
      "---  ------          --------------  ----- \n",
      " 0   id              2368 non-null   int64 \n",
      " 1   duration        2368 non-null   int64 \n",
      " 2   genre           2368 non-null   object\n",
      " 3   likes_count     2368 non-null   int64 \n",
      " 4   reposts_count   2368 non-null   int64 \n",
      " 5   user_id         2368 non-null   int64 \n",
      " 6   set_type        2368 non-null   object\n",
      " 7   display_date    2368 non-null   object\n",
      " 8   track_counts    2368 non-null   int64 \n",
      " 9   tracks          2368 non-null   object\n",
      " 10  is_purchasable  2368 non-null   object\n",
      "dtypes: int64(6), object(5)\n",
      "memory usage: 222.0+ KB\n"
     ]
    }
   ],
   "source": [
    "selected_playlist.info()"
   ]
  },
  {
   "cell_type": "markdown",
   "metadata": {},
   "source": [
    "- Đổi kiểu dữ liệu `id` và `user_id` thành `string`\n",
    "- Đổi kiểu dữ liệu `is_purchasable` thành `bool`\n",
    "- Biến đổi `display_date` thành kiểu `datetime` "
   ]
  },
  {
   "cell_type": "code",
   "execution_count": 1078,
   "metadata": {},
   "outputs": [],
   "source": [
    "selected_playlist['id'] = selected_playlist['id'].astype('string')\n",
    "selected_playlist['user_id'] = selected_playlist['user_id'].astype('string')\n",
    "selected_playlist['is_purchasable'] = selected_playlist['is_purchasable'].astype('bool')"
   ]
  },
  {
   "cell_type": "code",
   "execution_count": 1079,
   "metadata": {},
   "outputs": [],
   "source": [
    "selected_playlist['display_date'] = pd.to_datetime(selected_playlist['display_date']).dt.tz_localize(None)"
   ]
  },
  {
   "cell_type": "markdown",
   "metadata": {},
   "source": [
    "Thêm thuộc tính `display_time = today - display_date`"
   ]
  },
  {
   "cell_type": "code",
   "execution_count": 1080,
   "metadata": {},
   "outputs": [],
   "source": [
    "from datetime import date\n",
    "selected_playlist['display_time'] = date.today()\n",
    "\n",
    "# convert to the same timezone\n",
    "selected_playlist['display_time'] = pd.to_datetime(selected_playlist['display_time']).dt.tz_localize(None)\n",
    "selected_playlist['display_time'] = (selected_playlist['display_time'] - selected_playlist['display_date'])/ np.timedelta64(1, 'M')"
   ]
  },
  {
   "cell_type": "code",
   "execution_count": 1081,
   "metadata": {},
   "outputs": [],
   "source": [
    "# Xóa thuộc tính display_date\n",
    "selected_playlist = selected_playlist.drop(columns=['display_date'])"
   ]
  },
  {
   "cell_type": "markdown",
   "metadata": {},
   "source": [
    "### c. Kiểm tra lại mẫu dữ liệu đã chọn"
   ]
  },
  {
   "cell_type": "code",
   "execution_count": 1082,
   "metadata": {},
   "outputs": [
    {
     "data": {
      "text/html": [
       "<div>\n",
       "<style scoped>\n",
       "    .dataframe tbody tr th:only-of-type {\n",
       "        vertical-align: middle;\n",
       "    }\n",
       "\n",
       "    .dataframe tbody tr th {\n",
       "        vertical-align: top;\n",
       "    }\n",
       "\n",
       "    .dataframe thead th {\n",
       "        text-align: right;\n",
       "    }\n",
       "</style>\n",
       "<table border=\"1\" class=\"dataframe\">\n",
       "  <thead>\n",
       "    <tr style=\"text-align: right;\">\n",
       "      <th></th>\n",
       "      <th>id</th>\n",
       "      <th>duration</th>\n",
       "      <th>genre</th>\n",
       "      <th>likes_count</th>\n",
       "      <th>reposts_count</th>\n",
       "      <th>user_id</th>\n",
       "      <th>set_type</th>\n",
       "      <th>track_counts</th>\n",
       "      <th>tracks</th>\n",
       "      <th>is_purchasable</th>\n",
       "      <th>display_time</th>\n",
       "    </tr>\n",
       "  </thead>\n",
       "  <tbody>\n",
       "    <tr>\n",
       "      <th>0</th>\n",
       "      <td>310741832</td>\n",
       "      <td>40935252</td>\n",
       "      <td>Country</td>\n",
       "      <td>2035</td>\n",
       "      <td>103</td>\n",
       "      <td>273587555</td>\n",
       "      <td>normal_playlist</td>\n",
       "      <td>189</td>\n",
       "      <td>111350611,127711350,89291705,221922037,2557906...</td>\n",
       "      <td>False</td>\n",
       "      <td>43.486187</td>\n",
       "    </tr>\n",
       "    <tr>\n",
       "      <th>1</th>\n",
       "      <td>1143112054</td>\n",
       "      <td>37740984</td>\n",
       "      <td>Hip hop/rap</td>\n",
       "      <td>0</td>\n",
       "      <td>0</td>\n",
       "      <td>667588841</td>\n",
       "      <td>normal_playlist</td>\n",
       "      <td>181</td>\n",
       "      <td>877524697,877524238,877523905,877523803,877523...</td>\n",
       "      <td>False</td>\n",
       "      <td>1.012377</td>\n",
       "    </tr>\n",
       "    <tr>\n",
       "      <th>2</th>\n",
       "      <td>971808526</td>\n",
       "      <td>15552646</td>\n",
       "      <td>Alternative rock</td>\n",
       "      <td>12</td>\n",
       "      <td>0</td>\n",
       "      <td>769710073</td>\n",
       "      <td>normal_playlist</td>\n",
       "      <td>76</td>\n",
       "      <td>547941324,5284026,579807702,685678354,33010377...</td>\n",
       "      <td>False</td>\n",
       "      <td>9.603835</td>\n",
       "    </tr>\n",
       "    <tr>\n",
       "      <th>3</th>\n",
       "      <td>149404857</td>\n",
       "      <td>66544676</td>\n",
       "      <td>Beats</td>\n",
       "      <td>234</td>\n",
       "      <td>28</td>\n",
       "      <td>177229326</td>\n",
       "      <td>normal_playlist</td>\n",
       "      <td>203</td>\n",
       "      <td>19320434,215361560,216352962,43248780,21468388...</td>\n",
       "      <td>False</td>\n",
       "      <td>61.426899</td>\n",
       "    </tr>\n",
       "    <tr>\n",
       "      <th>4</th>\n",
       "      <td>361670771</td>\n",
       "      <td>9427177</td>\n",
       "      <td>Alternative</td>\n",
       "      <td>5548</td>\n",
       "      <td>278</td>\n",
       "      <td>339239709</td>\n",
       "      <td>normal_playlist</td>\n",
       "      <td>50</td>\n",
       "      <td>332962988,333923891,329430750,335860168,308016...</td>\n",
       "      <td>False</td>\n",
       "      <td>36.646035</td>\n",
       "    </tr>\n",
       "  </tbody>\n",
       "</table>\n",
       "</div>"
      ],
      "text/plain": [
       "           id  duration             genre  likes_count  reposts_count  \\\n",
       "0   310741832  40935252           Country         2035            103   \n",
       "1  1143112054  37740984       Hip hop/rap            0              0   \n",
       "2   971808526  15552646  Alternative rock           12              0   \n",
       "3   149404857  66544676             Beats          234             28   \n",
       "4   361670771   9427177       Alternative         5548            278   \n",
       "\n",
       "     user_id         set_type  track_counts  \\\n",
       "0  273587555  normal_playlist           189   \n",
       "1  667588841  normal_playlist           181   \n",
       "2  769710073  normal_playlist            76   \n",
       "3  177229326  normal_playlist           203   \n",
       "4  339239709  normal_playlist            50   \n",
       "\n",
       "                                              tracks  is_purchasable  \\\n",
       "0  111350611,127711350,89291705,221922037,2557906...           False   \n",
       "1  877524697,877524238,877523905,877523803,877523...           False   \n",
       "2  547941324,5284026,579807702,685678354,33010377...           False   \n",
       "3  19320434,215361560,216352962,43248780,21468388...           False   \n",
       "4  332962988,333923891,329430750,335860168,308016...           False   \n",
       "\n",
       "   display_time  \n",
       "0     43.486187  \n",
       "1      1.012377  \n",
       "2      9.603835  \n",
       "3     61.426899  \n",
       "4     36.646035  "
      ]
     },
     "execution_count": 1082,
     "metadata": {},
     "output_type": "execute_result"
    }
   ],
   "source": [
    "selected_playlist.head()"
   ]
  },
  {
   "cell_type": "code",
   "execution_count": 1083,
   "metadata": {},
   "outputs": [
    {
     "data": {
      "text/plain": [
       "id                0\n",
       "duration          0\n",
       "genre             0\n",
       "likes_count       0\n",
       "reposts_count     0\n",
       "user_id           0\n",
       "set_type          0\n",
       "track_counts      0\n",
       "tracks            0\n",
       "is_purchasable    0\n",
       "display_time      0\n",
       "dtype: int64"
      ]
     },
     "execution_count": 1083,
     "metadata": {},
     "output_type": "execute_result"
    }
   ],
   "source": [
    "# Kiểm tra missing value\n",
    "selected_playlist.isnull().sum()"
   ]
  },
  {
   "cell_type": "code",
   "execution_count": 1084,
   "metadata": {},
   "outputs": [
    {
     "name": "stdout",
     "output_type": "stream",
     "text": [
      "<class 'pandas.core.frame.DataFrame'>\n",
      "Int64Index: 2368 entries, 0 to 2703\n",
      "Data columns (total 11 columns):\n",
      " #   Column          Non-Null Count  Dtype  \n",
      "---  ------          --------------  -----  \n",
      " 0   id              2368 non-null   string \n",
      " 1   duration        2368 non-null   int64  \n",
      " 2   genre           2368 non-null   object \n",
      " 3   likes_count     2368 non-null   int64  \n",
      " 4   reposts_count   2368 non-null   int64  \n",
      " 5   user_id         2368 non-null   string \n",
      " 6   set_type        2368 non-null   object \n",
      " 7   track_counts    2368 non-null   int64  \n",
      " 8   tracks          2368 non-null   object \n",
      " 9   is_purchasable  2368 non-null   bool   \n",
      " 10  display_time    2368 non-null   float64\n",
      "dtypes: bool(1), float64(1), int64(4), object(3), string(2)\n",
      "memory usage: 205.8+ KB\n"
     ]
    }
   ],
   "source": [
    "# Kiểm tra kiểu dữ liệu\n",
    "selected_playlist.info()"
   ]
  },
  {
   "cell_type": "code",
   "execution_count": 1085,
   "metadata": {},
   "outputs": [
    {
     "data": {
      "text/plain": [
       "(2368, 11)"
      ]
     },
     "execution_count": 1085,
     "metadata": {},
     "output_type": "execute_result"
    }
   ],
   "source": [
    "# Kiểm tra số lượng mẫu dữ liệu và số thuộc tính\n",
    "selected_playlist.shape"
   ]
  },
  {
   "cell_type": "markdown",
   "metadata": {},
   "source": [
    "### d. Lưu xuống file csv để EDA ở module kế tiếp"
   ]
  },
  {
   "cell_type": "code",
   "execution_count": 1086,
   "metadata": {},
   "outputs": [],
   "source": [
    "selected_playlist.to_csv('Crawl_data/selected_playlists.csv', sep='\\t', index=False)"
   ]
  },
  {
   "cell_type": "markdown",
   "metadata": {},
   "source": [
    "## 2. Tập user"
   ]
  },
  {
   "cell_type": "markdown",
   "metadata": {},
   "source": [
    "### a. Kiểm tra tổng quan"
   ]
  },
  {
   "cell_type": "code",
   "execution_count": 5,
   "metadata": {},
   "outputs": [],
   "source": [
    "raw_user = pd.read_csv(\"Crawl_data/users.csv\", sep = '\\t')\n",
    "\n",
    "# Xóa cột index (chỉ đóng vai trò chỉ mục)\n",
    "raw_user.drop(columns=['index'], inplace=True)"
   ]
  },
  {
   "cell_type": "code",
   "execution_count": 6,
   "metadata": {},
   "outputs": [
    {
     "data": {
      "text/plain": [
       "(1755, 36)"
      ]
     },
     "execution_count": 6,
     "metadata": {},
     "output_type": "execute_result"
    }
   ],
   "source": [
    "raw_user.shape"
   ]
  },
  {
   "cell_type": "markdown",
   "metadata": {},
   "source": [
    "**Tóm tắt:**\n",
    "\n",
    "|Thuộc tính|Kiểu dữ liệu|     Ý nghĩa   |Miền giá trị |\n",
    "|:--------:|:-------------:|:-----:|:-----:|\n",
    "|**avatar_url**|Chuỗi |Đường dẫn đến ản đại diện của user||\n",
    "|**created_at**|Thời gian|Thời gian khởi tạo user|   |\n",
    "|**description**|Chuỗi|Mô tả user của người đăng tải| |\n",
    "|**city**|Chuỗi|Thành phố user đang sống||\n",
    "|**country_code**|Chuỗi|Mã quốc gia user đang sống||\n",
    "|**id**|Kiểu phân loại|Định danh của user||\n",
    "|**comments_count**|Số nguyên|Số lượt bình luận của user|Liên tục|\n",
    "|**likes_count**|Số nguyên|Số lượt được yêu thích của user|Liên tục|\n",
    "|**followers_count**|Số nguyên|Số lượt theo dõi của user|Liên tục|\n",
    "|**followings_count**|Số nguyên|Số lượt user theo dõi|Liên tục|\n",
    "|**playlist_likes_count**|Số nguyên|Số lượt được yêu thích các playlist của user|Liên tục|\n",
    "|**playlist_count**|Số nguyên|Số playlist của user|Liên tục|\n",
    "|**reposts_count**|Số nguyên|Số bài đăng lại của user|Liên tục|\n",
    "|**track_count**|Số nguyên|Số lượng track của user|Liên tục|\n",
    "|**kind**|Chuỗi|Loại đối tượng|user|\n",
    "|**last_modified**|Thời gian|Lần chỉnh sửa cuối cùng|   |\n",
    "|**first_name**|Chuỗi|Tên của user|   |\n",
    "|**last_name**|Chuỗi|Họ của user|   |\n",
    "|**full_name**|Chuỗi|Tên đầy đủ của user|   |\n",
    "|**username**|Chuỗi|Tên đăng nhập của user|   |\n",
    "|**groups_count**|Số nguyên|Số nhóm của user|Liên tục|\n",
    "|**permalink**|Chuỗi|Đường dẫn cố định của tài nguyên|   |\n",
    "|**permalink_url**|Chuỗi|Đường dẫn đến trang Soundcloud    |   |\n",
    "|**uri**|Chuỗi|Đường dẫn API của user|    |\n",
    "|**url**|Chuỗi|Đường dẫn API của user|    |\n",
    "|**urn**|Chuỗi|Đường dẫn API của user|    |\n",
    "|**creator_subscriptions**|Chuỗi|Loại thành viên của user|    |\n",
    "|**creator_subscription.product.id**|Chuỗi|Loại thành viên của user|    |\n",
    "|**badges.pro_unlimited'**|Luận lý|User có phải người dùng pro_unlimited không|True hoặc False|\n",
    " verified\n",
    "|**visuals**|Số thực||\n",
    "|**visuals.urn**|Chuỗi||\n",
    "|**visuals.enabled**|Chuỗi||\n",
    "|**visuals.visuals**|Chuỗi||\n",
    "|**visuals.tracking**|Số thực||"
   ]
  },
  {
   "cell_type": "markdown",
   "metadata": {},
   "source": [
    "#### a.1. Kiểm tra các thuộc tính định danh"
   ]
  },
  {
   "cell_type": "code",
   "execution_count": 7,
   "metadata": {},
   "outputs": [
    {
     "name": "stdout",
     "output_type": "stream",
     "text": [
      "Số lượng id: 1755\n",
      "Số lượng permalink_url: 1755\n",
      "Số lượng avatar_url: 1363\n",
      "Số lượng first_name: 857\n",
      "Số lượng last_name: 840\n",
      "Số lượng full_name: 1023\n",
      "Số lượng username: 1723\n",
      "Số lượng permalink_url: 1755\n",
      "Số lượng permalink: 1755\n",
      "Số lượng uri: 1755\n",
      "Số lượng url: 1755\n",
      "Số lượng urn: 1755\n"
     ]
    }
   ],
   "source": [
    "print(f\"Số lượng id: {raw_user['id'].nunique()}\")\n",
    "print(f\"Số lượng permalink_url: {raw_user['permalink_url'].nunique()}\")\n",
    "print(f\"Số lượng avatar_url: {raw_user['avatar_url'].nunique()}\")\n",
    "print(f\"Số lượng first_name: {raw_user['first_name'].nunique()}\")\n",
    "print(f\"Số lượng last_name: {raw_user['last_name'].nunique()}\")\n",
    "print(f\"Số lượng full_name: {raw_user['full_name'].nunique()}\")\n",
    "print(f\"Số lượng username: {raw_user['username'].nunique()}\")\n",
    "      \n",
    "print(f\"Số lượng permalink_url: {raw_user['permalink_url'].nunique()}\")\n",
    "print(f\"Số lượng permalink: {raw_user['permalink'].nunique()}\")\n",
    "      \n",
    "print(f\"Số lượng uri: {raw_user['uri'].nunique()}\")   \n",
    "print(f\"Số lượng url: {raw_user['url'].nunique()}\")            \n",
    "print(f\"Số lượng urn: {raw_user['urn'].nunique()}\")            "
   ]
  },
  {
   "cell_type": "markdown",
   "metadata": {},
   "source": [
    "#### a.2. Kiểm tra các thuộc tính trùng lắp về mặt ý nghĩa\n",
    "- `creator_subscriptions`, `creator_subscription.product.id`, `badges.pro_unlimited` đều thể hiện mức độ thành viên mà mỗi người dùng đã đăng ký, do đó chỉ cần chọn trường `creator_subscription.product.id` là đủ"
   ]
  },
  {
   "cell_type": "code",
   "execution_count": 10,
   "metadata": {},
   "outputs": [
    {
     "data": {
      "text/html": [
       "<div>\n",
       "<style scoped>\n",
       "    .dataframe tbody tr th:only-of-type {\n",
       "        vertical-align: middle;\n",
       "    }\n",
       "\n",
       "    .dataframe tbody tr th {\n",
       "        vertical-align: top;\n",
       "    }\n",
       "\n",
       "    .dataframe thead th {\n",
       "        text-align: right;\n",
       "    }\n",
       "</style>\n",
       "<table border=\"1\" class=\"dataframe\">\n",
       "  <thead>\n",
       "    <tr style=\"text-align: right;\">\n",
       "      <th></th>\n",
       "      <th>creator_subscriptions</th>\n",
       "      <th>creator_subscription.product.id</th>\n",
       "      <th>badges.pro_unlimited</th>\n",
       "    </tr>\n",
       "  </thead>\n",
       "  <tbody>\n",
       "    <tr>\n",
       "      <th>0</th>\n",
       "      <td>[{'product': {'id': 'free'}}]</td>\n",
       "      <td>free</td>\n",
       "      <td>False</td>\n",
       "    </tr>\n",
       "    <tr>\n",
       "      <th>1</th>\n",
       "      <td>[{'product': {'id': 'free'}}]</td>\n",
       "      <td>free</td>\n",
       "      <td>False</td>\n",
       "    </tr>\n",
       "    <tr>\n",
       "      <th>2</th>\n",
       "      <td>[{'product': {'id': 'free'}}]</td>\n",
       "      <td>free</td>\n",
       "      <td>False</td>\n",
       "    </tr>\n",
       "    <tr>\n",
       "      <th>3</th>\n",
       "      <td>[{'product': {'id': 'creator-pro-unlimited'}}]</td>\n",
       "      <td>creator-pro-unlimited</td>\n",
       "      <td>True</td>\n",
       "    </tr>\n",
       "    <tr>\n",
       "      <th>4</th>\n",
       "      <td>[{'product': {'id': 'free'}}]</td>\n",
       "      <td>free</td>\n",
       "      <td>False</td>\n",
       "    </tr>\n",
       "    <tr>\n",
       "      <th>...</th>\n",
       "      <td>...</td>\n",
       "      <td>...</td>\n",
       "      <td>...</td>\n",
       "    </tr>\n",
       "    <tr>\n",
       "      <th>1750</th>\n",
       "      <td>[{'product': {'id': 'free'}}]</td>\n",
       "      <td>free</td>\n",
       "      <td>False</td>\n",
       "    </tr>\n",
       "    <tr>\n",
       "      <th>1751</th>\n",
       "      <td>[{'product': {'id': 'free'}}]</td>\n",
       "      <td>free</td>\n",
       "      <td>False</td>\n",
       "    </tr>\n",
       "    <tr>\n",
       "      <th>1752</th>\n",
       "      <td>[{'product': {'id': 'free'}}]</td>\n",
       "      <td>free</td>\n",
       "      <td>False</td>\n",
       "    </tr>\n",
       "    <tr>\n",
       "      <th>1753</th>\n",
       "      <td>[{'product': {'id': 'free'}}]</td>\n",
       "      <td>free</td>\n",
       "      <td>False</td>\n",
       "    </tr>\n",
       "    <tr>\n",
       "      <th>1754</th>\n",
       "      <td>[{'product': {'id': 'free'}}]</td>\n",
       "      <td>free</td>\n",
       "      <td>False</td>\n",
       "    </tr>\n",
       "  </tbody>\n",
       "</table>\n",
       "<p>1755 rows × 3 columns</p>\n",
       "</div>"
      ],
      "text/plain": [
       "                               creator_subscriptions  \\\n",
       "0                      [{'product': {'id': 'free'}}]   \n",
       "1                      [{'product': {'id': 'free'}}]   \n",
       "2                      [{'product': {'id': 'free'}}]   \n",
       "3     [{'product': {'id': 'creator-pro-unlimited'}}]   \n",
       "4                      [{'product': {'id': 'free'}}]   \n",
       "...                                              ...   \n",
       "1750                   [{'product': {'id': 'free'}}]   \n",
       "1751                   [{'product': {'id': 'free'}}]   \n",
       "1752                   [{'product': {'id': 'free'}}]   \n",
       "1753                   [{'product': {'id': 'free'}}]   \n",
       "1754                   [{'product': {'id': 'free'}}]   \n",
       "\n",
       "     creator_subscription.product.id  badges.pro_unlimited  \n",
       "0                               free                 False  \n",
       "1                               free                 False  \n",
       "2                               free                 False  \n",
       "3              creator-pro-unlimited                  True  \n",
       "4                               free                 False  \n",
       "...                              ...                   ...  \n",
       "1750                            free                 False  \n",
       "1751                            free                 False  \n",
       "1752                            free                 False  \n",
       "1753                            free                 False  \n",
       "1754                            free                 False  \n",
       "\n",
       "[1755 rows x 3 columns]"
      ]
     },
     "execution_count": 10,
     "metadata": {},
     "output_type": "execute_result"
    }
   ],
   "source": [
    "raw_user[['creator_subscriptions', 'creator_subscription.product.id', 'badges.pro_unlimited']]        "
   ]
  },
  {
   "cell_type": "code",
   "execution_count": 22,
   "metadata": {},
   "outputs": [
    {
     "data": {
      "text/plain": [
       "array([\"[{'product': {'id': 'free'}}]\",\n",
       "       \"[{'product': {'id': 'creator-pro-unlimited'}}]\",\n",
       "       \"[{'product': {'id': 'creator-pro'}}]\"], dtype=object)"
      ]
     },
     "execution_count": 22,
     "metadata": {},
     "output_type": "execute_result"
    }
   ],
   "source": [
    "raw_user['creator_subscriptions'].unique()"
   ]
  },
  {
   "cell_type": "code",
   "execution_count": 23,
   "metadata": {},
   "outputs": [
    {
     "data": {
      "text/plain": [
       "array(['free', 'creator-pro-unlimited', 'creator-pro'], dtype=object)"
      ]
     },
     "execution_count": 23,
     "metadata": {},
     "output_type": "execute_result"
    }
   ],
   "source": [
    "raw_user['creator_subscription.product.id'].unique()"
   ]
  },
  {
   "cell_type": "markdown",
   "metadata": {},
   "source": [
    "#### a.3. Kiểm tra các thuộc tính không đóng góp nhiều vào EDA"
   ]
  },
  {
   "cell_type": "code",
   "execution_count": 14,
   "metadata": {},
   "outputs": [
    {
     "name": "stdout",
     "output_type": "stream",
     "text": [
      "Số lượng groups_count: 1\n",
      "Số lượng kind: 1\n",
      "Số lượng verified: 1\n",
      "Số lượng visuals: 0\n",
      "Số lượng visuals.enabled: 1\n",
      "Số lượng visuals.tracking: 0\n",
      "Số lượng badges.verified: 1\n",
      "Số lượng reposts_count: 0\n"
     ]
    }
   ],
   "source": [
    "print(f\"Số lượng groups_count: {raw_user['groups_count'].nunique()}\")\n",
    "print(f\"Số lượng kind: {raw_user['kind'].nunique()}\")\n",
    "print(f\"Số lượng verified: {raw_user['verified'].nunique()}\")\n",
    "print(f\"Số lượng visuals: {raw_user['visuals'].nunique()}\")\n",
    "\n",
    "print(f\"Số lượng visuals.enabled: {raw_user['visuals.enabled'].nunique()}\")\n",
    "print(f\"Số lượng visuals.tracking: {raw_user['visuals.tracking'].nunique()}\")\n",
    "print(f\"Số lượng badges.verified: {raw_user['badges.verified'].nunique()}\")\n",
    "print(f\"Số lượng reposts_count: {raw_user['reposts_count'].nunique()}\")"
   ]
  },
  {
   "cell_type": "markdown",
   "metadata": {},
   "source": [
    "### Tổng kết\n",
    "\n",
    "- Thuộc tính `index` là cột chỉ mục. \n",
    "- Đối tượng user có 36 thuộc tính, trong đó bao gồm 4 loại thuộc tính chính:\n",
    "    - Các thuộc tính định danh => Chỉ chọn 1 thuộc tính\n",
    "        - `id`\n",
    "        - `avatar_url`\n",
    "        - `first_name`\n",
    "        - `last_name`\n",
    "        - `full_name`\n",
    "        - `username`\n",
    "        - `url` \n",
    "        - `uri`\n",
    "        - `urn`\n",
    "        - `permalink`\n",
    "        - `permalink_url`\n",
    "        \n",
    "    - Các thuộc tính trùng lắp về mặt ý nghĩa:\n",
    "        - `creator_subscriptions`, `creator_subscriptions.product.id` và `badges.pro_unlimited` (Do đó chỉ cần giữ lại `creator_subscription.product.id`)\n",
    "       \n",
    "    - Các thuộc tính không đóng góp đáng kể vào quá trình EDA:\n",
    "        - `groups_count`\n",
    "        - `kind`\n",
    "        - `verified`\n",
    "        - `visuals`\n",
    "        - `visuals.enabled`\n",
    "        - `visuals.tracking`\n",
    "        - `badges.verified`\n",
    "        - `reposts_count`\n",
    "        \n",
    "    - Các thuộc tính còn lại:\n",
    "        - `city`\n",
    "        - `comments_count`\n",
    "        - `country_code`\n",
    "        - `created_at`\n",
    "        - `followers_count`\n",
    "        - `followings_count`\n",
    "        - `likes_count`\n",
    "        - `playlist_likes_count`\n",
    "        - `playlist_count`\n",
    "        - `track_count` \n",
    "        - `visuals.urn`\n",
    "        - `visuals.visuals`\n",
    "        \n",
    "    - Cuối cùng, đồ án chọn 11 thuộc tính của tập user để EDA:\n",
    "        - `id`\n",
    "        - `comments_count`\n",
    "        - `country_code`\n",
    "        - `existing_time` (tạo từ thuộc tính `created_at`)\n",
    "        - `followers_count`\n",
    "        - `followings_count`\n",
    "        - `likes_count`\n",
    "        - `playlist_likes_count`\n",
    "        - `playlist_count`\n",
    "        - `track_count`\n",
    "        - `subscription_type` (đổi tên từ `creator_subscription.product.id`)"
   ]
  },
  {
   "cell_type": "code",
   "execution_count": 108,
   "metadata": {},
   "outputs": [],
   "source": [
    "# Trong cách cài đặt, ta chọn thêm trường city để phục vụ việc tiền xử lý, sau khi tiền xử lý xong sẽ xóa trường này\n",
    "selected_columns = ['id', 'city', 'comments_count', 'country_code', 'created_at', 'followers_count',\n",
    "       'followings_count', 'likes_count', 'playlist_likes_count', 'playlist_count', 'track_count', \n",
    "                    'creator_subscription.product.id']\n",
    "selected_user = raw_user[selected_columns]"
   ]
  },
  {
   "cell_type": "markdown",
   "metadata": {},
   "source": [
    "### b. Tiền xử lý và feature engineer"
   ]
  },
  {
   "cell_type": "code",
   "execution_count": 109,
   "metadata": {},
   "outputs": [
    {
     "data": {
      "text/html": [
       "<div>\n",
       "<style scoped>\n",
       "    .dataframe tbody tr th:only-of-type {\n",
       "        vertical-align: middle;\n",
       "    }\n",
       "\n",
       "    .dataframe tbody tr th {\n",
       "        vertical-align: top;\n",
       "    }\n",
       "\n",
       "    .dataframe thead th {\n",
       "        text-align: right;\n",
       "    }\n",
       "</style>\n",
       "<table border=\"1\" class=\"dataframe\">\n",
       "  <thead>\n",
       "    <tr style=\"text-align: right;\">\n",
       "      <th></th>\n",
       "      <th>id</th>\n",
       "      <th>city</th>\n",
       "      <th>comments_count</th>\n",
       "      <th>country_code</th>\n",
       "      <th>created_at</th>\n",
       "      <th>followers_count</th>\n",
       "      <th>followings_count</th>\n",
       "      <th>likes_count</th>\n",
       "      <th>playlist_likes_count</th>\n",
       "      <th>playlist_count</th>\n",
       "      <th>track_count</th>\n",
       "      <th>creator_subscription.product.id</th>\n",
       "    </tr>\n",
       "  </thead>\n",
       "  <tbody>\n",
       "    <tr>\n",
       "      <th>0</th>\n",
       "      <td>596252733</td>\n",
       "      <td>NaN</td>\n",
       "      <td>0</td>\n",
       "      <td>NaN</td>\n",
       "      <td>2019-02-27T12:14:41Z</td>\n",
       "      <td>1</td>\n",
       "      <td>3</td>\n",
       "      <td>28</td>\n",
       "      <td>3</td>\n",
       "      <td>3</td>\n",
       "      <td>0</td>\n",
       "      <td>free</td>\n",
       "    </tr>\n",
       "    <tr>\n",
       "      <th>1</th>\n",
       "      <td>557083830</td>\n",
       "      <td>London</td>\n",
       "      <td>7</td>\n",
       "      <td>GB</td>\n",
       "      <td>2018-12-17T23:58:59Z</td>\n",
       "      <td>4</td>\n",
       "      <td>21</td>\n",
       "      <td>105</td>\n",
       "      <td>6</td>\n",
       "      <td>15</td>\n",
       "      <td>0</td>\n",
       "      <td>free</td>\n",
       "    </tr>\n",
       "    <tr>\n",
       "      <th>2</th>\n",
       "      <td>461702466</td>\n",
       "      <td>NaN</td>\n",
       "      <td>19</td>\n",
       "      <td>NaN</td>\n",
       "      <td>2018-06-12T01:34:24Z</td>\n",
       "      <td>3</td>\n",
       "      <td>8</td>\n",
       "      <td>143</td>\n",
       "      <td>1</td>\n",
       "      <td>0</td>\n",
       "      <td>0</td>\n",
       "      <td>free</td>\n",
       "    </tr>\n",
       "    <tr>\n",
       "      <th>3</th>\n",
       "      <td>99685284</td>\n",
       "      <td>NaN</td>\n",
       "      <td>0</td>\n",
       "      <td>NaN</td>\n",
       "      <td>2014-06-13T06:02:21Z</td>\n",
       "      <td>1687347</td>\n",
       "      <td>15</td>\n",
       "      <td>12</td>\n",
       "      <td>0</td>\n",
       "      <td>8</td>\n",
       "      <td>109</td>\n",
       "      <td>creator-pro-unlimited</td>\n",
       "    </tr>\n",
       "    <tr>\n",
       "      <th>4</th>\n",
       "      <td>774095092</td>\n",
       "      <td>NaN</td>\n",
       "      <td>0</td>\n",
       "      <td>NaN</td>\n",
       "      <td>2020-01-30T15:35:47Z</td>\n",
       "      <td>2</td>\n",
       "      <td>0</td>\n",
       "      <td>0</td>\n",
       "      <td>0</td>\n",
       "      <td>1</td>\n",
       "      <td>0</td>\n",
       "      <td>free</td>\n",
       "    </tr>\n",
       "  </tbody>\n",
       "</table>\n",
       "</div>"
      ],
      "text/plain": [
       "          id    city  comments_count country_code            created_at  \\\n",
       "0  596252733     NaN               0          NaN  2019-02-27T12:14:41Z   \n",
       "1  557083830  London               7           GB  2018-12-17T23:58:59Z   \n",
       "2  461702466     NaN              19          NaN  2018-06-12T01:34:24Z   \n",
       "3   99685284     NaN               0          NaN  2014-06-13T06:02:21Z   \n",
       "4  774095092     NaN               0          NaN  2020-01-30T15:35:47Z   \n",
       "\n",
       "   followers_count  followings_count  likes_count  playlist_likes_count  \\\n",
       "0                1                 3           28                     3   \n",
       "1                4                21          105                     6   \n",
       "2                3                 8          143                     1   \n",
       "3          1687347                15           12                     0   \n",
       "4                2                 0            0                     0   \n",
       "\n",
       "   playlist_count  track_count creator_subscription.product.id  \n",
       "0               3            0                            free  \n",
       "1              15            0                            free  \n",
       "2               0            0                            free  \n",
       "3               8          109           creator-pro-unlimited  \n",
       "4               1            0                            free  "
      ]
     },
     "execution_count": 109,
     "metadata": {},
     "output_type": "execute_result"
    }
   ],
   "source": [
    "selected_user.head()"
   ]
  },
  {
   "cell_type": "code",
   "execution_count": 110,
   "metadata": {},
   "outputs": [
    {
     "name": "stdout",
     "output_type": "stream",
     "text": [
      "<class 'pandas.core.frame.DataFrame'>\n",
      "RangeIndex: 1755 entries, 0 to 1754\n",
      "Data columns (total 12 columns):\n",
      " #   Column                           Non-Null Count  Dtype \n",
      "---  ------                           --------------  ----- \n",
      " 0   id                               1755 non-null   int64 \n",
      " 1   city                             334 non-null    object\n",
      " 2   comments_count                   1755 non-null   int64 \n",
      " 3   country_code                     292 non-null    object\n",
      " 4   created_at                       1755 non-null   object\n",
      " 5   followers_count                  1755 non-null   int64 \n",
      " 6   followings_count                 1755 non-null   int64 \n",
      " 7   likes_count                      1755 non-null   int64 \n",
      " 8   playlist_likes_count             1755 non-null   int64 \n",
      " 9   playlist_count                   1755 non-null   int64 \n",
      " 10  track_count                      1755 non-null   int64 \n",
      " 11  creator_subscription.product.id  1755 non-null   object\n",
      "dtypes: int64(8), object(4)\n",
      "memory usage: 164.7+ KB\n"
     ]
    }
   ],
   "source": [
    "selected_user.info()"
   ]
  },
  {
   "cell_type": "markdown",
   "metadata": {},
   "source": [
    "#### b.1. Kiểm tra giá trị không hợp lệ"
   ]
  },
  {
   "cell_type": "markdown",
   "metadata": {},
   "source": [
    "Ta thực hiện kiểm tra sự không hợp lệ và không đồng nhất (cùng một từ nhưng từ viết hoa, từ viết thường,...) với các trường dữ liệu kiểu `categorical` là `country_code`.\n",
    "- Mã quốc gia sẽ được tham khảo từ link [này](https://countrycode.org/)"
   ]
  },
  {
   "cell_type": "code",
   "execution_count": 111,
   "metadata": {},
   "outputs": [
    {
     "data": {
      "text/plain": [
       "array([nan, 'GB', 'US', 'ZA', 'BE', 'CA', 'PG', 'UA', 'AL', 'PK', 'NL',\n",
       "       'HT', 'ES', 'BR', 'EG', 'GE', 'DE', 'AF', 'PR', 'AO', 'AU', 'MX',\n",
       "       'SE', 'JP', 'BS', 'DK', 'PT', 'CU', 'ID', 'AX', 'NO', 'IT', 'KR'],\n",
       "      dtype=object)"
      ]
     },
     "execution_count": 111,
     "metadata": {},
     "output_type": "execute_result"
    }
   ],
   "source": [
    "# Các mã quốc gia dưới đây đã hợp lệ\n",
    "selected_user['country_code'].unique()"
   ]
  },
  {
   "cell_type": "markdown",
   "metadata": {},
   "source": [
    "#### b.2. Kiểm tra giá trị null"
   ]
  },
  {
   "cell_type": "code",
   "execution_count": 112,
   "metadata": {},
   "outputs": [
    {
     "data": {
      "text/plain": [
       "id                                    0\n",
       "city                               1421\n",
       "comments_count                        0\n",
       "country_code                       1463\n",
       "created_at                            0\n",
       "followers_count                       0\n",
       "followings_count                      0\n",
       "likes_count                           0\n",
       "playlist_likes_count                  0\n",
       "playlist_count                        0\n",
       "track_count                           0\n",
       "creator_subscription.product.id       0\n",
       "dtype: int64"
      ]
     },
     "execution_count": 112,
     "metadata": {},
     "output_type": "execute_result"
    }
   ],
   "source": [
    "selected_user.isnull().sum()"
   ]
  },
  {
   "cell_type": "markdown",
   "metadata": {},
   "source": [
    "**Nhận xét:**\n",
    "- Để tìm được mã quốc gia của các user có `country_code` bằng NaN, ta có thể tìm đến phần mô tả hoặc parse từ thuộc tính `city` qua. Tuy nhiên, cách xử lý phần `description` đòi hỏi xử lý ngôn ngữ tự nhiên khá nhiều nên ta chỉ rút trích trường `city`, nếu vẫn còn giá trị NaN thì ta thay thế NaN bằng chuỗi \"Unknown\""
   ]
  },
  {
   "cell_type": "code",
   "execution_count": 113,
   "metadata": {},
   "outputs": [
    {
     "data": {
      "text/plain": [
       "array([\" L O S '   A N G E L E S\", '1320', '1400 1400 1400',\n",
       "       '8bit wonderland', 'ATK da gang 23FAMILY', 'Atlanta',\n",
       "       'Atlanta/Decatur', 'B R U H', 'BISEXUAL ', 'Batlimore',\n",
       "       'Baton Rouge', 'Blazetown 420 ', 'Brooklyn', 'Charlotte',\n",
       "       'Chicago', 'Chicago, IL', 'Chiraq', 'Corpus Christi, Texas',\n",
       "       'Dance Pop Songs', 'Denver', 'Detroit', 'East Atlanta', 'HOUSTON',\n",
       "       'HOUSTON TX', 'Iann Dior Juice Wrld Run', 'Jacksonville, Florida',\n",
       "       'LA', 'Lil Durk NLE Choppa Damian Marley', 'Los Angeles',\n",
       "       'Los Angeles County, CA', 'Louisville, KY', 'MIA', 'Memphis',\n",
       "       'N. Las Vegas', 'NJ/NY', 'New School 80s', 'PLANET DROOL', 'Paris',\n",
       "       'Paris 20', 'Plastic Inevitable',\n",
       "       'Playlist OR Spotify Promo Inbox',\n",
       "       'Promoting Great Music Worldwide', 'Rap~Songs~HipHop~BoomBap~Down',\n",
       "       'Rod Wave Da Baby', 'SOUTH SYDNEY', 'Shreveport', 'St. Petersburg',\n",
       "       'TIK TOK', 'The ProducersUnited.com', 'Waynesboro, Pennsylvania ',\n",
       "       'Wilkes-Barre', 'Worldwide', 'calabasas', 'chicago',\n",
       "       'da baby da baby da baby', 'dmv', 'gaia', 'houston', 'near uranus',\n",
       "       'not lil uzi vert', 'philly', 'playboi carti', 'polo g',\n",
       "       'pompano beach', 'somewhere scorching.',\n",
       "       'tHiS & ThAt WoRlD.. mInI mUsIc CoMp', 'west. pa', 'weymouth',\n",
       "       'zagazig ,egypt', '¥akima '], dtype=object)"
      ]
     },
     "execution_count": 113,
     "metadata": {},
     "output_type": "execute_result"
    }
   ],
   "source": [
    "selected_user[(selected_user['country_code'].isnull()) & (~selected_user['city'].isnull())]['city'].sort_values().unique()"
   ]
  },
  {
   "cell_type": "code",
   "execution_count": 114,
   "metadata": {},
   "outputs": [],
   "source": [
    "invalid_cities = {'New School 80s', 'Lil Durk NLE Choppa Damian Marley', 'ATK da gang 23FAMILY'\n",
    "       'Playlist OR Spotify Promo Inbox','Promoting Great Music Worldwide', '1400 1400 1400', \n",
    "        'near uranus', 'The ProducersUnited.com',\n",
    "       'da baby da baby da baby', 'playboi carti', 'Iann Dior Juice Wrld Run', 'TIK TOK','PLANET DROOL',\n",
    "       'Rap~Songs~HipHop~BoomBap~Down','8bit wonderland', 'polo g', 'somewhere scorching.', \n",
    "        'Worldwide', 'B R U H', 'tHiS & ThAt WoRlD.. mInI mUsIc CoMp', 'Rod Wave Da Baby',\n",
    "       'not lil uzi vert', 'BISEXUAL ', 'Dance Pop Songs', '1320', 'Plastic Inevitable'}"
   ]
  },
  {
   "cell_type": "code",
   "execution_count": 115,
   "metadata": {},
   "outputs": [
    {
     "name": "stderr",
     "output_type": "stream",
     "text": [
      "/home/nnbtam99/miniconda3/envs/pysyft/lib/python3.7/site-packages/pandas/core/indexing.py:1765: SettingWithCopyWarning: \n",
      "A value is trying to be set on a copy of a slice from a DataFrame.\n",
      "Try using .loc[row_indexer,col_indexer] = value instead\n",
      "\n",
      "See the caveats in the documentation: https://pandas.pydata.org/pandas-docs/stable/user_guide/indexing.html#returning-a-view-versus-a-copy\n",
      "  isetter(loc, value)\n"
     ]
    }
   ],
   "source": [
    "for index, row in selected_user.iterrows():\n",
    "    # chỉ xét các dòng có city <> NaN\n",
    "    if not pd.isna(row['city']):\n",
    "        if row['city'] in invalid_cities:\n",
    "            selected_user.loc[index, 'city'] = np.NaN"
   ]
  },
  {
   "cell_type": "code",
   "execution_count": 116,
   "metadata": {},
   "outputs": [
    {
     "data": {
      "text/plain": [
       "array([\" L O S '   A N G E L E S\", 'ATK da gang 23FAMILY', 'Atlanta',\n",
       "       'Atlanta/Decatur', 'Batlimore', 'Baton Rouge', 'Blazetown 420 ',\n",
       "       'Brooklyn', 'Charlotte', 'Chicago', 'Chicago, IL', 'Chiraq',\n",
       "       'Corpus Christi, Texas', 'Denver', 'Detroit', 'East Atlanta',\n",
       "       'HOUSTON', 'HOUSTON TX', 'Jacksonville, Florida', 'LA',\n",
       "       'Los Angeles', 'Los Angeles County, CA', 'Louisville, KY', 'MIA',\n",
       "       'Memphis', 'N. Las Vegas', 'NJ/NY', 'Paris', 'Paris 20',\n",
       "       'Playlist OR Spotify Promo Inbox', 'SOUTH SYDNEY', 'Shreveport',\n",
       "       'St. Petersburg', 'Waynesboro, Pennsylvania ', 'Wilkes-Barre',\n",
       "       'calabasas', 'chicago', 'dmv', 'gaia', 'houston', 'philly',\n",
       "       'pompano beach', 'west. pa', 'weymouth', 'zagazig ,egypt',\n",
       "       '¥akima '], dtype=object)"
      ]
     },
     "execution_count": 116,
     "metadata": {},
     "output_type": "execute_result"
    }
   ],
   "source": [
    "selected_user[(selected_user['country_code'].isnull()) & (~selected_user['city'].isnull())]['city'].sort_values().unique()"
   ]
  },
  {
   "cell_type": "code",
   "execution_count": 117,
   "metadata": {},
   "outputs": [],
   "source": [
    "spelling = {\" L O S '   A N G E L E S\": \"CA\",\n",
    "            'Atlanta/Decatur':\"Atlanta\",\n",
    "            'Chicago, IL':\"Chicago\", 'Chiraq':\"Chicago\",\n",
    "            'Corpus Christi, Texas':\"Texas\", 'HOUSTON':\"Texas\",\n",
    "            'HOUSTON TX':\"Texas\", 'Jacksonville, Florida':\"Florida\",\n",
    "            'Los Angeles':\"CA\", 'Los Angeles County, CA':\"CA\",\n",
    "            'Louisville, KY':\"KY\", 'Paris 20':\"Paris\",\n",
    "            'Waynesboro, Pennsylvania ':\"Pennsylvania\",\n",
    "            'houston':\"Texas\", 'chicago':\"Chicago\"\n",
    "           }"
   ]
  },
  {
   "cell_type": "code",
   "execution_count": 118,
   "metadata": {},
   "outputs": [
    {
     "name": "stderr",
     "output_type": "stream",
     "text": [
      "/home/nnbtam99/miniconda3/envs/pysyft/lib/python3.7/site-packages/ipykernel_launcher.py:1: SettingWithCopyWarning: \n",
      "A value is trying to be set on a copy of a slice from a DataFrame.\n",
      "Try using .loc[row_indexer,col_indexer] = value instead\n",
      "\n",
      "See the caveats in the documentation: https://pandas.pydata.org/pandas-docs/stable/user_guide/indexing.html#returning-a-view-versus-a-copy\n",
      "  \"\"\"Entry point for launching an IPython kernel.\n"
     ]
    },
    {
     "data": {
      "text/plain": [
       "array(['ATK da gang 23FAMILY', 'Atlanta', 'Batlimore', 'Baton Rouge',\n",
       "       'Blazetown 420 ', 'Brooklyn', 'CA', 'Charlotte', 'Chicago',\n",
       "       'Denver', 'Detroit', 'East Atlanta', 'Florida', 'KY', 'LA', 'MIA',\n",
       "       'Memphis', 'N. Las Vegas', 'NJ/NY', 'Paris', 'Pennsylvania',\n",
       "       'Playlist OR Spotify Promo Inbox', 'SOUTH SYDNEY', 'Shreveport',\n",
       "       'St. Petersburg', 'Texas', 'Wilkes-Barre', 'calabasas', 'dmv',\n",
       "       'gaia', 'philly', 'pompano beach', 'west. pa', 'weymouth',\n",
       "       'zagazig ,egypt', '¥akima '], dtype=object)"
      ]
     },
     "execution_count": 118,
     "metadata": {},
     "output_type": "execute_result"
    }
   ],
   "source": [
    "selected_user['city'] = selected_user['city'].replace(spelling)\n",
    "selected_user[(selected_user['country_code'].isnull()) & (~selected_user['city'].isnull())]['city'].sort_values().unique()"
   ]
  },
  {
   "cell_type": "code",
   "execution_count": 120,
   "metadata": {},
   "outputs": [],
   "source": [
    "city_country_code = {\"Atlanta\":\"US\",\n",
    "                    'Batlimore':\"US\",\n",
    "                    'Baton Rouge':\"US\",\n",
    "                    'Blazetown 420 ':\"US\",\n",
    "                     'Brooklyn':\"US\",\n",
    "                     'CA':\"US\",\n",
    "                     'Charlotte':\"US\",\n",
    "                     'Chicago':\"US\",\n",
    "                     'Denver':\"US\", 'Detroit':\"US\", 'East Atlanta':\"US\", 'Florida':\"US\", \n",
    "                     'KY':\"US\", 'LA':\"US\", 'MIA':\"US\",\n",
    "                   'Memphis':\"US\", 'N. Las Vegas':\"US\", 'NJ/NY':\"US\", 'Paris':\"FR\", 'Pennsylvania':\"US\",\n",
    "                   'SOUTH SYDNEY':\"AU\", 'Shreveport':\"US\",\n",
    "               'St. Petersburg':\"RU\", 'Texas':\"US\", 'Wilkes-Barre':\"US\", 'calabasas':\"US\", 'dmv':\"US\",\n",
    "               'gaia':\"PT\", 'philly':\"US\", 'pompano beach':\"US\", 'west. pa':\"US\", 'weymouth':\"US\",\n",
    "                   'zagazig ,egypt':\"EG\", '¥akima ':\"US\"}"
   ]
  },
  {
   "cell_type": "code",
   "execution_count": 121,
   "metadata": {},
   "outputs": [
    {
     "name": "stderr",
     "output_type": "stream",
     "text": [
      "/home/nnbtam99/miniconda3/envs/pysyft/lib/python3.7/site-packages/pandas/core/indexing.py:1765: SettingWithCopyWarning: \n",
      "A value is trying to be set on a copy of a slice from a DataFrame.\n",
      "Try using .loc[row_indexer,col_indexer] = value instead\n",
      "\n",
      "See the caveats in the documentation: https://pandas.pydata.org/pandas-docs/stable/user_guide/indexing.html#returning-a-view-versus-a-copy\n",
      "  isetter(loc, value)\n"
     ]
    }
   ],
   "source": [
    "for index, row in selected_user.iterrows():\n",
    "    # chỉ xét các dòng có city <> NaN\n",
    "    if not pd.isna(row['city']):\n",
    "        if row['city'] in city_country_code:\n",
    "            selected_user.loc[index, 'country_code'] = city_country_code[row['city']]"
   ]
  },
  {
   "cell_type": "code",
   "execution_count": 125,
   "metadata": {},
   "outputs": [
    {
     "data": {
      "text/plain": [
       "id                                    0\n",
       "city                               1445\n",
       "comments_count                        0\n",
       "country_code                       1408\n",
       "created_at                            0\n",
       "followers_count                       0\n",
       "followings_count                      0\n",
       "likes_count                           0\n",
       "playlist_likes_count                  0\n",
       "playlist_count                        0\n",
       "track_count                           0\n",
       "creator_subscription.product.id       0\n",
       "dtype: int64"
      ]
     },
     "execution_count": 125,
     "metadata": {},
     "output_type": "execute_result"
    }
   ],
   "source": [
    "# Kiểm tra sau khi fill country_code từ trường city\n",
    "selected_user.isnull().sum()"
   ]
  },
  {
   "cell_type": "markdown",
   "metadata": {},
   "source": [
    "- Kiểm tra lại trường `country_code` sau khi tiền xử lý, ta thấy số lượng giá trị null giảm từ 1463 còn 1408. \n",
    "- Tiếp tục fill các giá trị na còn lại bằng chuỗi \"Unknown\" và xóa cột `city`"
   ]
  },
  {
   "cell_type": "code",
   "execution_count": 128,
   "metadata": {},
   "outputs": [],
   "source": [
    "selected_user = selected_user.drop(columns=['city'])"
   ]
  },
  {
   "cell_type": "code",
   "execution_count": 129,
   "metadata": {},
   "outputs": [],
   "source": [
    "country_code_na = {'country_code':'Unknown'}\n",
    "selected_user = selected_user.fillna(value = country_code_na)"
   ]
  },
  {
   "cell_type": "code",
   "execution_count": 131,
   "metadata": {},
   "outputs": [
    {
     "data": {
      "text/plain": [
       "id                                 0\n",
       "comments_count                     0\n",
       "country_code                       0\n",
       "created_at                         0\n",
       "followers_count                    0\n",
       "followings_count                   0\n",
       "likes_count                        0\n",
       "playlist_likes_count               0\n",
       "playlist_count                     0\n",
       "track_count                        0\n",
       "creator_subscription.product.id    0\n",
       "dtype: int64"
      ]
     },
     "execution_count": 131,
     "metadata": {},
     "output_type": "execute_result"
    }
   ],
   "source": [
    "# Kiểm tra sau khi fill country_code bằng giá trị \"Unknown\"\n",
    "selected_user.isnull().sum()"
   ]
  },
  {
   "cell_type": "markdown",
   "metadata": {},
   "source": [
    "#### b.3. Biến đổi thuộc tính (data transformation) "
   ]
  },
  {
   "cell_type": "code",
   "execution_count": 132,
   "metadata": {},
   "outputs": [
    {
     "name": "stdout",
     "output_type": "stream",
     "text": [
      "<class 'pandas.core.frame.DataFrame'>\n",
      "RangeIndex: 1755 entries, 0 to 1754\n",
      "Data columns (total 11 columns):\n",
      " #   Column                           Non-Null Count  Dtype \n",
      "---  ------                           --------------  ----- \n",
      " 0   id                               1755 non-null   int64 \n",
      " 1   comments_count                   1755 non-null   int64 \n",
      " 2   country_code                     1755 non-null   object\n",
      " 3   created_at                       1755 non-null   object\n",
      " 4   followers_count                  1755 non-null   int64 \n",
      " 5   followings_count                 1755 non-null   int64 \n",
      " 6   likes_count                      1755 non-null   int64 \n",
      " 7   playlist_likes_count             1755 non-null   int64 \n",
      " 8   playlist_count                   1755 non-null   int64 \n",
      " 9   track_count                      1755 non-null   int64 \n",
      " 10  creator_subscription.product.id  1755 non-null   object\n",
      "dtypes: int64(8), object(3)\n",
      "memory usage: 150.9+ KB\n"
     ]
    }
   ],
   "source": [
    "selected_user.info()"
   ]
  },
  {
   "cell_type": "markdown",
   "metadata": {},
   "source": [
    "- Đổi kiểu dữ liệu `id` thành `string`\n",
    "- Đổi tên trường `creator_subscription.product.id` thành `subscription_type`\n",
    "- Biến đổi `created_at` thành kiểu `datetime` và feature engineer thành `existing_time`"
   ]
  },
  {
   "cell_type": "code",
   "execution_count": 134,
   "metadata": {},
   "outputs": [],
   "source": [
    "selected_user.rename(columns={'creator_subscription.product.id':'subscription_type'}, inplace=True)"
   ]
  },
  {
   "cell_type": "code",
   "execution_count": 135,
   "metadata": {},
   "outputs": [],
   "source": [
    "selected_user['id'] = selected_user['id'].astype('string')\n",
    "selected_user['created_at'] = pd.to_datetime(selected_user['created_at']).dt.tz_localize(None)"
   ]
  },
  {
   "cell_type": "markdown",
   "metadata": {},
   "source": [
    "Thêm thuộc tính `existing_time = today - created_at`"
   ]
  },
  {
   "cell_type": "code",
   "execution_count": 137,
   "metadata": {},
   "outputs": [],
   "source": [
    "from datetime import date\n",
    "selected_user['existing_time'] = date.today()\n",
    "\n",
    "# convert to the same timezone\n",
    "selected_user['existing_time'] = pd.to_datetime(selected_user['existing_time']).dt.tz_localize(None)\n",
    "selected_user['existing_time'] = (selected_user['existing_time'] - selected_user['created_at'])/ np.timedelta64(1, 'M')"
   ]
  },
  {
   "cell_type": "code",
   "execution_count": 138,
   "metadata": {},
   "outputs": [],
   "source": [
    "selected_user = selected_user.drop(columns='created_at')"
   ]
  },
  {
   "cell_type": "markdown",
   "metadata": {},
   "source": [
    "### c. Kiểm tra lại dữ liệu"
   ]
  },
  {
   "cell_type": "code",
   "execution_count": 141,
   "metadata": {},
   "outputs": [
    {
     "data": {
      "text/html": [
       "<div>\n",
       "<style scoped>\n",
       "    .dataframe tbody tr th:only-of-type {\n",
       "        vertical-align: middle;\n",
       "    }\n",
       "\n",
       "    .dataframe tbody tr th {\n",
       "        vertical-align: top;\n",
       "    }\n",
       "\n",
       "    .dataframe thead th {\n",
       "        text-align: right;\n",
       "    }\n",
       "</style>\n",
       "<table border=\"1\" class=\"dataframe\">\n",
       "  <thead>\n",
       "    <tr style=\"text-align: right;\">\n",
       "      <th></th>\n",
       "      <th>id</th>\n",
       "      <th>comments_count</th>\n",
       "      <th>country_code</th>\n",
       "      <th>followers_count</th>\n",
       "      <th>followings_count</th>\n",
       "      <th>likes_count</th>\n",
       "      <th>playlist_likes_count</th>\n",
       "      <th>playlist_count</th>\n",
       "      <th>track_count</th>\n",
       "      <th>subscription_type</th>\n",
       "      <th>existing_time</th>\n",
       "    </tr>\n",
       "  </thead>\n",
       "  <tbody>\n",
       "    <tr>\n",
       "      <th>0</th>\n",
       "      <td>596252733</td>\n",
       "      <td>0</td>\n",
       "      <td>Unknown</td>\n",
       "      <td>1</td>\n",
       "      <td>3</td>\n",
       "      <td>28</td>\n",
       "      <td>3</td>\n",
       "      <td>3</td>\n",
       "      <td>0</td>\n",
       "      <td>free</td>\n",
       "      <td>20.418975</td>\n",
       "    </tr>\n",
       "    <tr>\n",
       "      <th>1</th>\n",
       "      <td>557083830</td>\n",
       "      <td>7</td>\n",
       "      <td>GB</td>\n",
       "      <td>4</td>\n",
       "      <td>21</td>\n",
       "      <td>105</td>\n",
       "      <td>6</td>\n",
       "      <td>15</td>\n",
       "      <td>0</td>\n",
       "      <td>free</td>\n",
       "      <td>22.768458</td>\n",
       "    </tr>\n",
       "    <tr>\n",
       "      <th>2</th>\n",
       "      <td>461702466</td>\n",
       "      <td>19</td>\n",
       "      <td>Unknown</td>\n",
       "      <td>3</td>\n",
       "      <td>8</td>\n",
       "      <td>143</td>\n",
       "      <td>1</td>\n",
       "      <td>0</td>\n",
       "      <td>0</td>\n",
       "      <td>free</td>\n",
       "      <td>28.975854</td>\n",
       "    </tr>\n",
       "    <tr>\n",
       "      <th>3</th>\n",
       "      <td>99685284</td>\n",
       "      <td>0</td>\n",
       "      <td>Unknown</td>\n",
       "      <td>1687347</td>\n",
       "      <td>15</td>\n",
       "      <td>12</td>\n",
       "      <td>0</td>\n",
       "      <td>8</td>\n",
       "      <td>109</td>\n",
       "      <td>creator-pro-unlimited</td>\n",
       "      <td>76.937871</td>\n",
       "    </tr>\n",
       "    <tr>\n",
       "      <th>4</th>\n",
       "      <td>774095092</td>\n",
       "      <td>0</td>\n",
       "      <td>Unknown</td>\n",
       "      <td>2</td>\n",
       "      <td>0</td>\n",
       "      <td>0</td>\n",
       "      <td>0</td>\n",
       "      <td>1</td>\n",
       "      <td>0</td>\n",
       "      <td>free</td>\n",
       "      <td>9.342291</td>\n",
       "    </tr>\n",
       "  </tbody>\n",
       "</table>\n",
       "</div>"
      ],
      "text/plain": [
       "          id  comments_count country_code  followers_count  followings_count  \\\n",
       "0  596252733               0      Unknown                1                 3   \n",
       "1  557083830               7           GB                4                21   \n",
       "2  461702466              19      Unknown                3                 8   \n",
       "3   99685284               0      Unknown          1687347                15   \n",
       "4  774095092               0      Unknown                2                 0   \n",
       "\n",
       "   likes_count  playlist_likes_count  playlist_count  track_count  \\\n",
       "0           28                     3               3            0   \n",
       "1          105                     6              15            0   \n",
       "2          143                     1               0            0   \n",
       "3           12                     0               8          109   \n",
       "4            0                     0               1            0   \n",
       "\n",
       "       subscription_type  existing_time  \n",
       "0                   free      20.418975  \n",
       "1                   free      22.768458  \n",
       "2                   free      28.975854  \n",
       "3  creator-pro-unlimited      76.937871  \n",
       "4                   free       9.342291  "
      ]
     },
     "execution_count": 141,
     "metadata": {},
     "output_type": "execute_result"
    }
   ],
   "source": [
    "selected_user.head()"
   ]
  },
  {
   "cell_type": "code",
   "execution_count": 142,
   "metadata": {},
   "outputs": [
    {
     "data": {
      "text/plain": [
       "id                      0\n",
       "comments_count          0\n",
       "country_code            0\n",
       "followers_count         0\n",
       "followings_count        0\n",
       "likes_count             0\n",
       "playlist_likes_count    0\n",
       "playlist_count          0\n",
       "track_count             0\n",
       "subscription_type       0\n",
       "existing_time           0\n",
       "dtype: int64"
      ]
     },
     "execution_count": 142,
     "metadata": {},
     "output_type": "execute_result"
    }
   ],
   "source": [
    "# Kiểm tra giá trị missing\n",
    "selected_user.isnull().sum()"
   ]
  },
  {
   "cell_type": "code",
   "execution_count": 143,
   "metadata": {},
   "outputs": [
    {
     "name": "stdout",
     "output_type": "stream",
     "text": [
      "<class 'pandas.core.frame.DataFrame'>\n",
      "RangeIndex: 1755 entries, 0 to 1754\n",
      "Data columns (total 11 columns):\n",
      " #   Column                Non-Null Count  Dtype  \n",
      "---  ------                --------------  -----  \n",
      " 0   id                    1755 non-null   string \n",
      " 1   comments_count        1755 non-null   int64  \n",
      " 2   country_code          1755 non-null   object \n",
      " 3   followers_count       1755 non-null   int64  \n",
      " 4   followings_count      1755 non-null   int64  \n",
      " 5   likes_count           1755 non-null   int64  \n",
      " 6   playlist_likes_count  1755 non-null   int64  \n",
      " 7   playlist_count        1755 non-null   int64  \n",
      " 8   track_count           1755 non-null   int64  \n",
      " 9   subscription_type     1755 non-null   object \n",
      " 10  existing_time         1755 non-null   float64\n",
      "dtypes: float64(1), int64(7), object(2), string(1)\n",
      "memory usage: 150.9+ KB\n"
     ]
    }
   ],
   "source": [
    "# Kiểm tra loại dữ liệu\n",
    "selected_user.info()"
   ]
  },
  {
   "cell_type": "code",
   "execution_count": 144,
   "metadata": {},
   "outputs": [
    {
     "data": {
      "text/plain": [
       "(1755, 11)"
      ]
     },
     "execution_count": 144,
     "metadata": {},
     "output_type": "execute_result"
    }
   ],
   "source": [
    "# Kiểm tra số lượng mẫu và thuộc tính\n",
    "selected_user.shape"
   ]
  },
  {
   "cell_type": "markdown",
   "metadata": {},
   "source": [
    "### d. Lưu xuống file csv để EDA ở module kế tiếp"
   ]
  },
  {
   "cell_type": "code",
   "execution_count": 145,
   "metadata": {},
   "outputs": [],
   "source": [
    "selected_user.to_csv(\"Crawl_data/selected_users.csv\", sep='\\t', index=False)"
   ]
  },
  {
   "cell_type": "markdown",
   "metadata": {},
   "source": [
    "## 3. Tập track"
   ]
  },
  {
   "cell_type": "markdown",
   "metadata": {},
   "source": [
    "### a. Kiểm tra tổng quan"
   ]
  },
  {
   "cell_type": "code",
   "execution_count": 151,
   "metadata": {},
   "outputs": [
    {
     "data": {
      "text/html": [
       "<div>\n",
       "<style scoped>\n",
       "    .dataframe tbody tr th:only-of-type {\n",
       "        vertical-align: middle;\n",
       "    }\n",
       "\n",
       "    .dataframe tbody tr th {\n",
       "        vertical-align: top;\n",
       "    }\n",
       "\n",
       "    .dataframe thead th {\n",
       "        text-align: right;\n",
       "    }\n",
       "</style>\n",
       "<table border=\"1\" class=\"dataframe\">\n",
       "  <thead>\n",
       "    <tr style=\"text-align: right;\">\n",
       "      <th></th>\n",
       "      <th>artwork_url</th>\n",
       "      <th>caption</th>\n",
       "      <th>commentable</th>\n",
       "      <th>comment_count</th>\n",
       "      <th>created_at</th>\n",
       "      <th>description</th>\n",
       "      <th>downloadable</th>\n",
       "      <th>download_count</th>\n",
       "      <th>duration</th>\n",
       "      <th>full_duration</th>\n",
       "      <th>...</th>\n",
       "      <th>publisher_metadata.p_line</th>\n",
       "      <th>publisher_metadata.p_line_for_display</th>\n",
       "      <th>publisher_metadata.c_line</th>\n",
       "      <th>publisher_metadata.c_line_for_display</th>\n",
       "      <th>publisher_metadata.release_title</th>\n",
       "      <th>publisher_metadata.iswc</th>\n",
       "      <th>visuals.urn</th>\n",
       "      <th>visuals.enabled</th>\n",
       "      <th>visuals.visuals</th>\n",
       "      <th>visuals.tracking</th>\n",
       "    </tr>\n",
       "  </thead>\n",
       "  <tbody>\n",
       "    <tr>\n",
       "      <th>0</th>\n",
       "      <td>https://i1.sndcdn.com/artworks-000104315188-h0...</td>\n",
       "      <td>NaN</td>\n",
       "      <td>True</td>\n",
       "      <td>470.0</td>\n",
       "      <td>2015-01-23T11:09:51Z</td>\n",
       "      <td>We're proud to introduce the next single by Bo...</td>\n",
       "      <td>False</td>\n",
       "      <td>0.0</td>\n",
       "      <td>202362</td>\n",
       "      <td>202362</td>\n",
       "      <td>...</td>\n",
       "      <td>NaN</td>\n",
       "      <td>NaN</td>\n",
       "      <td>NaN</td>\n",
       "      <td>NaN</td>\n",
       "      <td>NaN</td>\n",
       "      <td>NaN</td>\n",
       "      <td>NaN</td>\n",
       "      <td>NaN</td>\n",
       "      <td>NaN</td>\n",
       "      <td>NaN</td>\n",
       "    </tr>\n",
       "    <tr>\n",
       "      <th>1</th>\n",
       "      <td>https://i1.sndcdn.com/artworks-000147808151-gm...</td>\n",
       "      <td>NaN</td>\n",
       "      <td>True</td>\n",
       "      <td>56.0</td>\n",
       "      <td>2016-02-19T17:44:56Z</td>\n",
       "      <td>Download Jacquees \"Mood\" here: http://www.live...</td>\n",
       "      <td>False</td>\n",
       "      <td>0.0</td>\n",
       "      <td>231700</td>\n",
       "      <td>231700</td>\n",
       "      <td>...</td>\n",
       "      <td>NaN</td>\n",
       "      <td>NaN</td>\n",
       "      <td>NaN</td>\n",
       "      <td>NaN</td>\n",
       "      <td>NaN</td>\n",
       "      <td>NaN</td>\n",
       "      <td>NaN</td>\n",
       "      <td>NaN</td>\n",
       "      <td>NaN</td>\n",
       "      <td>NaN</td>\n",
       "    </tr>\n",
       "    <tr>\n",
       "      <th>2</th>\n",
       "      <td>https://i1.sndcdn.com/artworks-000080593908-xr...</td>\n",
       "      <td>NaN</td>\n",
       "      <td>True</td>\n",
       "      <td>291.0</td>\n",
       "      <td>2014-05-27T00:55:57Z</td>\n",
       "      <td>NaN</td>\n",
       "      <td>False</td>\n",
       "      <td>0.0</td>\n",
       "      <td>231361</td>\n",
       "      <td>231361</td>\n",
       "      <td>...</td>\n",
       "      <td>NaN</td>\n",
       "      <td>NaN</td>\n",
       "      <td>NaN</td>\n",
       "      <td>NaN</td>\n",
       "      <td>NaN</td>\n",
       "      <td>NaN</td>\n",
       "      <td>NaN</td>\n",
       "      <td>NaN</td>\n",
       "      <td>NaN</td>\n",
       "      <td>NaN</td>\n",
       "    </tr>\n",
       "    <tr>\n",
       "      <th>3</th>\n",
       "      <td>https://i1.sndcdn.com/artworks-6xOX1QElJSM0-0-...</td>\n",
       "      <td>NaN</td>\n",
       "      <td>True</td>\n",
       "      <td>613.0</td>\n",
       "      <td>2018-10-03T00:45:50Z</td>\n",
       "      <td>NaN</td>\n",
       "      <td>False</td>\n",
       "      <td>0.0</td>\n",
       "      <td>30000</td>\n",
       "      <td>174749</td>\n",
       "      <td>...</td>\n",
       "      <td>Quality Control Music/Young Stoner Life Record...</td>\n",
       "      <td>℗ Quality Control Music/Young Stoner Life Reco...</td>\n",
       "      <td>2018 © 2018 Quality Control Music, LLC, under ...</td>\n",
       "      <td>© 2018 © 2018 Quality Control Music, LLC, unde...</td>\n",
       "      <td>Deep End</td>\n",
       "      <td>NaN</td>\n",
       "      <td>NaN</td>\n",
       "      <td>NaN</td>\n",
       "      <td>NaN</td>\n",
       "      <td>NaN</td>\n",
       "    </tr>\n",
       "    <tr>\n",
       "      <th>4</th>\n",
       "      <td>https://i1.sndcdn.com/artworks-ClfnOZbcgp4fB4n...</td>\n",
       "      <td>NaN</td>\n",
       "      <td>True</td>\n",
       "      <td>1207.0</td>\n",
       "      <td>2020-02-13T06:54:20Z</td>\n",
       "      <td>[VERSE I: Norman Atomic]\\r\\n\\r\\nbooked a first...</td>\n",
       "      <td>False</td>\n",
       "      <td>0.0</td>\n",
       "      <td>133773</td>\n",
       "      <td>133773</td>\n",
       "      <td>...</td>\n",
       "      <td>NaN</td>\n",
       "      <td>℗</td>\n",
       "      <td>NaN</td>\n",
       "      <td>NaN</td>\n",
       "      <td>NaN</td>\n",
       "      <td>NaN</td>\n",
       "      <td>NaN</td>\n",
       "      <td>NaN</td>\n",
       "      <td>NaN</td>\n",
       "      <td>NaN</td>\n",
       "    </tr>\n",
       "  </tbody>\n",
       "</table>\n",
       "<p>5 rows × 60 columns</p>\n",
       "</div>"
      ],
      "text/plain": [
       "                                         artwork_url caption  commentable  \\\n",
       "0  https://i1.sndcdn.com/artworks-000104315188-h0...     NaN         True   \n",
       "1  https://i1.sndcdn.com/artworks-000147808151-gm...     NaN         True   \n",
       "2  https://i1.sndcdn.com/artworks-000080593908-xr...     NaN         True   \n",
       "3  https://i1.sndcdn.com/artworks-6xOX1QElJSM0-0-...     NaN         True   \n",
       "4  https://i1.sndcdn.com/artworks-ClfnOZbcgp4fB4n...     NaN         True   \n",
       "\n",
       "   comment_count            created_at  \\\n",
       "0          470.0  2015-01-23T11:09:51Z   \n",
       "1           56.0  2016-02-19T17:44:56Z   \n",
       "2          291.0  2014-05-27T00:55:57Z   \n",
       "3          613.0  2018-10-03T00:45:50Z   \n",
       "4         1207.0  2020-02-13T06:54:20Z   \n",
       "\n",
       "                                         description  downloadable  \\\n",
       "0  We're proud to introduce the next single by Bo...         False   \n",
       "1  Download Jacquees \"Mood\" here: http://www.live...         False   \n",
       "2                                                NaN         False   \n",
       "3                                                NaN         False   \n",
       "4  [VERSE I: Norman Atomic]\\r\\n\\r\\nbooked a first...         False   \n",
       "\n",
       "   download_count  duration  full_duration  ...  \\\n",
       "0             0.0    202362         202362  ...   \n",
       "1             0.0    231700         231700  ...   \n",
       "2             0.0    231361         231361  ...   \n",
       "3             0.0     30000         174749  ...   \n",
       "4             0.0    133773         133773  ...   \n",
       "\n",
       "                           publisher_metadata.p_line  \\\n",
       "0                                                NaN   \n",
       "1                                                NaN   \n",
       "2                                                NaN   \n",
       "3  Quality Control Music/Young Stoner Life Record...   \n",
       "4                                                NaN   \n",
       "\n",
       "               publisher_metadata.p_line_for_display  \\\n",
       "0                                                NaN   \n",
       "1                                                NaN   \n",
       "2                                                NaN   \n",
       "3  ℗ Quality Control Music/Young Stoner Life Reco...   \n",
       "4                                                 ℗    \n",
       "\n",
       "                           publisher_metadata.c_line  \\\n",
       "0                                                NaN   \n",
       "1                                                NaN   \n",
       "2                                                NaN   \n",
       "3  2018 © 2018 Quality Control Music, LLC, under ...   \n",
       "4                                                NaN   \n",
       "\n",
       "               publisher_metadata.c_line_for_display  \\\n",
       "0                                                NaN   \n",
       "1                                                NaN   \n",
       "2                                                NaN   \n",
       "3  © 2018 © 2018 Quality Control Music, LLC, unde...   \n",
       "4                                                NaN   \n",
       "\n",
       "  publisher_metadata.release_title publisher_metadata.iswc visuals.urn  \\\n",
       "0                              NaN                     NaN         NaN   \n",
       "1                              NaN                     NaN         NaN   \n",
       "2                              NaN                     NaN         NaN   \n",
       "3                         Deep End                     NaN         NaN   \n",
       "4                              NaN                     NaN         NaN   \n",
       "\n",
       "  visuals.enabled  visuals.visuals visuals.tracking  \n",
       "0             NaN              NaN              NaN  \n",
       "1             NaN              NaN              NaN  \n",
       "2             NaN              NaN              NaN  \n",
       "3             NaN              NaN              NaN  \n",
       "4             NaN              NaN              NaN  \n",
       "\n",
       "[5 rows x 60 columns]"
      ]
     },
     "execution_count": 151,
     "metadata": {},
     "output_type": "execute_result"
    }
   ],
   "source": [
    "raw_track = pd.read_csv(\"Crawl_data/tracks.csv\", sep='\\t')\n",
    "raw_track = raw_track.drop(columns='index')\n",
    "raw_track.head()"
   ]
  },
  {
   "cell_type": "code",
   "execution_count": 153,
   "metadata": {},
   "outputs": [
    {
     "data": {
      "text/plain": [
       "(6434, 60)"
      ]
     },
     "execution_count": 153,
     "metadata": {},
     "output_type": "execute_result"
    }
   ],
   "source": [
    "# Kiểm tra số lượng mẫu và thuộc tính\n",
    "raw_track.shape"
   ]
  },
  {
   "cell_type": "markdown",
   "metadata": {},
   "source": [
    "**Tóm tắt: Tập track hiện tại có 6434 mẫu dữ liệu và 60 thuộc tính**\n",
    "\n",
    "- Do số lượng thuộc tính khá nhiều và có nhiều thuộc tính trùng lắp với tập user và playlist nên đồ án không tóm tắt lại các thuộc tính thô của tập track mà chỉ liệt kê tên thuộc tính"
   ]
  },
  {
   "cell_type": "code",
   "execution_count": 206,
   "metadata": {},
   "outputs": [
    {
     "data": {
      "text/plain": [
       "Index(['artwork_url', 'caption', 'commentable', 'comment_count', 'created_at',\n",
       "       'description', 'downloadable', 'download_count', 'duration',\n",
       "       'full_duration', 'embeddable_by', 'genre', 'has_downloads_left', 'id',\n",
       "       'kind', 'label_name', 'last_modified', 'license', 'likes_count',\n",
       "       'permalink', 'permalink_url', 'playback_count', 'public',\n",
       "       'purchase_title', 'purchase_url', 'release_date', 'reposts_count',\n",
       "       'secret_token', 'sharing', 'state', 'streamable', 'tag_list', 'title',\n",
       "       'uri', 'urn', 'user_id', 'visuals', 'waveform_url', 'display_date',\n",
       "       'publisher_metadata.id', 'publisher_metadata.urn',\n",
       "       'publisher_metadata.artist', 'publisher_metadata.contains_music',\n",
       "       'publisher_metadata.publisher', 'publisher_metadata.isrc',\n",
       "       'publisher_metadata.writer_composer', 'publisher_metadata',\n",
       "       'publisher_metadata.album_title', 'publisher_metadata.upc_or_ean',\n",
       "       'publisher_metadata.explicit', 'publisher_metadata.p_line',\n",
       "       'publisher_metadata.p_line_for_display', 'publisher_metadata.c_line',\n",
       "       'publisher_metadata.c_line_for_display',\n",
       "       'publisher_metadata.release_title', 'publisher_metadata.iswc',\n",
       "       'visuals.urn', 'visuals.enabled', 'visuals.visuals',\n",
       "       'visuals.tracking'],\n",
       "      dtype='object')"
      ]
     },
     "execution_count": 206,
     "metadata": {},
     "output_type": "execute_result"
    }
   ],
   "source": [
    "# Danh sách các thuộc tính của tập track\n",
    "raw_track.columns"
   ]
  },
  {
   "cell_type": "markdown",
   "metadata": {},
   "source": [
    "#### a.1. Kiểm tra các thuộc tính định danh"
   ]
  },
  {
   "cell_type": "code",
   "execution_count": 186,
   "metadata": {},
   "outputs": [
    {
     "name": "stdout",
     "output_type": "stream",
     "text": [
      "Số lượng id: 6434\n",
      "Số lượng permalink_url: 6434\n",
      "Số lượng uri: 6434\n",
      "Số lượng urn: 6434\n",
      "Số lượng waveform_url: 6434\n",
      "\n"
     ]
    }
   ],
   "source": [
    "print(f\"Số lượng id: {raw_track['id'].nunique()}\")\n",
    "print(f\"Số lượng permalink_url: {raw_track['permalink_url'].nunique()}\")\n",
    "print(f\"Số lượng uri: {raw_track['uri'].nunique()}\") \n",
    "print(f\"Số lượng urn: {raw_track['urn'].nunique()}\")    \n",
    "print(f\"Số lượng waveform_url: {raw_track['waveform_url'].nunique()}\\n\") "
   ]
  },
  {
   "cell_type": "markdown",
   "metadata": {},
   "source": [
    "#### a.2. Kiểm tra các thuộc tính không đóng góp đáng kể vào EDA"
   ]
  },
  {
   "cell_type": "code",
   "execution_count": 190,
   "metadata": {},
   "outputs": [
    {
     "name": "stdout",
     "output_type": "stream",
     "text": [
      "Số lượng artwork_url: 5792\n",
      "\n",
      "Số lượng commentable: 2\n",
      "Giá trị của thuộc tính commentable: [ True False]\n",
      "Phân bố thuộc tính commentable:\n",
      " True     6395\n",
      "False      39\n",
      "Name: commentable, dtype: int64\n",
      "\n",
      "Số lượng kind: 1\n",
      "Giá trị của thuộc tính kind: ['track']\n",
      "\n",
      "Số lượng secret_token: 0\n",
      "Giá trị của secret_token: [nan]\n",
      "\n",
      "Số lượng public: 1\n",
      "Giá trị của public: [ True]\n",
      "\n",
      "Số lượng sharing: 1\n",
      "Giá trị của sharing: ['public']\n",
      "\n",
      "Số lượng tag_list: 2433\n",
      "\n",
      "Số lượng description: 2643\n",
      "\n",
      "Số lượng caption: 6\n",
      "\n",
      "Số lượng state: 1\n",
      "Giá trị của state: ['finished']\n",
      "\n",
      "Số lượng streamable: 2\n",
      "Giá trị của streamable: [ True False]\n",
      "\n",
      "Phân bố thuộc tính streamable:\n",
      " True     6426\n",
      "False       8\n",
      "Name: streamable, dtype: int64\n",
      "\n",
      "Số lượng publisher_metadata: 0\n",
      "Giá trị của publisher_metadata: [nan]\n",
      "\n"
     ]
    }
   ],
   "source": [
    "print(f\"Số lượng artwork_url: {raw_track['artwork_url'].nunique()}\\n\")      \n",
    "\n",
    "# commentable\n",
    "print(f\"Số lượng commentable: {raw_track['commentable'].nunique()}\")\n",
    "print(f\"Giá trị của thuộc tính commentable: {raw_track['commentable'].unique()}\")\n",
    "print(f\"Phân bố thuộc tính commentable:\\n {raw_track['commentable'].value_counts()}\\n\")\n",
    "      \n",
    "# kind\n",
    "print(f\"Số lượng kind: {raw_track['kind'].nunique()}\")\n",
    "print(f\"Giá trị của thuộc tính kind: {raw_track['kind'].unique()}\\n\")\n",
    "      \n",
    "# secret_token\n",
    "print(f\"Số lượng secret_token: {raw_track['secret_token'].nunique()}\")   \n",
    "print(f\"Giá trị của secret_token: {raw_track['secret_token'].unique()}\\n\")  \n",
    "      \n",
    "# public\n",
    "print(f\"Số lượng public: {raw_track['public'].nunique()}\")   \n",
    "print(f\"Giá trị của public: {raw_track['public'].unique()}\\n\")         \n",
    "      \n",
    "# sharing\n",
    "print(f\"Số lượng sharing: {raw_track['sharing'].nunique()}\")   \n",
    "print(f\"Giá trị của sharing: {raw_track['sharing'].unique()}\\n\")  \n",
    "\n",
    "# tag_list\n",
    "print(f\"Số lượng tag_list: {raw_track['tag_list'].nunique()}\\n\")   \n",
    "# print(f\"Giá trị của tag_list: {raw_playlist['tag_list'].unique()}\")  \n",
    "\n",
    "# description\n",
    "print(f\"Số lượng description: {raw_track['description'].nunique()}\\n\")   \n",
    "# print(f\"Giá trị của tag_list: {raw_playlist['description'].unique()}\")  \n",
    "      \n",
    "# caption\n",
    "print(f\"Số lượng caption: {raw_track['caption'].nunique()}\\n\")   \n",
    "      \n",
    "# state\n",
    "print(f\"Số lượng state: {raw_track['state'].nunique()}\")   \n",
    "print(f\"Giá trị của state: {raw_track['state'].unique()}\\n\")  \n",
    "    \n",
    "# streamable\n",
    "print(f\"Số lượng streamable: {raw_track['streamable'].nunique()}\")   \n",
    "print(f\"Giá trị của streamable: {raw_track['streamable'].unique()}\\n\")  \n",
    "print(f\"Phân bố thuộc tính streamable:\\n {raw_track['streamable'].value_counts()}\\n\")      \n",
    "      \n",
    "# publisher_metadata\n",
    "print(f\"Số lượng publisher_metadata: {raw_track['publisher_metadata'].nunique()}\")   \n",
    "print(f\"Giá trị của publisher_metadata: {raw_track['publisher_metadata'].unique()}\\n\")  \n"
   ]
  },
  {
   "cell_type": "markdown",
   "metadata": {},
   "source": [
    "#### a.3. Kiểm tra các thuộc tính tương đồng"
   ]
  },
  {
   "cell_type": "markdown",
   "metadata": {},
   "source": [
    "Khi xem xét 3 thuộc tính `created_at`, `release_date`, `display_date`, có thể thấy chúng khá liên quan nhau. \n",
    "- `created_at` là thời điểm người đăng tải **bắt đầu khởi tạo** track\n",
    "- `display_date` là thời điểm track thực sự hiển thị sau khi được người đăng tải phát hành\n",
    "- `release_date` là thời điểm người đăng tải **dự kiến phát hành** track (set trước 1 thời điểm nhất định)\n",
    "\n",
    "Đồ án chỉ xét thời điểm track thực sự hiển thị công khai trên Soundcloud, tức chỉ chọn thuộc tính `display_date`"
   ]
  },
  {
   "cell_type": "code",
   "execution_count": 180,
   "metadata": {},
   "outputs": [
    {
     "data": {
      "text/html": [
       "<div>\n",
       "<style scoped>\n",
       "    .dataframe tbody tr th:only-of-type {\n",
       "        vertical-align: middle;\n",
       "    }\n",
       "\n",
       "    .dataframe tbody tr th {\n",
       "        vertical-align: top;\n",
       "    }\n",
       "\n",
       "    .dataframe thead th {\n",
       "        text-align: right;\n",
       "    }\n",
       "</style>\n",
       "<table border=\"1\" class=\"dataframe\">\n",
       "  <thead>\n",
       "    <tr style=\"text-align: right;\">\n",
       "      <th></th>\n",
       "      <th>created_at</th>\n",
       "      <th>display_date</th>\n",
       "      <th>release_date</th>\n",
       "    </tr>\n",
       "  </thead>\n",
       "  <tbody>\n",
       "    <tr>\n",
       "      <th>0</th>\n",
       "      <td>2015-01-23T11:09:51Z</td>\n",
       "      <td>2015-01-23T11:09:51Z</td>\n",
       "      <td>NaN</td>\n",
       "    </tr>\n",
       "    <tr>\n",
       "      <th>1</th>\n",
       "      <td>2016-02-19T17:44:56Z</td>\n",
       "      <td>2016-02-19T17:57:44Z</td>\n",
       "      <td>NaN</td>\n",
       "    </tr>\n",
       "    <tr>\n",
       "      <th>2</th>\n",
       "      <td>2014-05-27T00:55:57Z</td>\n",
       "      <td>2014-05-27T00:55:57Z</td>\n",
       "      <td>NaN</td>\n",
       "    </tr>\n",
       "    <tr>\n",
       "      <th>3</th>\n",
       "      <td>2018-10-03T00:45:50Z</td>\n",
       "      <td>2018-10-05T00:00:00Z</td>\n",
       "      <td>2018-10-05T00:00:00Z</td>\n",
       "    </tr>\n",
       "    <tr>\n",
       "      <th>4</th>\n",
       "      <td>2020-02-13T06:54:20Z</td>\n",
       "      <td>2020-02-14T06:36:09Z</td>\n",
       "      <td>NaN</td>\n",
       "    </tr>\n",
       "  </tbody>\n",
       "</table>\n",
       "</div>"
      ],
      "text/plain": [
       "             created_at          display_date          release_date\n",
       "0  2015-01-23T11:09:51Z  2015-01-23T11:09:51Z                   NaN\n",
       "1  2016-02-19T17:44:56Z  2016-02-19T17:57:44Z                   NaN\n",
       "2  2014-05-27T00:55:57Z  2014-05-27T00:55:57Z                   NaN\n",
       "3  2018-10-03T00:45:50Z  2018-10-05T00:00:00Z  2018-10-05T00:00:00Z\n",
       "4  2020-02-13T06:54:20Z  2020-02-14T06:36:09Z                   NaN"
      ]
     },
     "execution_count": 180,
     "metadata": {},
     "output_type": "execute_result"
    }
   ],
   "source": [
    "raw_track[['created_at', 'display_date', 'release_date']].head()"
   ]
  },
  {
   "cell_type": "markdown",
   "metadata": {},
   "source": [
    "Khi xem xét 2 thuộc tính `full_duration` và `duration`, ta cũng thấy chúng khá liên quan nhau. \n",
    "- `full_duration` là tổng thời gian của mỗi track nhạc\n",
    "- `duration` là thời gian của đoạn nhạc mẫu user có thể nghe nếu họ chỉ là thành viên miễn phí (free subscription)\n",
    "\n",
    "Đồ án chỉ xét độ dài thực sự của một track trên Soundcloud, tức chỉ chọn thuộc tính `full_duration`"
   ]
  },
  {
   "cell_type": "code",
   "execution_count": 177,
   "metadata": {},
   "outputs": [
    {
     "data": {
      "text/html": [
       "<div>\n",
       "<style scoped>\n",
       "    .dataframe tbody tr th:only-of-type {\n",
       "        vertical-align: middle;\n",
       "    }\n",
       "\n",
       "    .dataframe tbody tr th {\n",
       "        vertical-align: top;\n",
       "    }\n",
       "\n",
       "    .dataframe thead th {\n",
       "        text-align: right;\n",
       "    }\n",
       "</style>\n",
       "<table border=\"1\" class=\"dataframe\">\n",
       "  <thead>\n",
       "    <tr style=\"text-align: right;\">\n",
       "      <th></th>\n",
       "      <th>id</th>\n",
       "      <th>full_duration</th>\n",
       "      <th>duration</th>\n",
       "    </tr>\n",
       "  </thead>\n",
       "  <tbody>\n",
       "    <tr>\n",
       "      <th>0</th>\n",
       "      <td>187460600</td>\n",
       "      <td>202362</td>\n",
       "      <td>202362</td>\n",
       "    </tr>\n",
       "    <tr>\n",
       "      <th>1</th>\n",
       "      <td>247883444</td>\n",
       "      <td>231700</td>\n",
       "      <td>231700</td>\n",
       "    </tr>\n",
       "    <tr>\n",
       "      <th>2</th>\n",
       "      <td>151431689</td>\n",
       "      <td>231361</td>\n",
       "      <td>231361</td>\n",
       "    </tr>\n",
       "    <tr>\n",
       "      <th>3</th>\n",
       "      <td>508699284</td>\n",
       "      <td>174749</td>\n",
       "      <td>30000</td>\n",
       "    </tr>\n",
       "    <tr>\n",
       "      <th>4</th>\n",
       "      <td>759765964</td>\n",
       "      <td>133773</td>\n",
       "      <td>133773</td>\n",
       "    </tr>\n",
       "    <tr>\n",
       "      <th>...</th>\n",
       "      <td>...</td>\n",
       "      <td>...</td>\n",
       "      <td>...</td>\n",
       "    </tr>\n",
       "    <tr>\n",
       "      <th>6429</th>\n",
       "      <td>210112634</td>\n",
       "      <td>233633</td>\n",
       "      <td>233633</td>\n",
       "    </tr>\n",
       "    <tr>\n",
       "      <th>6430</th>\n",
       "      <td>214258991</td>\n",
       "      <td>246983</td>\n",
       "      <td>246983</td>\n",
       "    </tr>\n",
       "    <tr>\n",
       "      <th>6431</th>\n",
       "      <td>655608647</td>\n",
       "      <td>127829</td>\n",
       "      <td>127829</td>\n",
       "    </tr>\n",
       "    <tr>\n",
       "      <th>6432</th>\n",
       "      <td>203024128</td>\n",
       "      <td>165291</td>\n",
       "      <td>165291</td>\n",
       "    </tr>\n",
       "    <tr>\n",
       "      <th>6433</th>\n",
       "      <td>118351434</td>\n",
       "      <td>173417</td>\n",
       "      <td>173417</td>\n",
       "    </tr>\n",
       "  </tbody>\n",
       "</table>\n",
       "<p>6434 rows × 3 columns</p>\n",
       "</div>"
      ],
      "text/plain": [
       "             id  full_duration  duration\n",
       "0     187460600         202362    202362\n",
       "1     247883444         231700    231700\n",
       "2     151431689         231361    231361\n",
       "3     508699284         174749     30000\n",
       "4     759765964         133773    133773\n",
       "...         ...            ...       ...\n",
       "6429  210112634         233633    233633\n",
       "6430  214258991         246983    246983\n",
       "6431  655608647         127829    127829\n",
       "6432  203024128         165291    165291\n",
       "6433  118351434         173417    173417\n",
       "\n",
       "[6434 rows x 3 columns]"
      ]
     },
     "execution_count": 177,
     "metadata": {},
     "output_type": "execute_result"
    }
   ],
   "source": [
    "raw_track[['id','full_duration', 'duration']]"
   ]
  },
  {
   "cell_type": "markdown",
   "metadata": {},
   "source": [
    "#### a.4. Kiểm tra các thuộc tính còn lại"
   ]
  },
  {
   "cell_type": "code",
   "execution_count": 183,
   "metadata": {},
   "outputs": [
    {
     "name": "stdout",
     "output_type": "stream",
     "text": [
      "Số lượng downloadable: 2\n",
      "Giá trị của downloadable: [False  True]\n",
      "\n",
      "Phân bố thuộc tính downloadable:\n",
      " False    5823\n",
      "True      611\n",
      "Name: downloadable, dtype: int64\n",
      "\n",
      "Số lượng download_count: 506\n",
      "\n",
      "Số lượng has_downloads_left: 2\n",
      "Giá trị của has_downloads_left: [ True False]\n",
      "\n",
      "Phân bố thuộc tính has_downloads_left:\n",
      " True     5950\n",
      "False     484\n",
      "Name: has_downloads_left, dtype: int64\n",
      "\n"
     ]
    }
   ],
   "source": [
    "# downloadable\n",
    "print(f\"Số lượng downloadable: {raw_track['downloadable'].nunique()}\")   \n",
    "print(f\"Giá trị của downloadable: {raw_track['downloadable'].unique()}\\n\")  \n",
    "print(f\"Phân bố thuộc tính downloadable:\\n {raw_track['downloadable'].value_counts()}\\n\")\n",
    "      \n",
    "# download_count\n",
    "print(f\"Số lượng download_count: {raw_track['download_count'].nunique()}\\n\")  \n",
    "\n",
    "# has_downloads_left\n",
    "print(f\"Số lượng has_downloads_left: {raw_track['has_downloads_left'].nunique()}\")  \n",
    "print(f\"Giá trị của has_downloads_left: {raw_track['has_downloads_left'].unique()}\\n\")  \n",
    "print(f\"Phân bố thuộc tính has_downloads_left:\\n {raw_track['has_downloads_left'].value_counts()}\\n\")"
   ]
  },
  {
   "cell_type": "markdown",
   "metadata": {},
   "source": [
    "- Tạm thời với các thuộc tính `publisher_metadata`, ta chỉ xem số lượng giá trị duy nhất.\n",
    "- Các thuộc tính này có thể được dùng cho bước feature engineer hoặc fill giá trị null"
   ]
  },
  {
   "cell_type": "code",
   "execution_count": 201,
   "metadata": {},
   "outputs": [
    {
     "name": "stdout",
     "output_type": "stream",
     "text": [
      "Số lượng publisher_metadata.id: 4971\n",
      "Số lượng publisher_metadata.urn: 4971\n",
      "Số lượng publisher_metadata.artist: 1143\n",
      "Số lượng publisher_metadata.contains_music: 2\n",
      "Số lượng publisher_metadata.publisher: 293\n",
      "Số lượng publisher_metadata.isrc: 3561\n",
      "Số lượng publisher_metadata.writer_composer 602\n",
      "Số lượng publisher_metadata.album_title: 1042\n",
      "Số lượng publisher_metadata.upc_or_ean: 815\n"
     ]
    }
   ],
   "source": [
    "print(f\"Số lượng publisher_metadata.id: {raw_track['publisher_metadata.id'].nunique()}\") \n",
    "print(f\"Số lượng publisher_metadata.urn: {raw_track['publisher_metadata.urn'].nunique()}\")  \n",
    "print(f\"Số lượng publisher_metadata.artist: {raw_track['publisher_metadata.artist'].nunique()}\")             \n",
    "print(f\"Số lượng publisher_metadata.contains_music: {raw_track['publisher_metadata.contains_music'].nunique()}\")                   \n",
    "print(f\"Số lượng publisher_metadata.publisher: {raw_track['publisher_metadata.publisher'].nunique()}\")                   \n",
    "print(f\"Số lượng publisher_metadata.isrc: {raw_track['publisher_metadata.isrc'].nunique()}\")                   \n",
    "print(f\"Số lượng publisher_metadata.writer_composer {raw_track['publisher_metadata.writer_composer'].nunique()}\")                   \n",
    "print(f\"Số lượng publisher_metadata.album_title: {raw_track['publisher_metadata.album_title'].nunique()}\")                   \n",
    "print(f\"Số lượng publisher_metadata.upc_or_ean: {raw_track['publisher_metadata.upc_or_ean'].nunique()}\")    "
   ]
  },
  {
   "cell_type": "code",
   "execution_count": 205,
   "metadata": {},
   "outputs": [
    {
     "data": {
      "text/html": [
       "<div>\n",
       "<style scoped>\n",
       "    .dataframe tbody tr th:only-of-type {\n",
       "        vertical-align: middle;\n",
       "    }\n",
       "\n",
       "    .dataframe tbody tr th {\n",
       "        vertical-align: top;\n",
       "    }\n",
       "\n",
       "    .dataframe thead th {\n",
       "        text-align: right;\n",
       "    }\n",
       "</style>\n",
       "<table border=\"1\" class=\"dataframe\">\n",
       "  <thead>\n",
       "    <tr style=\"text-align: right;\">\n",
       "      <th></th>\n",
       "      <th>id</th>\n",
       "      <th>publisher_metadata.id</th>\n",
       "    </tr>\n",
       "  </thead>\n",
       "  <tbody>\n",
       "    <tr>\n",
       "      <th>0</th>\n",
       "      <td>187460600</td>\n",
       "      <td>187460600.0</td>\n",
       "    </tr>\n",
       "    <tr>\n",
       "      <th>1</th>\n",
       "      <td>247883444</td>\n",
       "      <td>NaN</td>\n",
       "    </tr>\n",
       "    <tr>\n",
       "      <th>2</th>\n",
       "      <td>151431689</td>\n",
       "      <td>NaN</td>\n",
       "    </tr>\n",
       "    <tr>\n",
       "      <th>3</th>\n",
       "      <td>508699284</td>\n",
       "      <td>508699284.0</td>\n",
       "    </tr>\n",
       "    <tr>\n",
       "      <th>4</th>\n",
       "      <td>759765964</td>\n",
       "      <td>759765964.0</td>\n",
       "    </tr>\n",
       "  </tbody>\n",
       "</table>\n",
       "</div>"
      ],
      "text/plain": [
       "          id  publisher_metadata.id\n",
       "0  187460600            187460600.0\n",
       "1  247883444                    NaN\n",
       "2  151431689                    NaN\n",
       "3  508699284            508699284.0\n",
       "4  759765964            759765964.0"
      ]
     },
     "execution_count": 205,
     "metadata": {},
     "output_type": "execute_result"
    }
   ],
   "source": [
    "# Kiểm tra trường publisher_metadata.id \n",
    "raw_track[['id', 'publisher_metadata.id']].head()"
   ]
  },
  {
   "cell_type": "markdown",
   "metadata": {},
   "source": [
    "**Tổng kết:**\n",
    "- Thuộc tính `index` là cột chỉ mục. \n",
    "- Đối tượng playlist có 60 thuộc tính, trong đó bao gồm 4 loại thuộc tính chính:\n",
    "    - Các thuộc tính định danh => Chỉ chọn `id`\n",
    "        - `id`    \n",
    "        - `permalink_url`\n",
    "        - `uri`\n",
    "        - `urn`\n",
    "        - `waveform_url`\n",
    "       \n",
    "    - Các thuộc tính không đóng góp đáng kể vào quá trình EDA => Không chọn\n",
    "        - `artwork_url`\n",
    "        - `commentable`\n",
    "        - `kind`\n",
    "        - `secret_token`\n",
    "        - `public`\n",
    "        - `sharing`\n",
    "        - `tag_list`\n",
    "        - `description`\n",
    "        - `caption`\n",
    "        - `state`\n",
    "        - `streamable`\n",
    "        - `visuals`\n",
    "        - `visuals.enabled`\n",
    "        - `visuals.tracking`\n",
    "        - `publisher_metadata`\n",
    "    - Các thuộc tính khá liên quan nên chỉ cần giữ lại 1 trong số chúng\n",
    "        - `created_at`, `release_date`, và `display_date` => Tạm chọn giữ lại `display_date`\n",
    "        - `full_duration` và `duration` => Chọn giữ lại `full_duration`\n",
    "        \n",
    "    - Các thuộc tính còn lại:\n",
    "        - `downloadable`\n",
    "        - `embeddable_by`\n",
    "        - `genre`\n",
    "        - `label_name`\n",
    "        - `last_modified`\n",
    "        - `license`\n",
    "        - `likes_count`\n",
    "        - `permalink`\n",
    "        - `purchase_title`\n",
    "        - `purchase_url`\n",
    "        - `reposts_count`\n",
    "        - `title`\n",
    "        \n",
    "        - `display_date`\n",
    "        - `playback_count`\n",
    "        - `visuals.urn`\n",
    "        - `visuals.visuals`\n",
    "        - Các thuộc tính `publisher_metadata`\n",
    "        \n",
    "- Cuối cùng, đồ án chọn 9 thuộc tính của tập playlist để EDA:\n",
    "    - `id`\n",
    "    - `full_duration`\n",
    "    - `genre`\n",
    "    - `comment_count`\n",
    "    - `likes_count`\n",
    "    - `playback_count`\n",
    "    - `reposts_count`\n",
    "    - `download_count`\n",
    "    - `display_time` (feature engineer từ `display_date`, mang ý nghĩa là thời gian playlist đã hiển thị tính tới thời điểm ngày 05/11/2020)\n"
   ]
  },
  {
   "cell_type": "code",
   "execution_count": 235,
   "metadata": {},
   "outputs": [],
   "source": [
    "selected_columns = ['id', 'full_duration', 'genre', 'comment_count', 'likes_count', 'playback_count',\n",
    "                   'reposts_count', 'download_count', 'display_date']\n",
    "selected_track = raw_track[selected_columns]"
   ]
  },
  {
   "cell_type": "markdown",
   "metadata": {},
   "source": [
    "### b. Tiền xử lý và feature engineer"
   ]
  },
  {
   "cell_type": "code",
   "execution_count": 236,
   "metadata": {},
   "outputs": [
    {
     "data": {
      "text/html": [
       "<div>\n",
       "<style scoped>\n",
       "    .dataframe tbody tr th:only-of-type {\n",
       "        vertical-align: middle;\n",
       "    }\n",
       "\n",
       "    .dataframe tbody tr th {\n",
       "        vertical-align: top;\n",
       "    }\n",
       "\n",
       "    .dataframe thead th {\n",
       "        text-align: right;\n",
       "    }\n",
       "</style>\n",
       "<table border=\"1\" class=\"dataframe\">\n",
       "  <thead>\n",
       "    <tr style=\"text-align: right;\">\n",
       "      <th></th>\n",
       "      <th>id</th>\n",
       "      <th>full_duration</th>\n",
       "      <th>genre</th>\n",
       "      <th>comment_count</th>\n",
       "      <th>likes_count</th>\n",
       "      <th>playback_count</th>\n",
       "      <th>reposts_count</th>\n",
       "      <th>download_count</th>\n",
       "      <th>display_date</th>\n",
       "    </tr>\n",
       "  </thead>\n",
       "  <tbody>\n",
       "    <tr>\n",
       "      <th>0</th>\n",
       "      <td>187460600</td>\n",
       "      <td>202362</td>\n",
       "      <td>Progressive House</td>\n",
       "      <td>470.0</td>\n",
       "      <td>48016.0</td>\n",
       "      <td>2497040.0</td>\n",
       "      <td>9761</td>\n",
       "      <td>0.0</td>\n",
       "      <td>2015-01-23T11:09:51Z</td>\n",
       "    </tr>\n",
       "    <tr>\n",
       "      <th>1</th>\n",
       "      <td>247883444</td>\n",
       "      <td>231700</td>\n",
       "      <td>jacquees</td>\n",
       "      <td>56.0</td>\n",
       "      <td>35182.0</td>\n",
       "      <td>2584991.0</td>\n",
       "      <td>1764</td>\n",
       "      <td>0.0</td>\n",
       "      <td>2016-02-19T17:57:44Z</td>\n",
       "    </tr>\n",
       "    <tr>\n",
       "      <th>2</th>\n",
       "      <td>151431689</td>\n",
       "      <td>231361</td>\n",
       "      <td>Rap</td>\n",
       "      <td>291.0</td>\n",
       "      <td>20036.0</td>\n",
       "      <td>1831890.0</td>\n",
       "      <td>1491</td>\n",
       "      <td>0.0</td>\n",
       "      <td>2014-05-27T00:55:57Z</td>\n",
       "    </tr>\n",
       "    <tr>\n",
       "      <th>3</th>\n",
       "      <td>508699284</td>\n",
       "      <td>174749</td>\n",
       "      <td>Hip Hop</td>\n",
       "      <td>613.0</td>\n",
       "      <td>103765.0</td>\n",
       "      <td>7880344.0</td>\n",
       "      <td>2128</td>\n",
       "      <td>0.0</td>\n",
       "      <td>2018-10-05T00:00:00Z</td>\n",
       "    </tr>\n",
       "    <tr>\n",
       "      <th>4</th>\n",
       "      <td>759765964</td>\n",
       "      <td>133773</td>\n",
       "      <td>shadow rap</td>\n",
       "      <td>1207.0</td>\n",
       "      <td>61040.0</td>\n",
       "      <td>5024515.0</td>\n",
       "      <td>2400</td>\n",
       "      <td>0.0</td>\n",
       "      <td>2020-02-14T06:36:09Z</td>\n",
       "    </tr>\n",
       "  </tbody>\n",
       "</table>\n",
       "</div>"
      ],
      "text/plain": [
       "          id  full_duration              genre  comment_count  likes_count  \\\n",
       "0  187460600         202362  Progressive House          470.0      48016.0   \n",
       "1  247883444         231700           jacquees           56.0      35182.0   \n",
       "2  151431689         231361                Rap          291.0      20036.0   \n",
       "3  508699284         174749            Hip Hop          613.0     103765.0   \n",
       "4  759765964         133773         shadow rap         1207.0      61040.0   \n",
       "\n",
       "   playback_count  reposts_count  download_count          display_date  \n",
       "0       2497040.0           9761             0.0  2015-01-23T11:09:51Z  \n",
       "1       2584991.0           1764             0.0  2016-02-19T17:57:44Z  \n",
       "2       1831890.0           1491             0.0  2014-05-27T00:55:57Z  \n",
       "3       7880344.0           2128             0.0  2018-10-05T00:00:00Z  \n",
       "4       5024515.0           2400             0.0  2020-02-14T06:36:09Z  "
      ]
     },
     "execution_count": 236,
     "metadata": {},
     "output_type": "execute_result"
    }
   ],
   "source": [
    "selected_track.head()"
   ]
  },
  {
   "cell_type": "code",
   "execution_count": 237,
   "metadata": {},
   "outputs": [
    {
     "name": "stdout",
     "output_type": "stream",
     "text": [
      "<class 'pandas.core.frame.DataFrame'>\n",
      "RangeIndex: 6434 entries, 0 to 6433\n",
      "Data columns (total 9 columns):\n",
      " #   Column          Non-Null Count  Dtype  \n",
      "---  ------          --------------  -----  \n",
      " 0   id              6434 non-null   int64  \n",
      " 1   full_duration   6434 non-null   int64  \n",
      " 2   genre           5462 non-null   object \n",
      " 3   comment_count   6369 non-null   float64\n",
      " 4   likes_count     6405 non-null   float64\n",
      " 5   playback_count  6405 non-null   float64\n",
      " 6   reposts_count   6434 non-null   int64  \n",
      " 7   download_count  6405 non-null   float64\n",
      " 8   display_date    6434 non-null   object \n",
      "dtypes: float64(4), int64(3), object(2)\n",
      "memory usage: 452.5+ KB\n"
     ]
    }
   ],
   "source": [
    "selected_track.info()"
   ]
  },
  {
   "cell_type": "markdown",
   "metadata": {},
   "source": [
    "#### b.1. Kiểm tra giá trị không hợp lệ\n",
    "\n",
    "Ta thực hiện kiểm tra sự không hợp lệ và không đồng nhất (cùng một từ nhưng từ viết hoa, từ viết thường,...) với các trường dữ liệu kiểu `categorical` là `genre`.\n",
    "\n",
    "Soundcloud chỉ chứa 41 thể loại nhạc chính thức [(Tham khảo)](https://gist.github.com/Thinkscape/8b98b82a74c102b31f5d) nhưng các giá trị unique của genre lại đạt đến 1047    "
   ]
  },
  {
   "cell_type": "code",
   "execution_count": 238,
   "metadata": {},
   "outputs": [
    {
     "data": {
      "text/plain": [
       "1047"
      ]
     },
     "execution_count": 238,
     "metadata": {},
     "output_type": "execute_result"
    }
   ],
   "source": [
    "selected_track['genre'].nunique()"
   ]
  },
  {
   "cell_type": "markdown",
   "metadata": {},
   "source": [
    "Do số lượng giá trị unique genre quá nhiều, ta sẽ thực hiện các bước tiền xử lý:\n",
    "- set `genre = NaN` với các genre có chứa số hoặc ký tự đặc biệt\n",
    "- viết thường và xóa tất cả các khoảng trắng thừa"
   ]
  },
  {
   "cell_type": "code",
   "execution_count": 239,
   "metadata": {},
   "outputs": [
    {
     "data": {
      "text/plain": [
       "['#DWP15',\n",
       " '#HIP-HOP',\n",
       " '#Rap',\n",
       " '100',\n",
       " '1017',\n",
       " '1700',\n",
       " '1738',\n",
       " '187',\n",
       " '1waycamp',\n",
       " '2 Chainz',\n",
       " '2 perc 4 perc 6 perc',\n",
       " '21 Savage',\n",
       " '21-savage',\n",
       " '25 Nights For Nujabes',\n",
       " '3HUNNA',\n",
       " '432Hz',\n",
       " '50 Cent',\n",
       " '50 cent',\n",
       " '50Cosos',\n",
       " '670',\n",
       " '678',\n",
       " '6OCLOCK',\n",
       " '70s',\n",
       " '808mafia',\n",
       " '80s Pop',\n",
       " \":')\",\n",
       " ':(',\n",
       " '</3',\n",
       " '<1.5',\n",
       " '<3',\n",
       " '@TrAmyNig',\n",
       " '@newboston',\n",
       " 'ACEHOOD',\n",
       " 'AFROHOUSE',\n",
       " 'AM & Miley',\n",
       " 'ANDTHENJUST',\n",
       " 'ASMR',\n",
       " 'ASOC',\n",
       " 'ASOT 700',\n",
       " 'ASTRALWAVE',\n",
       " 'Abdullah',\n",
       " 'AceHood',\n",
       " 'Acid Ambient',\n",
       " 'Acoustic',\n",
       " 'Acoustic Pop',\n",
       " 'Add Tags',\n",
       " 'Addicted',\n",
       " 'Adou Manje Gep',\n",
       " 'Aeroplane Remix',\n",
       " 'Ajjae',\n",
       " 'All About You ',\n",
       " 'All that matters',\n",
       " 'Alternative',\n",
       " 'Alternative Folk',\n",
       " 'Alternative Rap',\n",
       " 'Alternative Rock',\n",
       " 'Alternative Spoken Word',\n",
       " 'Ambient',\n",
       " 'Ana Gabriel Mix',\n",
       " 'Anuel',\n",
       " 'Anuel AA',\n",
       " 'AnuelAA',\n",
       " 'Arabic',\n",
       " 'Ariana Grande',\n",
       " 'ArianaGrande',\n",
       " \"Assassin's Creed IV: Black Flag\",\n",
       " 'Audiobooks',\n",
       " 'BACHATA 2014 LATIN',\n",
       " 'BACKENDCHILD',\n",
       " 'BATON ROUGE',\n",
       " 'BBO',\n",
       " 'BCX',\n",
       " 'BEATS',\n",
       " 'BFTD',\n",
       " 'BILLO',\n",
       " 'BKBK',\n",
       " 'BLACKLIVESMATTER',\n",
       " 'BLACKSILK',\n",
       " 'BLUEORRED',\n",
       " 'BLove',\n",
       " 'BTS',\n",
       " 'Bachata',\n",
       " 'Bachata Mix',\n",
       " 'Backyard Sessions',\n",
       " 'Bad Bunny',\n",
       " 'Bad Vibes Forever',\n",
       " 'Balada',\n",
       " 'BallLikeImKobe',\n",
       " 'Ballad',\n",
       " 'Beats',\n",
       " 'BedroomBass',\n",
       " 'Blues',\n",
       " 'Bmike',\n",
       " 'Boomin!',\n",
       " 'BossCash',\n",
       " 'Bosy',\n",
       " 'Bryson Tiller',\n",
       " 'Bryson Tiller ',\n",
       " 'Butta',\n",
       " 'CADA VES QUE TE BAS',\n",
       " 'CARNAGE',\n",
       " 'CARTERV',\n",
       " 'CHIEF KEEF',\n",
       " 'CHIEFKEEF',\n",
       " 'CHOPPED AND SCREWED',\n",
       " 'CHRIS BROWN',\n",
       " 'CMDWN',\n",
       " 'CORRIDOS',\n",
       " 'CUMBIA MIX',\n",
       " 'Calvin Harris',\n",
       " 'Camilla Barbugli',\n",
       " 'Carnage',\n",
       " 'Carti',\n",
       " 'Casa Urbana',\n",
       " 'Cashkidd',\n",
       " 'Cashout063',\n",
       " 'ChadBahton',\n",
       " 'Chenal',\n",
       " 'Chicago',\n",
       " 'Chief Keef',\n",
       " 'ChiefKeef',\n",
       " 'Chiefkeef',\n",
       " 'Chill',\n",
       " 'Chill Artistry',\n",
       " 'Chill House',\n",
       " 'Chillstep',\n",
       " 'Chingona',\n",
       " 'Chiraq',\n",
       " 'ChoppaBoyz Dex Osama',\n",
       " 'Chopped And Screwed',\n",
       " 'Chris Brown',\n",
       " 'Christmas',\n",
       " 'Chutney',\n",
       " 'Chutney 2016',\n",
       " 'Clasicos',\n",
       " 'Classic Rock',\n",
       " 'Classical',\n",
       " 'ComeUpKid',\n",
       " 'Comedy',\n",
       " 'Computers',\n",
       " 'Corridos',\n",
       " 'Corridos Verde',\n",
       " 'Corridos Verdes',\n",
       " 'Country',\n",
       " 'Country Cover',\n",
       " 'Country Music',\n",
       " 'Cover',\n",
       " 'Crenshaw',\n",
       " 'Criminal Bassline | Goodie',\n",
       " 'Crybaby',\n",
       " 'DEJ LOAF ',\n",
       " 'DESIIGNER',\n",
       " 'DIRTY EDIT',\n",
       " 'DJ',\n",
       " 'DJ KHALED',\n",
       " 'DJ MUSTARD',\n",
       " 'DMV',\n",
       " 'DN Exclusive',\n",
       " 'DYSTOPIAN',\n",
       " 'Da Baby',\n",
       " 'DaBaby',\n",
       " 'Damian Marley',\n",
       " 'Damn Son',\n",
       " 'Dance',\n",
       " 'Dance & EDM',\n",
       " 'Dancehall',\n",
       " 'Dancehall ',\n",
       " 'Danny Brown',\n",
       " 'Dark',\n",
       " 'DeeByrd #G4NG #FOEG4NG ',\n",
       " 'Deep House',\n",
       " 'Deep Techno',\n",
       " 'Dej Loaf',\n",
       " 'Delusional Thomas',\n",
       " 'Delux Music Group',\n",
       " 'Dembow 2015',\n",
       " 'Desiigner',\n",
       " 'Detroit',\n",
       " 'Dillon Cooper',\n",
       " 'Dine Alone Records',\n",
       " 'Diplo',\n",
       " 'Disclosure',\n",
       " 'Dlow',\n",
       " 'Dongan',\n",
       " 'Donkstep',\n",
       " 'Dope',\n",
       " 'Drake',\n",
       " 'Drill',\n",
       " 'DrillMusic #HipHop',\n",
       " 'Drum & Bass',\n",
       " 'Drumstep',\n",
       " 'Drumstep / Dubstep',\n",
       " 'Drunk Music',\n",
       " 'DrunkInLove',\n",
       " 'Dubstep',\n",
       " 'Dubstep Electronic',\n",
       " 'Duranguense',\n",
       " 'Duranguensemix',\n",
       " 'Dynasty',\n",
       " 'ECMG',\n",
       " 'EDEN',\n",
       " 'EDIT',\n",
       " 'ESTRENO MUNDIAL',\n",
       " 'Electro',\n",
       " 'Electro House',\n",
       " 'Electro Swing',\n",
       " 'Electro\\\\ House',\n",
       " 'Electronic',\n",
       " 'Electronic Pop',\n",
       " 'Electronica',\n",
       " 'Elettronica',\n",
       " 'Elhae',\n",
       " 'Ella Mai',\n",
       " 'Ember Island',\n",
       " 'Eminem',\n",
       " 'Eminem ',\n",
       " 'Emo Trap',\n",
       " 'Entertainment',\n",
       " 'Epic Electronic',\n",
       " 'Eton Messy',\n",
       " 'Excision ',\n",
       " 'Experimental',\n",
       " 'FB:Gary Mackavelli',\n",
       " 'FBG',\n",
       " 'FESTIVAL TRAP',\n",
       " 'FG Famous',\n",
       " 'FIRE ',\n",
       " 'FLOSSTRADAMUS',\n",
       " 'FREETAY-K',\n",
       " 'FUNK',\n",
       " 'Facebook.com/willsparksofficial',\n",
       " 'Falsas Mentiras',\n",
       " 'Fank',\n",
       " 'Farhad Darya',\n",
       " 'Fetty Wap',\n",
       " 'FettyWap',\n",
       " 'Fifty Shades of Grey',\n",
       " 'FkThisSongButItWillShakeYourCar',\n",
       " 'Flex',\n",
       " 'Flume Step',\n",
       " 'Folk',\n",
       " 'Folk & Singer-Songwriter',\n",
       " 'Frank ocean',\n",
       " 'From mumbai',\n",
       " 'Funk',\n",
       " 'Funk de Elite',\n",
       " 'Future',\n",
       " 'Future Bass',\n",
       " 'Futuristic',\n",
       " 'G Shit Only',\n",
       " 'G5',\n",
       " 'GANG SHIT #112600',\n",
       " 'GOLDHOUSE',\n",
       " 'GUCCIMANE',\n",
       " 'GangShit',\n",
       " 'Gangsta',\n",
       " 'Gangsta Rap',\n",
       " 'Gaspare Music',\n",
       " 'Gear Up',\n",
       " 'GetNMoneyMusic',\n",
       " 'Ghazal',\n",
       " 'Glitch Hop',\n",
       " 'Goa Minimal',\n",
       " 'GoblinOST',\n",
       " 'GoonLife',\n",
       " 'Greaf',\n",
       " 'Grime',\n",
       " 'Grime Trap',\n",
       " 'Grunge',\n",
       " 'Gta V',\n",
       " 'Gucci Mane',\n",
       " 'Guitar',\n",
       " 'Gunk Rock',\n",
       " 'H8itHere',\n",
       " 'HELLAWAVE',\n",
       " 'HEllA WAVE',\n",
       " 'HH-LA',\n",
       " 'HIP-HOP',\n",
       " 'HIPHOP',\n",
       " 'Harder',\n",
       " 'Hardstyle',\n",
       " 'Hardstyles',\n",
       " 'HeartBrokeRecords #SeenInSilence #ConfuseTheMasses #LetTheBeatSpeak',\n",
       " 'HellaWave',\n",
       " 'HellaWaveBoyz',\n",
       " 'High',\n",
       " 'Hip - Hop/Rap',\n",
       " 'Hip Hop',\n",
       " 'Hip Hop ',\n",
       " 'Hip Hop Rap',\n",
       " 'Hip Hop/ Rap',\n",
       " 'Hip Hop/Rap',\n",
       " 'Hip Hop/rap',\n",
       " 'Hip hop y Rap',\n",
       " 'Hip-Hop',\n",
       " 'Hip-Hop & Rap',\n",
       " 'Hip-Hop / R&B',\n",
       " 'Hip-Hop/R&B',\n",
       " 'Hip-Hop/Rap',\n",
       " 'Hip-hop',\n",
       " 'Hip-hop & Rap',\n",
       " 'Hip-hop/Rap',\n",
       " 'Hip-hop/rap',\n",
       " 'HipHop',\n",
       " 'HipHop Rap',\n",
       " 'HipHop/Rap',\n",
       " 'Hiphop',\n",
       " 'Hiphop/r&b',\n",
       " 'Hiphoprap',\n",
       " 'Hit Maker',\n",
       " 'House',\n",
       " 'Human Music',\n",
       " 'Human Music Hip-Hop',\n",
       " 'ISSA',\n",
       " 'Imran Khan ',\n",
       " 'Indie',\n",
       " 'Indie Dance',\n",
       " 'Indie, Alternative, Folk, Pop',\n",
       " 'Infinite So Fi',\n",
       " 'Instermantal',\n",
       " 'Instermental',\n",
       " 'ItWillAllBeOverSoon',\n",
       " 'J Balvin',\n",
       " 'J. Cole',\n",
       " 'JASON ALDEAN',\n",
       " 'JID',\n",
       " 'JMM',\n",
       " 'JOSEF SALVAT',\n",
       " 'JUSGLO',\n",
       " 'Jah Cure',\n",
       " 'Jana Kramer',\n",
       " 'Jay Rock',\n",
       " 'Jazz & Blues',\n",
       " 'Jenny Lewis',\n",
       " 'Jet Boyz',\n",
       " 'Jhene Aiko',\n",
       " 'Jhene aiko',\n",
       " 'Joe Budden',\n",
       " 'John',\n",
       " 'Jory',\n",
       " 'Joyner Lucas',\n",
       " 'JoynerLucas',\n",
       " 'Juice',\n",
       " 'JuiceWRLD',\n",
       " 'Juicy J',\n",
       " 'Juke',\n",
       " 'Junior H',\n",
       " 'K CAMP',\n",
       " 'K-POP',\n",
       " 'K-Pop',\n",
       " 'K-pop',\n",
       " 'KERALA',\n",
       " 'KIDSthealbum',\n",
       " 'KINGS',\n",
       " 'KODAK BLACK',\n",
       " 'KODAKBLACK',\n",
       " 'KPOP',\n",
       " 'Kanan',\n",
       " 'Kara_Para',\n",
       " 'KasaanTv',\n",
       " 'Kevin Gates',\n",
       " 'Khriztian Gc',\n",
       " 'Kill The Copyright',\n",
       " 'King Lil Jay #00',\n",
       " 'Kodak Black',\n",
       " 'Kompa Love',\n",
       " 'KondZilla',\n",
       " 'Kpop',\n",
       " 'Kygo',\n",
       " \"L's\",\n",
       " 'LAFLAME',\n",
       " 'LATIN MUSIC / SALSA',\n",
       " 'LDRU',\n",
       " 'LIFESTYLE R&B',\n",
       " 'LILDURK',\n",
       " 'LILJON',\n",
       " 'LITOO THE GREAT',\n",
       " 'LUV',\n",
       " 'Latin',\n",
       " 'Latin / Urban',\n",
       " 'Latin Music',\n",
       " 'Latin Urban',\n",
       " 'Latin Urban / Reggaeton',\n",
       " 'Latina',\n",
       " 'Learning',\n",
       " 'Life',\n",
       " 'Lifestyle',\n",
       " 'Lifestyle R&B',\n",
       " 'Like',\n",
       " 'Lil Herb',\n",
       " 'Lil Herb,',\n",
       " 'Lil Wayne',\n",
       " 'LilMouse',\n",
       " 'Little',\n",
       " 'Littness',\n",
       " 'Lo - Fi',\n",
       " 'Lo-Fi',\n",
       " 'Lo-Fi Hip Hop',\n",
       " 'Lo-fi',\n",
       " 'Lofi',\n",
       " 'Lofi Hip Hop',\n",
       " 'Logic',\n",
       " 'LondonJae',\n",
       " 'LostCause',\n",
       " 'Lou Reed',\n",
       " 'Love',\n",
       " 'LucasColy',\n",
       " 'Lucki',\n",
       " 'Luvfi',\n",
       " 'MC Léo Da Baixada',\n",
       " 'MEMPHIS',\n",
       " 'MGK',\n",
       " 'MIGOS',\n",
       " 'MIKE TOWERS',\n",
       " 'MIXTAPE',\n",
       " 'MM',\n",
       " 'MOZART LA PARA',\n",
       " 'Major Lazer',\n",
       " 'Mambo #Nicky #Jam #NickyJam #ElPerdon #Elperdonremix',\n",
       " 'Mariah',\n",
       " 'MartyGrimes',\n",
       " 'Mashup',\n",
       " 'Matt Corman',\n",
       " 'MattyBRaps',\n",
       " 'Meek Mill',\n",
       " 'Melanie',\n",
       " 'MelanieMartinez',\n",
       " 'Melbournebounce',\n",
       " 'Melodic',\n",
       " 'Melodic House',\n",
       " 'Members Only',\n",
       " 'Memories',\n",
       " 'MemphisTN',\n",
       " 'Mere',\n",
       " 'Metal',\n",
       " 'Metal  ',\n",
       " 'MetroBoominWantSomeMore',\n",
       " 'Michael Ray',\n",
       " 'Migos',\n",
       " 'Mike Stud',\n",
       " 'Million',\n",
       " 'MissingYou',\n",
       " 'Mitali',\n",
       " 'Mix',\n",
       " 'Mixtape',\n",
       " 'Money Man',\n",
       " 'Moon',\n",
       " 'Mouse Myers',\n",
       " 'Mozzy',\n",
       " 'Mulaabossedup ',\n",
       " 'Mulatto',\n",
       " 'Music',\n",
       " 'NBA KD',\n",
       " 'NIykeeheaton',\n",
       " 'NOISESTORM',\n",
       " 'Nav',\n",
       " 'Nebu Kiniza',\n",
       " 'Nervous Music',\n",
       " 'New',\n",
       " 'Next Level $hit ',\n",
       " 'Nicki Minaj',\n",
       " 'Nightcore',\n",
       " 'Nightcore ',\n",
       " 'NightcoreReality',\n",
       " 'Ninja',\n",
       " 'Nipsey Hussle',\n",
       " 'NoCopyrightSounds',\n",
       " 'NowImJoey',\n",
       " 'Nu Disco',\n",
       " 'OVO',\n",
       " 'Oba Rowland',\n",
       " 'Offspring',\n",
       " 'Oldies',\n",
       " 'Olds Cool',\n",
       " 'On To Something Good',\n",
       " 'OrchestralCrunkwave',\n",
       " 'Oriental',\n",
       " 'Origami Sound',\n",
       " 'Owl City',\n",
       " 'P & B',\n",
       " 'PBR&B',\n",
       " 'PHONK',\n",
       " 'PLAYBOIFRESH',\n",
       " 'PLURNT',\n",
       " 'PNBROCK',\n",
       " 'PNBRock',\n",
       " 'PUNJAbi',\n",
       " 'PUNK',\n",
       " \"PURAS PA'PISTEAR\",\n",
       " 'PURP',\n",
       " 'Pashto',\n",
       " 'Pashto Attan Songs',\n",
       " 'Philthyrich',\n",
       " 'Piano',\n",
       " 'Plies',\n",
       " 'PnB Rock',\n",
       " 'PoS',\n",
       " 'Pop',\n",
       " 'Pop Electro- Pop',\n",
       " 'Pop/rock',\n",
       " 'Problematic',\n",
       " 'Progressive Dubstep',\n",
       " 'Progressive House',\n",
       " 'Progressive Trap',\n",
       " 'PsyReggae',\n",
       " 'Psychedelic Rock',\n",
       " 'Punjabi',\n",
       " 'Punk',\n",
       " 'QUEDASTE EN EL PASADO',\n",
       " 'Quemix',\n",
       " 'Quilly',\n",
       " 'R & B',\n",
       " 'R&B',\n",
       " 'R&B & Soul',\n",
       " 'R&B y Soul',\n",
       " 'R&B/Hip-Hop',\n",
       " 'R&B/Soul',\n",
       " 'R&b ',\n",
       " 'R&b/hip Hop',\n",
       " 'RAP',\n",
       " 'REMYBOYZ',\n",
       " 'RL Grime',\n",
       " 'RM,',\n",
       " 'Radha',\n",
       " 'Rae Sremmurd',\n",
       " 'Rahn Rahn',\n",
       " 'Ramy',\n",
       " 'RamySabry2020',\n",
       " 'Ransom 2',\n",
       " 'Rap',\n",
       " 'Rap & Hip-Hop',\n",
       " 'Rap Hiphop',\n",
       " 'Rap Kreyol',\n",
       " 'Rap e Hip Hop',\n",
       " 'Rap/Hip Hop',\n",
       " 'Rap/Hip-Hop',\n",
       " 'Rap/hip-hop',\n",
       " 'Rap\\\\ Hip Hop',\n",
       " 'Raw',\n",
       " 'Raw Hardstyle',\n",
       " 'Real Hasta La Muerte',\n",
       " 'Real Street Shit',\n",
       " 'Redman',\n",
       " 'Reggae',\n",
       " 'Reggaeton',\n",
       " 'ReggieCouz',\n",
       " 'Regional Mexicano',\n",
       " 'Reguetón',\n",
       " 'Remix',\n",
       " 'Remixes',\n",
       " 'Remtrex',\n",
       " 'RetroMusicGroup',\n",
       " 'ReverseBass',\n",
       " 'RiFF',\n",
       " 'Rich Homie QUan',\n",
       " 'Rich Homie Quan',\n",
       " 'Rich the Kid',\n",
       " 'Ride ',\n",
       " 'Rihanna',\n",
       " 'RnB',\n",
       " 'RnBass',\n",
       " 'Rnb',\n",
       " 'Rnb, Hip Hop',\n",
       " 'Rnbhiphop',\n",
       " 'Rock',\n",
       " 'Roddy Ricch',\n",
       " 'Romantico',\n",
       " 'Romeo Santos Mix',\n",
       " 'Romeo santos',\n",
       " 'Romiti',\n",
       " 'RondoNumbaNine',\n",
       " 'SALISBURY NC',\n",
       " 'SCFirst',\n",
       " 'SCHEMATHRAXX',\n",
       " 'SESH',\n",
       " 'SIXSET',\n",
       " 'SKT',\n",
       " 'SKTEXCLUSIVE',\n",
       " 'SPIDER MUSIC',\n",
       " 'SPM',\n",
       " 'Sad',\n",
       " 'Sadtrap',\n",
       " 'Sail Away ♪',\n",
       " 'Salsa Choke',\n",
       " 'Samurai Guru',\n",
       " 'San Scout',\n",
       " 'Say It',\n",
       " 'Scouse ',\n",
       " 'Scouse House',\n",
       " 'Scudda Bros',\n",
       " 'Sex Music',\n",
       " 'Shadow Rap',\n",
       " 'Sharmoofers ',\n",
       " 'Shrey_Singhal',\n",
       " 'Skizzy Mars',\n",
       " 'Slipknot',\n",
       " 'Slipsoknot',\n",
       " 'Smooth',\n",
       " 'Sohail Shahzad',\n",
       " 'Soul',\n",
       " 'Soulection',\n",
       " 'Soulful',\n",
       " 'Soundtrack',\n",
       " 'Southpaw',\n",
       " 'Space Jesus',\n",
       " 'Speaker Knockerz',\n",
       " 'Spooky ASMR Challenge',\n",
       " 'SremmLife',\n",
       " 'Storytelling',\n",
       " 'Study',\n",
       " 'Summer House',\n",
       " 'Swag',\n",
       " 'Swavey',\n",
       " 'T',\n",
       " 'T R A P S O U L',\n",
       " 'TBG',\n",
       " 'TGOD',\n",
       " 'TRAPMUSIC',\n",
       " 'TRIOVIDEO7',\n",
       " 'TYGA',\n",
       " 'Tag:',\n",
       " 'Talk About it in the Morning',\n",
       " 'TateKobang ',\n",
       " 'Tear$',\n",
       " 'TechHouse',\n",
       " 'Techno',\n",
       " 'Tekstyle',\n",
       " 'The ',\n",
       " 'The Game',\n",
       " 'The Kid',\n",
       " 'The Magician',\n",
       " 'Think Its A Game Records',\n",
       " 'Throwback',\n",
       " 'Thug',\n",
       " 'Thugstep',\n",
       " 'TikTok Songs',\n",
       " 'ToryLanez',\n",
       " 'Tracks',\n",
       " 'Trance',\n",
       " 'Trap',\n",
       " 'Trap-Hop',\n",
       " 'Trapavelli Tre',\n",
       " 'Traplatino',\n",
       " 'Trapsoul',\n",
       " 'Trell',\n",
       " 'Trick-Trick',\n",
       " 'Trip Hop',\n",
       " 'Triphop',\n",
       " 'Tropical',\n",
       " 'Ty$',\n",
       " 'Tyler Cymone',\n",
       " 'Type beat',\n",
       " 'Underground',\n",
       " 'Urban Latino',\n",
       " 'Use2',\n",
       " 'UwU',\n",
       " 'VA',\n",
       " 'VOID',\n",
       " 'Vaporwave',\n",
       " 'Var',\n",
       " 'Very Rare',\n",
       " 'Vibe',\n",
       " 'Vine',\n",
       " 'Vybz Kartel',\n",
       " 'W&W',\n",
       " 'WAR MUSIC',\n",
       " 'WERKKK',\n",
       " 'Waves',\n",
       " 'Waves ',\n",
       " 'WeDidIt',\n",
       " 'Whats Up',\n",
       " 'Wiz Khalifa',\n",
       " 'Work',\n",
       " 'World',\n",
       " 'World Music',\n",
       " 'Worldmusic',\n",
       " 'XO',\n",
       " 'YG',\n",
       " 'Yagami Yato',\n",
       " 'Yonkers',\n",
       " 'Young Dolph',\n",
       " 'Young M.A',\n",
       " 'Young Pappy',\n",
       " 'Young Thug',\n",
       " 'Young thug',\n",
       " 'YoungHustlers',\n",
       " 'Zara',\n",
       " 'Zombies',\n",
       " 'Zouk',\n",
       " '[[DJ JAN]]',\n",
       " 'abid amjad',\n",
       " 'afroman',\n",
       " 'akcent kamelia',\n",
       " 'almighty ft. farruko - panda',\n",
       " 'alt pop',\n",
       " 'alternative',\n",
       " 'andy mineo',\n",
       " 'anime',\n",
       " 'anuel aa',\n",
       " 'arabic',\n",
       " 'arianagrande',\n",
       " 'atif',\n",
       " 'ayookd',\n",
       " 'ayushman khurana',\n",
       " 'bachata',\n",
       " 'bad boy',\n",
       " 'baladas romanticas en ingles',\n",
       " 'bankhead',\n",
       " 'bass',\n",
       " 'bassnectar',\n",
       " 'bay area',\n",
       " 'beat tape',\n",
       " 'beats',\n",
       " 'billionaireblack',\n",
       " 'blik',\n",
       " 'blow',\n",
       " 'borgeous',\n",
       " 'bounce',\n",
       " 'brandy',\n",
       " 'brent faiyaz ',\n",
       " 'bryson',\n",
       " 'cancerslug rootwork demo anathema',\n",
       " 'carti',\n",
       " 'cash',\n",
       " 'cashcarti',\n",
       " 'cdot',\n",
       " 'chief keef bang 3 ',\n",
       " 'chill',\n",
       " 'chiraq ',\n",
       " 'chutney soca indian',\n",
       " 'clarity',\n",
       " 'clariyahboss',\n",
       " 'coloured sweat',\n",
       " 'country',\n",
       " 'country rap',\n",
       " 'cover',\n",
       " 'cozmik',\n",
       " 'crime',\n",
       " 'cruel intentions',\n",
       " 'cure',\n",
       " 'daedae',\n",
       " 'dancehall',\n",
       " 'danielaandrade',\n",
       " 'dank',\n",
       " 'daoko ',\n",
       " 'deep',\n",
       " 'diplo',\n",
       " 'dj Esco',\n",
       " 'dj mix',\n",
       " 'dj rohit 9890358074',\n",
       " 'djbfront',\n",
       " 'djnelson ',\n",
       " 'djtaj',\n",
       " 'dope deejay ',\n",
       " 'dopplebangers',\n",
       " 'drake',\n",
       " 'dt',\n",
       " 'dubstep',\n",
       " 'dumb',\n",
       " 'dutty',\n",
       " 'e-dubble',\n",
       " 'edited',\n",
       " 'effortless',\n",
       " 'electro #Future Trap',\n",
       " 'electro house',\n",
       " 'electronic',\n",
       " 'electronic dance music',\n",
       " 'ella mai',\n",
       " 'eminem',\n",
       " 'emo jazz fusion',\n",
       " 'emy elaskry',\n",
       " 'fast and furious',\n",
       " 'fbgduck',\n",
       " 'fetty',\n",
       " 'fettywap',\n",
       " 'film enta omry',\n",
       " 'finallyrich',\n",
       " 'flavors',\n",
       " 'french montana',\n",
       " 'fuckupcunt',\n",
       " 'fugazi',\n",
       " 'funk',\n",
       " 'future',\n",
       " 'g herbo',\n",
       " 'g-unit',\n",
       " 'gamda',\n",
       " 'garage',\n",
       " 'gas',\n",
       " 'gbe',\n",
       " 'geovany dj productions',\n",
       " 'ghostemane',\n",
       " 'gocrazy',\n",
       " 'good vibes',\n",
       " 'gorillaz',\n",
       " 'groove',\n",
       " 'guiz',\n",
       " 'hahahahaha',\n",
       " 'heat',\n",
       " 'heavens gate',\n",
       " 'hip Hop',\n",
       " 'hip hop',\n",
       " 'hip-hop',\n",
       " 'hip-hop R&B',\n",
       " 'hiphop',\n",
       " 'hiphop, rap',\n",
       " 'holy',\n",
       " 'house',\n",
       " 'http://www.facebook.com/pages/%D8%A7%D8%',\n",
       " 'iamsu!',\n",
       " 'icamefromnothing',\n",
       " 'iii iii iii iii',\n",
       " 'ily',\n",
       " 'infamousrell',\n",
       " 'into the sun',\n",
       " \"it's only real\",\n",
       " 'j cole',\n",
       " 'jacquees',\n",
       " 'jacquees on it',\n",
       " 'jay park',\n",
       " 'jayo',\n",
       " 'jazzbumps',\n",
       " 'jeezy',\n",
       " 'jheneaiko',\n",
       " 'jinsang',\n",
       " 'joe budden',\n",
       " 'john mayer',\n",
       " 'joji',\n",
       " 'juan gabriel',\n",
       " 'juicewrld',\n",
       " 'jungleterror',\n",
       " 'justin bieber',\n",
       " 'justinbieber',\n",
       " 'k camp',\n",
       " 'k michelle',\n",
       " 'kabhi',\n",
       " 'kanyewest',\n",
       " 'kashu9028',\n",
       " 'kendricklamar',\n",
       " 'keyshiacole',\n",
       " 'kiiara',\n",
       " 'kill',\n",
       " 'kill yourself',\n",
       " 'killstation',\n",
       " 'kodak black',\n",
       " 'kodakblack',\n",
       " 'kpa',\n",
       " 'ksrgroup',\n",
       " 'laryover',\n",
       " 'laugh to the bank music',\n",
       " 'lean',\n",
       " 'leaving',\n",
       " 'leonbridges',\n",
       " 'lil dicky',\n",
       " 'lil durk',\n",
       " 'lil herb',\n",
       " 'lil peep',\n",
       " 'lil yachty',\n",
       " 'liljay#00',\n",
       " 'lilmouse',\n",
       " 'lilpeep',\n",
       " 'liveforever',\n",
       " 'lo-fi',\n",
       " 'lofi',\n",
       " 'lostcause',\n",
       " 'louis batons',\n",
       " 'love',\n",
       " 'love #Nightcore',\n",
       " 'lukebryan',\n",
       " 'lullaby',\n",
       " 'mac miller',\n",
       " 'machine gun kelly',\n",
       " 'manalitrance',\n",
       " 'mashup',\n",
       " 'mc kelvinho',\n",
       " 'mc kelvinho duro dorme',\n",
       " 'mc kelvinho gratidao',\n",
       " 'membersonlyvolume2',\n",
       " 'meme rap',\n",
       " 'metal alternativo',\n",
       " 'metalcore',\n",
       " 'mighty vol 3',\n",
       " 'migos',\n",
       " 'migos meek mill migo dreams',\n",
       " 'mike stud',\n",
       " 'missmulatto',\n",
       " 'moans',\n",
       " 'mozzy',\n",
       " 'mustache music',\n",
       " 'nashvillemusichouse',\n",
       " 'nasty',\n",
       " 'nature feels ',\n",
       " 'nav',\n",
       " 'never shout never',\n",
       " 'newsound',\n",
       " 'nightcore',\n",
       " 'nightcore ',\n",
       " 'nipseyhussle',\n",
       " 'niykee heaton',\n",
       " 'niykeeheaton',\n",
       " 'not',\n",
       " 'not trap just romancecore',\n",
       " 'nouveauté ',\n",
       " 'offonoff',\n",
       " 'oh',\n",
       " 'old',\n",
       " 'original',\n",
       " 'otf',\n",
       " 'outkast',\n",
       " 'pink',\n",
       " 'playboicarti',\n",
       " 'playbook',\n",
       " 'plies',\n",
       " 'pnb',\n",
       " 'pnb rock',\n",
       " 'poolside pop',\n",
       " 'pop',\n",
       " 'promiscuous',\n",
       " 'promnite',\n",
       " 'punjabi ',\n",
       " 'pusho',\n",
       " 'queen',\n",
       " 'rahnrahn',\n",
       " 'rain',\n",
       " 'rap',\n",
       " 'rap ',\n",
       " 'rap/ hip-hop/ lyric',\n",
       " 'rare',\n",
       " 'realfriends ',\n",
       " 'reggae',\n",
       " 'remix',\n",
       " 'remyboyz',\n",
       " 'rich homie quan',\n",
       " 'rich the kid',\n",
       " 'rightnow',\n",
       " 'rnb',\n",
       " 'robotaki',\n",
       " 'rock',\n",
       " 'romance',\n",
       " 'romance garbage',\n",
       " 'romanticas',\n",
       " 'rowdy rebel',\n",
       " 'rudimental',\n",
       " 'runnaway',\n",
       " 'russ',\n",
       " 'russell westbrook',\n",
       " 'sad',\n",
       " 'sad - fi',\n",
       " 'salsa',\n",
       " 'sangatost',\n",
       " 'schema',\n",
       " 'schoolboy q',\n",
       " 'screwston',\n",
       " 'sdot',\n",
       " 'sea shanty',\n",
       " 'secc$ tape 2',\n",
       " 'serise',\n",
       " 'sevyn',\n",
       " 'shadow rap',\n",
       " 'shaggy',\n",
       " 'share',\n",
       " 'sharmoofers',\n",
       " 'shoegaze trap',\n",
       " 'shy glizzy',\n",
       " 'simpshit',\n",
       " 'skizzy',\n",
       " 'skrillex',\n",
       " 'skyfall',\n",
       " 'slowjams',\n",
       " 'sp404',\n",
       " 'steve',\n",
       " 'streetpoem',\n",
       " 'sun le',\n",
       " 'supportsexworkers',\n",
       " 'swavey',\n",
       " 'sway',\n",
       " 'teammulatto',\n",
       " 'teemid',\n",
       " 'the kid',\n",
       " 'the weeknd',\n",
       " 'tiktok songs',\n",
       " 'tomorrowland',\n",
       " 'toosmooth',\n",
       " 'tory lanez',\n",
       " 'torylanez',\n",
       " 'tracy',\n",
       " 'trance mix',\n",
       " 'trap',\n",
       " 'travis scott',\n",
       " 'travisscott',\n",
       " 'trillsammy',\n",
       " 'try me',\n",
       " 'twerk',\n",
       " 'tylerthecreator',\n",
       " 'uber',\n",
       " 'unreleased ',\n",
       " 'until the ribbon breaks',\n",
       " 'variado',\n",
       " 'various artists',\n",
       " 'vibes #country #mix ',\n",
       " 'vibes.',\n",
       " ...]"
      ]
     },
     "execution_count": 239,
     "metadata": {},
     "output_type": "execute_result"
    }
   ],
   "source": [
    "selected_track['genre'].sort_values().unique().tolist()"
   ]
  },
  {
   "cell_type": "code",
   "execution_count": 240,
   "metadata": {},
   "outputs": [
    {
     "name": "stderr",
     "output_type": "stream",
     "text": [
      "/home/nnbtam99/miniconda3/envs/pysyft/lib/python3.7/site-packages/pandas/core/indexing.py:1765: SettingWithCopyWarning: \n",
      "A value is trying to be set on a copy of a slice from a DataFrame.\n",
      "Try using .loc[row_indexer,col_indexer] = value instead\n",
      "\n",
      "See the caveats in the documentation: https://pandas.pydata.org/pandas-docs/stable/user_guide/indexing.html#returning-a-view-versus-a-copy\n",
      "  isetter(loc, value)\n"
     ]
    }
   ],
   "source": [
    "import re\n",
    "\n",
    "for index, row in selected_track.iterrows():\n",
    "    # chỉ xét các dòng có genre <> NaN\n",
    "    if not pd.isna(row['genre']):\n",
    "        if (re.search(r'\\d', row['genre'])) or ((not re.search('^[a-zA-Z0-9]*$', row['genre'])) and ('#' not in row['genre'])):\n",
    "            selected_track.loc[index, 'genre'] = np.NaN"
   ]
  },
  {
   "cell_type": "code",
   "execution_count": 241,
   "metadata": {},
   "outputs": [
    {
     "data": {
      "text/plain": [
       "549"
      ]
     },
     "execution_count": 241,
     "metadata": {},
     "output_type": "execute_result"
    }
   ],
   "source": [
    "# Kiểm tra sau khi loại các genre chứa số và ký tự đặc biệt\n",
    "selected_track['genre'].nunique()"
   ]
  },
  {
   "cell_type": "markdown",
   "metadata": {},
   "source": [
    "Chỉnh các genre đều thành chữ viết thường"
   ]
  },
  {
   "cell_type": "code",
   "execution_count": 242,
   "metadata": {},
   "outputs": [
    {
     "name": "stderr",
     "output_type": "stream",
     "text": [
      "/home/nnbtam99/miniconda3/envs/pysyft/lib/python3.7/site-packages/ipykernel_launcher.py:1: SettingWithCopyWarning: \n",
      "A value is trying to be set on a copy of a slice from a DataFrame.\n",
      "Try using .loc[row_indexer,col_indexer] = value instead\n",
      "\n",
      "See the caveats in the documentation: https://pandas.pydata.org/pandas-docs/stable/user_guide/indexing.html#returning-a-view-versus-a-copy\n",
      "  \"\"\"Entry point for launching an IPython kernel.\n"
     ]
    }
   ],
   "source": [
    "selected_track['genre'] = selected_track['genre'].str.lower()"
   ]
  },
  {
   "cell_type": "markdown",
   "metadata": {},
   "source": [
    "Xóa các khoảng trắng thừa"
   ]
  },
  {
   "cell_type": "code",
   "execution_count": 243,
   "metadata": {},
   "outputs": [
    {
     "name": "stderr",
     "output_type": "stream",
     "text": [
      "/home/nnbtam99/miniconda3/envs/pysyft/lib/python3.7/site-packages/ipykernel_launcher.py:1: SettingWithCopyWarning: \n",
      "A value is trying to be set on a copy of a slice from a DataFrame.\n",
      "Try using .loc[row_indexer,col_indexer] = value instead\n",
      "\n",
      "See the caveats in the documentation: https://pandas.pydata.org/pandas-docs/stable/user_guide/indexing.html#returning-a-view-versus-a-copy\n",
      "  \"\"\"Entry point for launching an IPython kernel.\n"
     ]
    }
   ],
   "source": [
    "selected_track['genre'] = selected_track['genre'].str.strip()"
   ]
  },
  {
   "cell_type": "markdown",
   "metadata": {},
   "source": [
    "Xóa ký tự hashtag #"
   ]
  },
  {
   "cell_type": "code",
   "execution_count": 247,
   "metadata": {},
   "outputs": [
    {
     "name": "stderr",
     "output_type": "stream",
     "text": [
      "/home/nnbtam99/miniconda3/envs/pysyft/lib/python3.7/site-packages/ipykernel_launcher.py:1: SettingWithCopyWarning: \n",
      "A value is trying to be set on a copy of a slice from a DataFrame.\n",
      "Try using .loc[row_indexer,col_indexer] = value instead\n",
      "\n",
      "See the caveats in the documentation: https://pandas.pydata.org/pandas-docs/stable/user_guide/indexing.html#returning-a-view-versus-a-copy\n",
      "  \"\"\"Entry point for launching an IPython kernel.\n"
     ]
    }
   ],
   "source": [
    "selected_track['genre'] = selected_track['genre'].str.strip('#')"
   ]
  },
  {
   "cell_type": "code",
   "execution_count": 249,
   "metadata": {},
   "outputs": [
    {
     "data": {
      "text/plain": [
       "486"
      ]
     },
     "execution_count": 249,
     "metadata": {},
     "output_type": "execute_result"
    }
   ],
   "source": [
    "# Kiểm tra sau khi đồng bộ chữ viết thường và loại khoảng trắng thừa\n",
    "selected_track['genre'].nunique()"
   ]
  },
  {
   "cell_type": "code",
   "execution_count": 259,
   "metadata": {},
   "outputs": [
    {
     "name": "stderr",
     "output_type": "stream",
     "text": [
      "/home/nnbtam99/miniconda3/envs/pysyft/lib/python3.7/site-packages/ipykernel_launcher.py:1: SettingWithCopyWarning: \n",
      "A value is trying to be set on a copy of a slice from a DataFrame.\n",
      "Try using .loc[row_indexer,col_indexer] = value instead\n",
      "\n",
      "See the caveats in the documentation: https://pandas.pydata.org/pandas-docs/stable/user_guide/indexing.html#returning-a-view-versus-a-copy\n",
      "  \"\"\"Entry point for launching an IPython kernel.\n"
     ]
    }
   ],
   "source": [
    "selected_track['genre'] = selected_track['genre'].str.capitalize()\n",
    "# selected_track['genre'].sort_values().unique()"
   ]
  },
  {
   "cell_type": "code",
   "execution_count": 258,
   "metadata": {},
   "outputs": [],
   "source": [
    "invalid_genres = {'Abdullah', 'Acehood', 'Addicted','Afroman', 'Ajjae', \n",
    "                  'Andthenjust', 'Anuel', 'Anuelaa', 'Arianagrande', 'Asmr',\n",
    "           'Asoc', 'Astralwave', 'Atif', 'Ayookd', 'Bachata',\n",
    "       'Backendchild', 'Balllikeimkobe', 'Bankhead', 'Bbo', 'Bcx', 'Bftd',\n",
    "       'Billionaireblack', 'Billo', 'Bkbk', 'Blacklivesmatter',\n",
    "       'Blacksilk', 'Blik', 'Blove', 'Blow', 'Bmike', 'Borgeous', 'Bosscash', 'Bosy', 'Bounce', 'Brandy',\n",
    "       'Bryson',  'Butta', 'Carnage', 'Carterv', 'Carti', 'Cash',\n",
    "       'Cashcarti', 'Cashkidd', 'Cdot', 'Chadbahton', 'Chenal', 'Chicago',\n",
    "       'Chiefkeef', 'Chill', 'Chillstep', 'Chingona', 'Chiraq',\n",
    "       'Christmas', 'Chutney', 'Clarity', 'Clariyahboss', 'Clasicos',\n",
    "       'Cmdwn', 'Comeupkid', 'Computers', 'Cozmik', 'Crenshaw', 'Crime',\n",
    "       'Crybaby', 'Cure', 'Dababy', 'Daedae', 'Danielaandrade', 'Dank', 'Dark', 'Deep', 'Desiigner', 'Detroit',\n",
    "       'Diplo', 'Disclosure', 'Dj', 'Djbfront', 'Djtaj', 'Dlow', 'Dmv',\n",
    "       'Dongan', 'Donkstep', 'Dope', 'Dopplebangers', 'Drake', 'Drumstep', 'Drunkinlove', 'Dt', \n",
    "       'Dumb', 'Duranguense', 'Duranguensemix', 'Dutty', 'Dynasty',\n",
    "       'Dystopian', 'Ecmg', 'Eden', 'Edit', 'Edited', 'Effortless', 'Elhae', 'Eminem', 'Experimental',\n",
    "       'Fank', 'Fbg', 'Fbgduck', 'Fetty', 'Fettywap', 'Finallyrich',\n",
    "       'Fkthissongbutitwillshakeyourcar', 'Flavors', 'Flex',\n",
    "       'Flosstradamus', 'Fuckupcunt', 'Fugazi', 'Gamda', 'Gangshit', 'Gangsta', 'Garage', 'Gas',\n",
    "       'Gbe', 'Getnmoneymusic', 'Ghazal', 'Ghostemane', 'Goblinost',\n",
    "       'Gocrazy', 'Goonlife', 'Gorillaz', 'Greaf',\n",
    "       'Groove', 'Grunge', 'Guccimane', 'Guitar', 'Guiz', 'Hahahahaha',\n",
    "       'Harder', 'Hardstyle', 'Hardstyles',\n",
    "       'Heartbrokerecords #seeninsilence #confusethemasses #letthebeatspeak',\n",
    "       'Heat', 'Hellawave', 'Hellawaveboyz', 'High', 'Icamefromnothing', 'Ily', \n",
    "       'Infamousrell', 'Issa', 'Itwillallbeoversoon', 'Jacquees', 'Jayo', 'Jeezy',\n",
    "       'Jheneaiko', 'Jid', 'Jinsang', 'Jmm', 'John', 'Joji', 'Jory',\n",
    "       'Joynerlucas', 'Juice', 'Juicewrld', 'Juke', 'Jungleterror',\n",
    "       'Jusglo', 'Justinbieber', 'Kabhi', 'Kanan', 'Kanyewest',\n",
    "       'Kasaantv', 'Kendricklamar', 'Kerala', 'Keyshiacole',\n",
    "       'Kidsthealbum', 'Kiiara', 'Kill', 'Killstation', 'Kings',\n",
    "       'Kodakblack', 'Kondzilla', 'Kpa', 'Ksrgroup', 'Kygo',\n",
    "       'Laflame', 'Laryover', 'Ldru', 'Lean', 'Leaving', 'Leonbridges', 'Life', 'Lifestyle', 'Like',\n",
    "       'Lildurk', 'Liljon', 'Lilmouse', 'Lilpeep', 'Little', 'Littness',\n",
    "       'Liveforever', 'Logic', 'Londonjae', 'Lostcause', 'Love',\n",
    "        'Lucascoly', 'Lucki', 'Lukebryan', 'Luv',  'Mambo #nicky #jam #nickyjam #elperdon #elperdonremix',\n",
    "       'Manalitrance', 'Mariah', 'Martygrimes', 'Mattybraps',\n",
    "       'Melanie', 'Melaniemartinez', 'Melbournebounce', 'Melodic',\n",
    "       'Memories', 'Memphis', 'Memphistn', 'Mere', 'Metroboominwantsomemore', \n",
    "                  'Mgk', 'Migos', 'Million', 'Missingyou',\n",
    "       'Missmulatto', 'Mitali', 'Mm', 'Moans', 'Moon',\n",
    "       'Mozzy', 'Mulatto', 'Music', 'Nashvillemusichouse', 'Nasty', 'Nav',\n",
    "       'New', 'Newsound', 'Ninja',\n",
    "       'Nipseyhussle', 'Niykeeheaton', 'Nocopyrightsounds', 'Noisestorm',\n",
    "       'Not', 'Nowimjoey', 'Offonoff', 'Offspring', 'Oh', 'Old', 'Oldies',\n",
    "       'Orchestralcrunkwave', 'Otf', 'Outkast',\n",
    "       'Ovo', 'Pashto', 'Philthyrich', 'Phonk', 'Pink',\n",
    "       'Playboicarti', 'Playboifresh', 'Playbook', 'Plies', 'Plurnt',\n",
    "                     'Problematic', 'Promiscuous',\n",
    "       'Promnite', 'Punjabi', 'Purp', 'Pusho',\n",
    "       'Queen', 'Quemix', 'Quilly', 'Radha', 'Rahnrahn', 'Rain', 'Ramy',\n",
    "       'Rare', 'Raw', 'Redman', 'Remyboyz',\n",
    "       'Retromusicgroup', 'Riff', 'Rightnow', 'Rihanna',\n",
    "       'Robotaki', 'Romiti', 'Rondonumbanine',\n",
    "       'Rudimental', 'Runnaway', 'Russ', 'Sangatost', 'Scfirst', 'Schema', 'Schemathraxx', 'Screwston',\n",
    "       'Sdot', 'Serise', 'Sesh', 'Sevyn', 'Shaggy', 'Share',\n",
    "       'Sharmoofers', 'Simpshit', 'Sixset', 'Skizzy', 'Skrillex', 'Skt',\n",
    "       'Sktexclusive', 'Skyfall', 'Slipknot', 'Slipsoknot', 'Slowjams',\n",
    "       'Smooth', 'Soul', 'Soulection', 'Soulful', 'Soundtrack',\n",
    "       'Southpaw', 'Spm', 'Sremmlife', 'Steve', 'Storytelling',\n",
    "       'Streetpoem', 'Study', 'Supportsexworkers', 'Swag', 'Swavey',\n",
    "       'Sway', 'T', 'Tbg', 'Teammulatto', 'Teemid',\n",
    "       'Tekstyle', 'Tgod', 'Throwback', 'Thug', 'Thugstep',\n",
    "       'Tomorrowland', 'Toosmooth', 'Torylanez', 'Tracks', 'Tracy',\n",
    "       'Travisscott', 'Trell', 'Trillsammy', 'Triphop', 'Tropical',\n",
    "       'Twerk', 'Tyga', 'Tylerthecreator', 'Uber', 'Uwu',\n",
    "       'Va', 'Vaporwave', 'Var', 'Variado', 'Vibe',\n",
    "       'Vine',  'Void', 'Wax', 'Wayout', 'Wedidit',\n",
    "       'Werkkk', 'Wiz', 'Wood', 'Work', 'Xo',\n",
    "       'Xxx', 'Yara', 'Yazzie', 'Yoga', 'Yonkers', 'Youngdolph',\n",
    "       'Younghustlers', 'Youngthug', 'Youngthug#youtheone#richgang',\n",
    "       'Zafar', 'Zara', 'Zeeshan', 'Zen', 'Zidd', 'Zombies', 'Zonemusic',\n",
    "       'Zouk'\n",
    "       }"
   ]
  },
  {
   "cell_type": "code",
   "execution_count": 260,
   "metadata": {},
   "outputs": [
    {
     "name": "stderr",
     "output_type": "stream",
     "text": [
      "/home/nnbtam99/miniconda3/envs/pysyft/lib/python3.7/site-packages/pandas/core/indexing.py:1765: SettingWithCopyWarning: \n",
      "A value is trying to be set on a copy of a slice from a DataFrame.\n",
      "Try using .loc[row_indexer,col_indexer] = value instead\n",
      "\n",
      "See the caveats in the documentation: https://pandas.pydata.org/pandas-docs/stable/user_guide/indexing.html#returning-a-view-versus-a-copy\n",
      "  isetter(loc, value)\n"
     ]
    }
   ],
   "source": [
    "for index, row in selected_track.iterrows():\n",
    "    # chỉ xét các dòng có genre <> NaN\n",
    "    if not pd.isna(row['genre']):\n",
    "        if row['genre'] in invalid_genres:\n",
    "            selected_track.loc[index, 'genre'] = np.NaN"
   ]
  },
  {
   "cell_type": "code",
   "execution_count": 254,
   "metadata": {},
   "outputs": [],
   "source": [
    "spelling = {'Afrohouse':'House',\n",
    "            'Balada':'Ballad',\n",
    "            'Bassnectar':'Bass',\n",
    "            'Bedroombass':'Bass',\n",
    "            'Blueorred':'Blues',\n",
    "            'Bts':'Kpop',\n",
    "            'Drillmusic #hiphop':'Hip hop/rap',\n",
    "            'Electro':'Electronic',\n",
    "            'Electro #future trap':'Electronic',\n",
    "            'Electronica':'Electronic',\n",
    "            'Elettronica':'Electronic',\n",
    "           'Folk': 'Folk & Singer-Songwriter',\n",
    "            'Futuristic':'Future',\n",
    "            'Goldhouse':'House',\n",
    "            'Hip-hop':'Hip hop/rap', 'Hiphop':'Hip hop/rap',\n",
    "           'Hiphoprap':'Hip hop/rap', \n",
    "            'Instermantal':'Instrumental', 'Instermental':'Instrumental',\n",
    "            'Jazzbumps':'Jazz',\n",
    "            'Latina':'Latin',\n",
    "            'Love #nightcore':'Nightcore',\n",
    "            'Luvfi':'Lo-fi', 'Lofi':'Lo-fi',\n",
    "            'Metalcore':'Metal',\n",
    "            'Mixtape': 'Mix',\n",
    "            'Nightcorereality':'Nightcore',\n",
    "            'Yg':'Kpop',\n",
    "            'Worldmusic':'World',\n",
    "            'Vibes #country #mix':'Country',\n",
    "            'Traplatino':'Trap', 'Trapmusic':'Trap', 'Trapsoul':'Trap',\n",
    "            'Techhouse':'House',\n",
    "            'Sadtrap':'Trap',\n",
    "             'Rnb':'R&b & soul',\n",
    "            'Rnbass':'R&b & soul', 'Rnbhiphop':'R&b & soul',\n",
    "            'Rock':'Alternative Rock', \n",
    "            'Romanticas':'Romance', 'Romantico':'Romance',\n",
    "            'Pos':'Pop', 'Pnbrock':'Hip hop/rap', 'Pnb':'Hip hop/rap',\n",
    "            'Psyreggae':'Reggae', 'Rap':'Hip hop/rap',\n",
    "            'Remixes':'Remix', 'Remtrex':'Remix',\n",
    "            'Reggiecouz':'Reggae', \n",
    "            'Reversebass':'Bass'\n",
    "           }"
   ]
  },
  {
   "cell_type": "code",
   "execution_count": 262,
   "metadata": {},
   "outputs": [
    {
     "name": "stderr",
     "output_type": "stream",
     "text": [
      "/home/nnbtam99/miniconda3/envs/pysyft/lib/python3.7/site-packages/ipykernel_launcher.py:1: SettingWithCopyWarning: \n",
      "A value is trying to be set on a copy of a slice from a DataFrame.\n",
      "Try using .loc[row_indexer,col_indexer] = value instead\n",
      "\n",
      "See the caveats in the documentation: https://pandas.pydata.org/pandas-docs/stable/user_guide/indexing.html#returning-a-view-versus-a-copy\n",
      "  \"\"\"Entry point for launching an IPython kernel.\n"
     ]
    }
   ],
   "source": [
    "selected_track['genre'] = selected_track['genre'].replace(spelling)\n"
   ]
  },
  {
   "cell_type": "code",
   "execution_count": 266,
   "metadata": {},
   "outputs": [
    {
     "name": "stdout",
     "output_type": "stream",
     "text": [
      "60\n"
     ]
    },
    {
     "data": {
      "text/plain": [
       "array(['Acoustic', 'Alternative', 'Alternative Rock', 'Ambient', 'Anime',\n",
       "       'Arabic', 'Audiobooks', 'Ballad', 'Bass', 'Beats', 'Blues',\n",
       "       'Classical', 'Comedy', 'Corridos', 'Country', 'Cover', 'Dance',\n",
       "       'Dancehall', 'Drill', 'Dubstep', 'Electronic', 'Entertainment',\n",
       "       'Folk & Singer-Songwriter', 'Funk', 'Future', 'Grime',\n",
       "       'Hip hop/rap', 'Holy', 'House', 'Indie', 'Instrumental', 'Jazz',\n",
       "       'Kpop', 'Latin', 'Learning', 'Lo-fi', 'Lullaby', 'Mashup', 'Metal',\n",
       "       'Mix', 'Nightcore', 'Oriental', 'Original', 'Piano', 'Pop', 'Punk',\n",
       "       'R&b & soul', 'Reggae', 'Reggaeton', 'Remix', 'Romance', 'Sad',\n",
       "       'Salsa', 'Techno', 'Trance', 'Trap', 'Underground', 'Vocaloid',\n",
       "       'Waves', 'World', nan], dtype=object)"
      ]
     },
     "execution_count": 266,
     "metadata": {},
     "output_type": "execute_result"
    }
   ],
   "source": [
    "# Kiểm tra các genre sau khi xử lý\n",
    "print(selected_track['genre'].nunique())\n",
    "selected_track['genre'].sort_values().unique()"
   ]
  },
  {
   "cell_type": "markdown",
   "metadata": {},
   "source": [
    "#### b.2. Kiểm tra giá trị null (missing value)"
   ]
  },
  {
   "cell_type": "code",
   "execution_count": 267,
   "metadata": {},
   "outputs": [
    {
     "data": {
      "text/plain": [
       "id                   0\n",
       "full_duration        0\n",
       "genre             5335\n",
       "comment_count       65\n",
       "likes_count         29\n",
       "playback_count      29\n",
       "reposts_count        0\n",
       "download_count      29\n",
       "display_date         0\n",
       "dtype: int64"
      ]
     },
     "execution_count": 267,
     "metadata": {},
     "output_type": "execute_result"
    }
   ],
   "source": [
    "selected_track.isnull().sum()"
   ]
  },
  {
   "cell_type": "markdown",
   "metadata": {},
   "source": [
    "Tiến hành xử lý null các trường `comment_count`, `likes_count`, `playback_count`, `download_count` và `genre`"
   ]
  },
  {
   "cell_type": "markdown",
   "metadata": {},
   "source": [
    "##### b2.1. Các trường số thực \n",
    "Bao gồm:\n",
    "- `comment_count`\n",
    "- `likes_count`\n",
    "- `playback_count`\n",
    "- `download_count`"
   ]
  },
  {
   "cell_type": "code",
   "execution_count": 271,
   "metadata": {},
   "outputs": [
    {
     "data": {
      "text/html": [
       "<div>\n",
       "<style scoped>\n",
       "    .dataframe tbody tr th:only-of-type {\n",
       "        vertical-align: middle;\n",
       "    }\n",
       "\n",
       "    .dataframe tbody tr th {\n",
       "        vertical-align: top;\n",
       "    }\n",
       "\n",
       "    .dataframe thead th {\n",
       "        text-align: right;\n",
       "    }\n",
       "</style>\n",
       "<table border=\"1\" class=\"dataframe\">\n",
       "  <thead>\n",
       "    <tr style=\"text-align: right;\">\n",
       "      <th></th>\n",
       "      <th>id</th>\n",
       "      <th>full_duration</th>\n",
       "      <th>genre</th>\n",
       "      <th>comment_count</th>\n",
       "      <th>likes_count</th>\n",
       "      <th>playback_count</th>\n",
       "      <th>reposts_count</th>\n",
       "      <th>download_count</th>\n",
       "      <th>display_date</th>\n",
       "    </tr>\n",
       "  </thead>\n",
       "  <tbody>\n",
       "    <tr>\n",
       "      <th>64</th>\n",
       "      <td>206333759</td>\n",
       "      <td>262371</td>\n",
       "      <td>Indie</td>\n",
       "      <td>NaN</td>\n",
       "      <td>NaN</td>\n",
       "      <td>NaN</td>\n",
       "      <td>0</td>\n",
       "      <td>NaN</td>\n",
       "      <td>2015-05-20T15:03:37Z</td>\n",
       "    </tr>\n",
       "    <tr>\n",
       "      <th>195</th>\n",
       "      <td>211341283</td>\n",
       "      <td>158720</td>\n",
       "      <td>NaN</td>\n",
       "      <td>NaN</td>\n",
       "      <td>1621.0</td>\n",
       "      <td>967883.0</td>\n",
       "      <td>273</td>\n",
       "      <td>8.0</td>\n",
       "      <td>2015-06-21T17:24:36Z</td>\n",
       "    </tr>\n",
       "    <tr>\n",
       "      <th>216</th>\n",
       "      <td>118023933</td>\n",
       "      <td>70222</td>\n",
       "      <td>NaN</td>\n",
       "      <td>NaN</td>\n",
       "      <td>NaN</td>\n",
       "      <td>NaN</td>\n",
       "      <td>0</td>\n",
       "      <td>NaN</td>\n",
       "      <td>2013-11-01T00:39:13Z</td>\n",
       "    </tr>\n",
       "    <tr>\n",
       "      <th>267</th>\n",
       "      <td>262703709</td>\n",
       "      <td>107530</td>\n",
       "      <td>NaN</td>\n",
       "      <td>NaN</td>\n",
       "      <td>83459.0</td>\n",
       "      <td>6577883.0</td>\n",
       "      <td>8460</td>\n",
       "      <td>26772.0</td>\n",
       "      <td>2016-05-05T23:51:17Z</td>\n",
       "    </tr>\n",
       "    <tr>\n",
       "      <th>316</th>\n",
       "      <td>753932167</td>\n",
       "      <td>144091</td>\n",
       "      <td>NaN</td>\n",
       "      <td>NaN</td>\n",
       "      <td>56102.0</td>\n",
       "      <td>4138462.0</td>\n",
       "      <td>914</td>\n",
       "      <td>25.0</td>\n",
       "      <td>2020-02-02T19:57:56Z</td>\n",
       "    </tr>\n",
       "  </tbody>\n",
       "</table>\n",
       "</div>"
      ],
      "text/plain": [
       "            id  full_duration  genre  comment_count  likes_count  \\\n",
       "64   206333759         262371  Indie            NaN          NaN   \n",
       "195  211341283         158720    NaN            NaN       1621.0   \n",
       "216  118023933          70222    NaN            NaN          NaN   \n",
       "267  262703709         107530    NaN            NaN      83459.0   \n",
       "316  753932167         144091    NaN            NaN      56102.0   \n",
       "\n",
       "     playback_count  reposts_count  download_count          display_date  \n",
       "64              NaN              0             NaN  2015-05-20T15:03:37Z  \n",
       "195        967883.0            273             8.0  2015-06-21T17:24:36Z  \n",
       "216             NaN              0             NaN  2013-11-01T00:39:13Z  \n",
       "267       6577883.0           8460         26772.0  2016-05-05T23:51:17Z  \n",
       "316       4138462.0            914            25.0  2020-02-02T19:57:56Z  "
      ]
     },
     "execution_count": 271,
     "metadata": {},
     "output_type": "execute_result"
    }
   ],
   "source": [
    "selected_track[selected_track['comment_count'].isnull()].head()"
   ]
  },
  {
   "cell_type": "markdown",
   "metadata": {},
   "source": [
    "**Một đề xuất đơn giản là ta có thể fillna cho các trường số thực bằng giá trị 0**"
   ]
  },
  {
   "cell_type": "code",
   "execution_count": 273,
   "metadata": {},
   "outputs": [],
   "source": [
    "float_na = {'comment_count':0,\n",
    "           'likes_count':0,\n",
    "           'playback_count':0,\n",
    "           'download_count':0}\n",
    "selected_track = selected_track.fillna(value=float_na)"
   ]
  },
  {
   "cell_type": "code",
   "execution_count": 274,
   "metadata": {},
   "outputs": [
    {
     "data": {
      "text/plain": [
       "id                   0\n",
       "full_duration        0\n",
       "genre             5335\n",
       "comment_count        0\n",
       "likes_count          0\n",
       "playback_count       0\n",
       "reposts_count        0\n",
       "download_count       0\n",
       "display_date         0\n",
       "dtype: int64"
      ]
     },
     "execution_count": 274,
     "metadata": {},
     "output_type": "execute_result"
    }
   ],
   "source": [
    "# Kiểm tra sau khi xử lý null cho các trường số thực\n",
    "selected_track.isnull().sum()"
   ]
  },
  {
   "cell_type": "markdown",
   "metadata": {},
   "source": [
    "##### b2.2. genre\n",
    "Với trường `genre` của track, ta giải quyết null bằng cách gán nó bằng chuỗi \"Unknown\""
   ]
  },
  {
   "cell_type": "code",
   "execution_count": 275,
   "metadata": {},
   "outputs": [],
   "source": [
    "genre_na = {'genre':\"Unknown\"}\n",
    "selected_track = selected_track.fillna(value=genre_na)"
   ]
  },
  {
   "cell_type": "markdown",
   "metadata": {},
   "source": [
    "#### b.3. Biến đổi thuộc tính (data transformation) "
   ]
  },
  {
   "cell_type": "code",
   "execution_count": 277,
   "metadata": {},
   "outputs": [
    {
     "name": "stdout",
     "output_type": "stream",
     "text": [
      "<class 'pandas.core.frame.DataFrame'>\n",
      "RangeIndex: 6434 entries, 0 to 6433\n",
      "Data columns (total 9 columns):\n",
      " #   Column          Non-Null Count  Dtype  \n",
      "---  ------          --------------  -----  \n",
      " 0   id              6434 non-null   int64  \n",
      " 1   full_duration   6434 non-null   int64  \n",
      " 2   genre           6434 non-null   object \n",
      " 3   comment_count   6434 non-null   float64\n",
      " 4   likes_count     6434 non-null   float64\n",
      " 5   playback_count  6434 non-null   float64\n",
      " 6   reposts_count   6434 non-null   int64  \n",
      " 7   download_count  6434 non-null   float64\n",
      " 8   display_date    6434 non-null   object \n",
      "dtypes: float64(4), int64(3), object(2)\n",
      "memory usage: 452.5+ KB\n"
     ]
    }
   ],
   "source": [
    "selected_track.info()"
   ]
  },
  {
   "cell_type": "markdown",
   "metadata": {},
   "source": [
    "- Biến đổi `id` thành kiểu `string`\n",
    "- Biến đổi `display_date` thành kiểu `datetime`\n",
    "- Biến đổi `comment_count`, `likes_count`, `playback_count` và `download_count` về kiểu `int64`"
   ]
  },
  {
   "cell_type": "code",
   "execution_count": 280,
   "metadata": {},
   "outputs": [],
   "source": [
    "selected_track['display_date'] = pd.to_datetime(selected_track['display_date']).dt.tz_localize(None)"
   ]
  },
  {
   "cell_type": "markdown",
   "metadata": {},
   "source": [
    "Thêm thuộc tính `display_time = today - display_date`"
   ]
  },
  {
   "cell_type": "code",
   "execution_count": 281,
   "metadata": {},
   "outputs": [],
   "source": [
    "selected_track['display_time'] = date.today()\n",
    "\n",
    "# convert to the same timezone\n",
    "selected_track['display_time'] = pd.to_datetime(selected_track['display_time']).dt.tz_localize(None)\n",
    "selected_track['display_time'] = (selected_track['display_time'] - selected_track['display_date'])/ np.timedelta64(1, 'M')"
   ]
  },
  {
   "cell_type": "code",
   "execution_count": 283,
   "metadata": {},
   "outputs": [],
   "source": [
    "# Xóa cột display_date sau khi feature engineer\n",
    "selected_track = selected_track.drop(columns=['display_date'])"
   ]
  },
  {
   "cell_type": "code",
   "execution_count": 287,
   "metadata": {},
   "outputs": [],
   "source": [
    "# Biến đổi các trường về kiểu int64\n",
    "selected_track['comment_count'] = selected_track['comment_count'].astype('int')\n",
    "selected_track['likes_count'] = selected_track['likes_count'].astype('int')\n",
    "selected_track['playback_count'] = selected_track['playback_count'].astype('int')\n",
    "selected_track['download_count'] = selected_track['download_count'].astype('int')"
   ]
  },
  {
   "cell_type": "markdown",
   "metadata": {},
   "source": [
    "### c. Kiểm tra lại mẫu dữ liệu đã chọn"
   ]
  },
  {
   "cell_type": "code",
   "execution_count": 291,
   "metadata": {},
   "outputs": [
    {
     "data": {
      "text/html": [
       "<div>\n",
       "<style scoped>\n",
       "    .dataframe tbody tr th:only-of-type {\n",
       "        vertical-align: middle;\n",
       "    }\n",
       "\n",
       "    .dataframe tbody tr th {\n",
       "        vertical-align: top;\n",
       "    }\n",
       "\n",
       "    .dataframe thead th {\n",
       "        text-align: right;\n",
       "    }\n",
       "</style>\n",
       "<table border=\"1\" class=\"dataframe\">\n",
       "  <thead>\n",
       "    <tr style=\"text-align: right;\">\n",
       "      <th></th>\n",
       "      <th>id</th>\n",
       "      <th>full_duration</th>\n",
       "      <th>genre</th>\n",
       "      <th>comment_count</th>\n",
       "      <th>likes_count</th>\n",
       "      <th>playback_count</th>\n",
       "      <th>reposts_count</th>\n",
       "      <th>download_count</th>\n",
       "      <th>display_time</th>\n",
       "    </tr>\n",
       "  </thead>\n",
       "  <tbody>\n",
       "    <tr>\n",
       "      <th>0</th>\n",
       "      <td>187460600</td>\n",
       "      <td>202362</td>\n",
       "      <td>Unknown</td>\n",
       "      <td>470</td>\n",
       "      <td>48016</td>\n",
       "      <td>2497040</td>\n",
       "      <td>9761</td>\n",
       "      <td>0</td>\n",
       "      <td>69.571361</td>\n",
       "    </tr>\n",
       "    <tr>\n",
       "      <th>1</th>\n",
       "      <td>247883444</td>\n",
       "      <td>231700</td>\n",
       "      <td>Unknown</td>\n",
       "      <td>56</td>\n",
       "      <td>35182</td>\n",
       "      <td>2584991</td>\n",
       "      <td>1764</td>\n",
       "      <td>0</td>\n",
       "      <td>56.682940</td>\n",
       "    </tr>\n",
       "    <tr>\n",
       "      <th>2</th>\n",
       "      <td>151431689</td>\n",
       "      <td>231361</td>\n",
       "      <td>Hip hop/rap</td>\n",
       "      <td>291</td>\n",
       "      <td>20036</td>\n",
       "      <td>1831890</td>\n",
       "      <td>1491</td>\n",
       "      <td>0</td>\n",
       "      <td>77.503395</td>\n",
       "    </tr>\n",
       "    <tr>\n",
       "      <th>3</th>\n",
       "      <td>508699284</td>\n",
       "      <td>174749</td>\n",
       "      <td>Unknown</td>\n",
       "      <td>613</td>\n",
       "      <td>103765</td>\n",
       "      <td>7880344</td>\n",
       "      <td>2128</td>\n",
       "      <td>0</td>\n",
       "      <td>25.199696</td>\n",
       "    </tr>\n",
       "    <tr>\n",
       "      <th>4</th>\n",
       "      <td>759765964</td>\n",
       "      <td>133773</td>\n",
       "      <td>Unknown</td>\n",
       "      <td>1207</td>\n",
       "      <td>61040</td>\n",
       "      <td>5024515</td>\n",
       "      <td>2400</td>\n",
       "      <td>0</td>\n",
       "      <td>8.861780</td>\n",
       "    </tr>\n",
       "  </tbody>\n",
       "</table>\n",
       "</div>"
      ],
      "text/plain": [
       "          id  full_duration        genre  comment_count  likes_count  \\\n",
       "0  187460600         202362      Unknown            470        48016   \n",
       "1  247883444         231700      Unknown             56        35182   \n",
       "2  151431689         231361  Hip hop/rap            291        20036   \n",
       "3  508699284         174749      Unknown            613       103765   \n",
       "4  759765964         133773      Unknown           1207        61040   \n",
       "\n",
       "   playback_count  reposts_count  download_count  display_time  \n",
       "0         2497040           9761               0     69.571361  \n",
       "1         2584991           1764               0     56.682940  \n",
       "2         1831890           1491               0     77.503395  \n",
       "3         7880344           2128               0     25.199696  \n",
       "4         5024515           2400               0      8.861780  "
      ]
     },
     "execution_count": 291,
     "metadata": {},
     "output_type": "execute_result"
    }
   ],
   "source": [
    "selected_track.head()"
   ]
  },
  {
   "cell_type": "code",
   "execution_count": 292,
   "metadata": {},
   "outputs": [
    {
     "name": "stdout",
     "output_type": "stream",
     "text": [
      "<class 'pandas.core.frame.DataFrame'>\n",
      "RangeIndex: 6434 entries, 0 to 6433\n",
      "Data columns (total 9 columns):\n",
      " #   Column          Non-Null Count  Dtype  \n",
      "---  ------          --------------  -----  \n",
      " 0   id              6434 non-null   int64  \n",
      " 1   full_duration   6434 non-null   int64  \n",
      " 2   genre           6434 non-null   object \n",
      " 3   comment_count   6434 non-null   int64  \n",
      " 4   likes_count     6434 non-null   int64  \n",
      " 5   playback_count  6434 non-null   int64  \n",
      " 6   reposts_count   6434 non-null   int64  \n",
      " 7   download_count  6434 non-null   int64  \n",
      " 8   display_time    6434 non-null   float64\n",
      "dtypes: float64(1), int64(7), object(1)\n",
      "memory usage: 452.5+ KB\n"
     ]
    }
   ],
   "source": [
    "# Kiểm tra loại dữ liệu\n",
    "selected_track.info()"
   ]
  },
  {
   "cell_type": "code",
   "execution_count": 293,
   "metadata": {},
   "outputs": [
    {
     "data": {
      "text/plain": [
       "id                0\n",
       "full_duration     0\n",
       "genre             0\n",
       "comment_count     0\n",
       "likes_count       0\n",
       "playback_count    0\n",
       "reposts_count     0\n",
       "download_count    0\n",
       "display_time      0\n",
       "dtype: int64"
      ]
     },
     "execution_count": 293,
     "metadata": {},
     "output_type": "execute_result"
    }
   ],
   "source": [
    "# Kiểm tra missing value\n",
    "selected_track.isnull().sum()"
   ]
  },
  {
   "cell_type": "markdown",
   "metadata": {},
   "source": [
    "### d. Lưu dữ liệu xuống file csv"
   ]
  },
  {
   "cell_type": "code",
   "execution_count": 294,
   "metadata": {},
   "outputs": [],
   "source": [
    "selected_track.to_csv('Crawl_data/selected_tracks.csv', sep='\\t', index=False)"
   ]
  }
 ],
 "metadata": {
  "kernelspec": {
   "display_name": "Python 3",
   "language": "python",
   "name": "python3"
  },
  "language_info": {
   "codemirror_mode": {
    "name": "ipython",
    "version": 3
   },
   "file_extension": ".py",
   "mimetype": "text/x-python",
   "name": "python",
   "nbconvert_exporter": "python",
   "pygments_lexer": "ipython3",
   "version": "3.7.9"
  }
 },
 "nbformat": 4,
 "nbformat_minor": 4
}
