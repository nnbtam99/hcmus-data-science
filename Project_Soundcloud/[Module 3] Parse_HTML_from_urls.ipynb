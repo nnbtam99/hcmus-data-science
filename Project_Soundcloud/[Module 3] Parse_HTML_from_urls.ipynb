{
 "cells": [
  {
   "cell_type": "markdown",
   "metadata": {},
   "source": [
    "Họ và tên: **Nguyễn Ngọc Băng Tâm**\n",
    "\n",
    "MSSV: **1712747**"
   ]
  },
  {
   "cell_type": "code",
   "execution_count": 1,
   "metadata": {},
   "outputs": [],
   "source": [
    "import os\n",
    "\n",
    "from requests_html import HTMLSession\n",
    "import requests\n",
    "import pandas as pd\n",
    "import re\n",
    "import time\n",
    "import json\n",
    "\n",
    "from selenium import webdriver\n",
    "from selenium.webdriver.chrome.options import Options\n",
    "\n",
    "import urllib.robotparser # Kiểm tra file robot.txt có được phép crawl không"
   ]
  },
  {
   "cell_type": "markdown",
   "metadata": {},
   "source": [
    "## 3. Parse HTML from urls"
   ]
  },
  {
   "cell_type": "markdown",
   "metadata": {},
   "source": [
    "### a. Tạo robot parser"
   ]
  },
  {
   "cell_type": "code",
   "execution_count": 2,
   "metadata": {},
   "outputs": [],
   "source": [
    "rp = urllib.robotparser.RobotFileParser()\n",
    "rp.set_url('https://soundcloud.com/robots.txt')\n",
    "rp.read()"
   ]
  },
  {
   "cell_type": "markdown",
   "metadata": {},
   "source": [
    "### b. Parse html từ url của user / track / playlist\n",
    "\n",
    "- Hàm `parse_html_from_url` sẽ parse ra các đối tượng dữ liệu dựa vào template `data_regex` truyền vào và lưu xuống file csv.\n",
    "- Hàm `preprocess_to_json_string` thực hiện tiền xử lý chuỗi ký tự parse từ file mã nguồn và đưa về format chuỗi json để lưu xuống dataframe\n",
    "\n",
    "**Lưu ý:** Trong quá trình download mã nguồn trang web, có những trường hợp trang khá phức tạp (nhiều track hoặc người dùng nhập nhiều định dạng hơn) và đòi hỏi thời gian chờ lâu hơn mới download toàn bộ Javascript. Do mã nguồn hiện tại quy định thời gian chờ `sleep_time=1` nên sẽ có lúc không parse được html"
   ]
  },
  {
   "cell_type": "code",
   "execution_count": 3,
   "metadata": {},
   "outputs": [],
   "source": [
    "def parse_html_from_url(driver, data_type, data_regex, sleep_time=1):\n",
    "    \"\"\"\n",
    "    Parse data from url using regex\n",
    "    - driver: a browser driver object (firefox, chrome,...)\n",
    "    - data_type: user / track / playlist\n",
    "    - data_regex: regex to search for user/ track / playlist\n",
    "    \"\"\"\n",
    "    \n",
    "    json_lst = []\n",
    "    \n",
    "    with open(f'Crawl_urls/unique_popular_{data_type}.txt', 'r') as inp:\n",
    "        for line in inp:\n",
    "            if rp.can_fetch('*', line):\n",
    "                \n",
    "                # sleep before requesting a new session\n",
    "                time.sleep(sleep_time)\n",
    "                driver.get(line)\n",
    "                page_src = driver.page_source\n",
    "            \n",
    "                # parse string using regex\n",
    "                pos = re.search(data_regex, page_src)\n",
    "                if pos is not None:\n",
    "                    res = page_src[pos.start():pos.end()]\n",
    "                \n",
    "                    res = preprocess_to_json_string(res, data_type, page_src)\n",
    "                \n",
    "                    json_pydata = json.loads(res) # convert JSON string res to a dictionary\n",
    "                \n",
    "                    json_lst.append(json_pydata)\n",
    "                else:\n",
    "                    print(f'{line} has problems')\n",
    "                \n",
    "            else:\n",
    "                print(f\"Can't fetch {line}\")\n",
    "    \n",
    "    df = pd.json_normalize(json_lst)\n",
    "    df = df.reset_index()\n",
    "    df.to_csv(f'New_data/{data_type}.csv', sep='\\t', index=False, header=True, encoding='utf-8')"
   ]
  },
  {
   "cell_type": "code",
   "execution_count": 4,
   "metadata": {},
   "outputs": [],
   "source": [
    "def preprocess_to_json_string(raw_str, data_type, page_src):\n",
    "    \"\"\"\n",
    "    Preprocess raw string to JSON string\n",
    "    - raw_str\n",
    "    - data_type: user / track / list\n",
    "    - page_src: html source of the url (after enabling JS)\n",
    "    \"\"\"\n",
    "\n",
    "    res = None\n",
    "    \n",
    "    if data_type == \"users\":\n",
    "        res = raw_str[1:-1] # remove '[' and ']' character\n",
    "    elif data_type == \"playlists\":\n",
    "        \n",
    "        # create the tracks field\n",
    "        track_lst = []\n",
    "        tracks = re.findall(r'(\"id\":\\d+,\"kind\":\"track\")', page_src)\n",
    "        for track in tracks:\n",
    "            track = track.replace('\"id\":', '')\n",
    "            track = track.replace(',\"kind\":\"track\"', '')\n",
    "            track_lst.append(track)\n",
    "        \n",
    "        tracks_str = ','.join(track_lst)\n",
    "        \n",
    "        # add the tracks and track_counts field\n",
    "        pos = re.search(r'\"user\"', raw_str)\n",
    "        track_cnts = str(len(re.findall(r'\"kind\":\"track\"', raw_str)))\n",
    "        \n",
    "        # create the json string\n",
    "        res = raw_str[1:pos.start()] + '\"track_counts\":' + str(track_cnts) + ',\"tracks\" : \"' + tracks_str + '\"}'\n",
    "        \n",
    "    elif data_type == \"tracks\":\n",
    "    \n",
    "        pos = re.search(r'\"media\"', raw_str)\n",
    "        res = raw_str[1:pos.start() - 1] + '}' #  close the dict to create json string\n",
    "        \n",
    "    else:\n",
    "        print(\"Wrong data type\")\n",
    "    \n",
    "    return res"
   ]
  },
  {
   "cell_type": "code",
   "execution_count": 6,
   "metadata": {},
   "outputs": [],
   "source": [
    "chrome_options = Options()\n",
    "chrome_options.add_argument(\"--headless\")\n",
    "\n",
    "browser = webdriver.Chrome('./chromedriver', options=chrome_options)"
   ]
  },
  {
   "cell_type": "markdown",
   "metadata": {},
   "source": [
    "#### Parse HTML đối với file `popular_playlists.txt`"
   ]
  },
  {
   "cell_type": "code",
   "execution_count": 7,
   "metadata": {},
   "outputs": [
    {
     "name": "stdout",
     "output_type": "stream",
     "text": [
      "https://soundcloud.com/18-user-user/sets/die-very-rough\n",
      " has problems\n",
      "https://soundcloud.com/18-user-user/sets/big-bootie-mix-bottie\n",
      " has problems\n",
      "https://soundcloud.com/2020-songs/sets/what-do-you-know-about-love-pop-smoke\n",
      " has problems\n",
      "https://soundcloud.com/dll-repost-2/sets/what-do-you-know-about-love-pop-smoke-2\n",
      " has problems\n",
      "https://soundcloud.com/2020-songs/sets/whoopty-cj\n",
      " has problems\n",
      "https://soundcloud.com/18-user-user/sets/big-bootie-mix\n",
      " has problems\n",
      "https://soundcloud.com/2020-songs/sets/easy-life-sangria-ft-arlo-parks\n",
      " has problems\n",
      "https://soundcloud.com/18-user-user/sets/drip-like-me\n",
      " has problems\n",
      "https://soundcloud.com/2020-songs/sets/tik-tok\n",
      " has problems\n",
      "https://soundcloud.com/319963465-79694589-weeee/sets/trippie-redd\n",
      " has problems\n",
      "https://soundcloud.com/user-1920291817281910/sets/laugh-now-cry-later\n",
      " has problems\n",
      "https://soundcloud.com/user61569247911/sets/juice-wrld\n",
      " has problems\n",
      "https://soundcloud.com/2020-songs/sets/savage-love\n",
      " has problems\n",
      "https://soundcloud.com/dll-repost-2/sets/lets-link\n",
      " has problems\n",
      "https://soundcloud.com/user-590721211/sets/new-hottest-tracks\n",
      " has problems\n",
      "https://soundcloud.com/dll-repost-2/sets/big-bootie-mix-18\n",
      " has problems\n",
      "https://soundcloud.com/156667773287464638-i/sets/slowed-and-reverb\n",
      " has problems\n",
      "https://soundcloud.com/2020-songs/sets/franchise-remix-travis-scott\n",
      " has problems\n"
     ]
    }
   ],
   "source": [
    "playlist_regex = '\\[{\"artwork_url\".+\"}\\]'\n",
    "parse_html_from_url(browser, 'playlists', playlist_regex)"
   ]
  },
  {
   "cell_type": "markdown",
   "metadata": {},
   "source": [
    "#### Parse HTML đối với file `popular_users.txt`"
   ]
  },
  {
   "cell_type": "code",
   "execution_count": 8,
   "metadata": {},
   "outputs": [
    {
     "name": "stdout",
     "output_type": "stream",
     "text": [
      "https://soundcloud.com/319963465-79694589-weeee\n",
      " has problems\n",
      "https://soundcloud.com/156667773287464638-i\n",
      " has problems\n",
      "https://soundcloud.com/18-user-user\n",
      " has problems\n",
      "https://soundcloud.com/dll-repost-2\n",
      " has problems\n",
      "https://soundcloud.com/2020-songs\n",
      " has problems\n",
      "https://soundcloud.com/user-1920291817281910\n",
      " has problems\n",
      "https://soundcloud.com/duck-playz-214713788\n",
      " has problems\n"
     ]
    }
   ],
   "source": [
    "usr_regex = '\\[{\"avatar_url\".+\"}\\]'\n",
    "parse_html_from_url(browser, 'users', usr_regex)"
   ]
  },
  {
   "cell_type": "markdown",
   "metadata": {},
   "source": [
    "#### Parse HTML đối với file `popular_tracks.txt`"
   ]
  },
  {
   "cell_type": "code",
   "execution_count": 9,
   "metadata": {},
   "outputs": [],
   "source": [
    "track_regex = '\\[{\"artwork_url\".+\"}\\]'\n",
    "parse_html_from_url(browser, 'tracks', track_regex)"
   ]
  }
 ],
 "metadata": {
  "kernelspec": {
   "display_name": "Python 3",
   "language": "python",
   "name": "python3"
  },
  "language_info": {
   "codemirror_mode": {
    "name": "ipython",
    "version": 3
   },
   "file_extension": ".py",
   "mimetype": "text/x-python",
   "name": "python",
   "nbconvert_exporter": "python",
   "pygments_lexer": "ipython3",
   "version": "3.7.9"
  }
 },
 "nbformat": 4,
 "nbformat_minor": 4
}
