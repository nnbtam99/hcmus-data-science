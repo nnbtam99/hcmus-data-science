{
 "cells": [
  {
   "cell_type": "markdown",
   "metadata": {},
   "source": [
    "Họ và tên: **Nguyễn Ngọc Băng Tâm**\n",
    "\n",
    "MSSV: **1712747**"
   ]
  },
  {
   "cell_type": "code",
   "execution_count": 6,
   "metadata": {},
   "outputs": [],
   "source": [
    "import os\n",
    "\n",
    "from requests_html import HTMLSession\n",
    "import requests\n",
    "import pandas as pd\n",
    "import time\n",
    "import re\n",
    "\n",
    "import urllib.robotparser # Kiểm tra file robot.txt có được phép crawl không"
   ]
  },
  {
   "cell_type": "code",
   "execution_count": 7,
   "metadata": {},
   "outputs": [],
   "source": [
    "if not os.path.exists('Api_data/'):\n",
    "    os.makedirs('Api_data/')\n",
    "    \n",
    "if not os.path.exists('Crawl_data/'):\n",
    "    os.makedirs('Crawl_data/')"
   ]
  },
  {
   "cell_type": "markdown",
   "metadata": {},
   "source": [
    "## 1. API"
   ]
  },
  {
   "cell_type": "markdown",
   "metadata": {},
   "source": [
    "Test dữ liệu của một user"
   ]
  },
  {
   "cell_type": "code",
   "execution_count": 8,
   "metadata": {},
   "outputs": [],
   "source": [
    "url = 'https://api-v2.soundcloud.com/users/2?client_id=koSuixzk25Cz0fDgsPfhkgeZcKBr7lpQ'"
   ]
  },
  {
   "cell_type": "code",
   "execution_count": 9,
   "metadata": {},
   "outputs": [
    {
     "data": {
      "text/plain": [
       "'{\"avatar_url\":\"https://i1.sndcdn.com/avatars-LQHwEEFP8SciWWEl-yGLHbw-large.jpg\",\"city\":\"Berlin\",\"comments_count\":383,\"country_code\":\"DE\",\"created_at\":\"2007-07-20T16:07:00Z\",\"creator_subscriptions\":[{\"product\":{\"id\":\"creator-pro-unlimited\"}}],\"creator_subscription\":{\"product\":{\"id\":\"creator-pro-unlimited\"}},\"description\":\"Founder & CEO Dance. Founder SoundCloud and artist http://soundcloud.com/forss\",\"followers_count\":45999,\"followings_count\":2000,\"first_name\":\"Eric\",\"full_name\":\"Eric Quidenus-Wahlforss\",\"groups_count\":0,\"id\":2,\"kind\":\"user\",\"last_modified\":\"2020-07-21T08:17:59Z\",\"last_name\":\"Quidenus-Wahlforss\",\"likes_count\":2582,\"playlist_likes_count\":392,\"permalink\":\"eric\",\"permalink_url\":\"https://soundcloud.com/eric\",\"playlist_count\":24,\"reposts_count\":null,\"track_count\":64,\"uri\":\"https://api.soundcloud.com/users/2\",\"urn\":\"soundcloud:users:2\",\"username\":\"Eric 🔥\",\"verified\":false,\"visuals\":{\"urn\":\"soundcloud:users:2\",\"enabled\":true,\"visuals\":[{\"urn\":\"soundcloud:visuals:105136722\",\"entry_time\":0,\"visual_url\":\"https://i1.sndcdn.com/visuals-000000000002-599j2I-original.jpg\"}],\"tracking\":null},\"badges\":{\"pro_unlimited\":true,\"verified\":false}}'"
      ]
     },
     "execution_count": 9,
     "metadata": {},
     "output_type": "execute_result"
    }
   ],
   "source": [
    "r = requests.get(url)\n",
    "r.text"
   ]
  },
  {
   "cell_type": "code",
   "execution_count": 10,
   "metadata": {},
   "outputs": [
    {
     "data": {
      "text/plain": [
       "{'Content-Type': 'application/json; charset=utf-8', 'Content-Length': '585', 'Connection': 'keep-alive', 'Date': 'Mon, 02 Nov 2020 11:10:03 GMT', 'X-Robots-Tag': 'noindex', 'Cache-Control': 'private, max-age=0', 'Referrer-Policy': 'no-referrer', 'X-Frame-Options': 'DENY', 'X-Content-Type-Options': 'nosniff', 'Content-Encoding': 'gzip', 'Strict-Transport-Security': 'max-age=63072000', 'Server': 'am/2', 'Vary': 'Origin', 'X-Cache': 'Miss from cloudfront', 'Via': '1.1 fdf96859c8a26606c28f770011e1fdeb.cloudfront.net (CloudFront)', 'X-Amz-Cf-Pop': 'HKG60-C1', 'X-Amz-Cf-Id': 'oSxfO9t4S0mB6CWKaWEqc_2NX-mE7sGYw1F8-jmtGGISwQ4BOKUCTg=='}"
      ]
     },
     "execution_count": 10,
     "metadata": {},
     "output_type": "execute_result"
    }
   ],
   "source": [
    "r.headers"
   ]
  },
  {
   "cell_type": "code",
   "execution_count": 11,
   "metadata": {},
   "outputs": [
    {
     "data": {
      "text/plain": [
       "{'avatar_url': 'https://i1.sndcdn.com/avatars-LQHwEEFP8SciWWEl-yGLHbw-large.jpg',\n",
       " 'city': 'Berlin',\n",
       " 'comments_count': 383,\n",
       " 'country_code': 'DE',\n",
       " 'created_at': '2007-07-20T16:07:00Z',\n",
       " 'creator_subscriptions': [{'product': {'id': 'creator-pro-unlimited'}}],\n",
       " 'creator_subscription': {'product': {'id': 'creator-pro-unlimited'}},\n",
       " 'description': 'Founder & CEO Dance. Founder SoundCloud and artist http://soundcloud.com/forss',\n",
       " 'followers_count': 45999,\n",
       " 'followings_count': 2000,\n",
       " 'first_name': 'Eric',\n",
       " 'full_name': 'Eric Quidenus-Wahlforss',\n",
       " 'groups_count': 0,\n",
       " 'id': 2,\n",
       " 'kind': 'user',\n",
       " 'last_modified': '2020-07-21T08:17:59Z',\n",
       " 'last_name': 'Quidenus-Wahlforss',\n",
       " 'likes_count': 2582,\n",
       " 'playlist_likes_count': 392,\n",
       " 'permalink': 'eric',\n",
       " 'permalink_url': 'https://soundcloud.com/eric',\n",
       " 'playlist_count': 24,\n",
       " 'reposts_count': None,\n",
       " 'track_count': 64,\n",
       " 'uri': 'https://api.soundcloud.com/users/2',\n",
       " 'urn': 'soundcloud:users:2',\n",
       " 'username': 'Eric 🔥',\n",
       " 'verified': False,\n",
       " 'visuals': {'urn': 'soundcloud:users:2',\n",
       "  'enabled': True,\n",
       "  'visuals': [{'urn': 'soundcloud:visuals:105136722',\n",
       "    'entry_time': 0,\n",
       "    'visual_url': 'https://i1.sndcdn.com/visuals-000000000002-599j2I-original.jpg'}],\n",
       "  'tracking': None},\n",
       " 'badges': {'pro_unlimited': True, 'verified': False}}"
      ]
     },
     "execution_count": 11,
     "metadata": {},
     "output_type": "execute_result"
    }
   ],
   "source": [
    "json_pydata = r.json()\n",
    "json_pydata"
   ]
  },
  {
   "cell_type": "markdown",
   "metadata": {},
   "source": [
    "### Định nghĩa hàm **collect_data_api** để crawl dữ liệu từ api của Soundcloud\n",
    "- Check rate limit: https://developers.soundcloud.com/docs/api/rate-limits#errors\n",
    "- **Lưu ý:**\n",
    "    - Api của Soundcloud đã được thay đổi thành version 2 (thêm từ khóa -v2) và cấu trúc file json thu được từ api cũng có thay đổi so với tài liệu trên trang chủ.\n",
    "    - Trong api lấy dữ liệu có tham số cần truyền vào là `client-id`. Do Soundcloud không còn cho phép đăng ký `client-id` để thực hiện crawl data nên ta sử dụng cách thức bắt và xem gói tin trong tab Network (F12) để lấy trường dữ liệu này. "
   ]
  },
  {
   "cell_type": "code",
   "execution_count": 79,
   "metadata": {},
   "outputs": [],
   "source": [
    "def collect_data_api(data_type, client_id, num_of_samples, output_file, sleep_time=1):\n",
    "    \"\"\"\n",
    "    - data_type: types of data to collect, one out of three types {users, playlists, tracks}\n",
    "    - client_id: registered id to get access to public data\n",
    "    - num_of_samples: number of samples to fetch\n",
    "    - output_file: name of output file\n",
    "    - sleep_time: time to sleep to avoid limit rate\n",
    "    \"\"\"\n",
    "    \n",
    "    json_lst = []\n",
    "   \n",
    "    data_id = 1\n",
    "    offset = 0\n",
    "        \n",
    "    # provide headers to avoid 403 Too many request status code\n",
    "    headers = {'User-Agent': 'Mozilla/5.0'}\n",
    "    \n",
    "    step = data_id\n",
    "    while (data_id < num_of_samples + offset + 1):\n",
    "        url = f'https://api-v2.soundcloud.com/{data_type}/{step}?client_id={client_id}'\n",
    "        print(url)\n",
    "        r = requests.get(url, headers=headers)\n",
    "        \n",
    "        if r.ok == True:\n",
    "            json_pydata = r.json()\n",
    "            json_lst.append(json_pydata)\n",
    "        \n",
    "        else:\n",
    "            time.sleep(sleep_time)\n",
    "            # when data_api is invalid with <data_id> \n",
    "            # increase an offset of 1 to ensure the total amount of data is <num_of_samples>\n",
    "            offset += 1\n",
    "            \n",
    "        data_id += 1\n",
    "        step += 4\n",
    "            \n",
    "    df = pd.json_normalize(json_lst)\n",
    "    df = df.reset_index()\n",
    "    df.to_csv(output_file, sep='\\t', index=False, header=True, encoding='utf-8')"
   ]
  },
  {
   "cell_type": "code",
   "execution_count": 80,
   "metadata": {},
   "outputs": [],
   "source": [
    "sample_size = 1000"
   ]
  },
  {
   "cell_type": "markdown",
   "metadata": {},
   "source": [
    "### API - users"
   ]
  },
  {
   "cell_type": "code",
   "execution_count": null,
   "metadata": {
    "scrolled": true
   },
   "outputs": [],
   "source": [
    "# TEST with users\n",
    "collect_data_api('users', 'koSuixzk25Cz0fDgsPfhkgeZcKBr7lpQ', sample_size, 'Api_data/user.csv')\n",
    "users = pd.read_csv('Api_data/user.csv', sep='\\t')\n",
    "assert users.shape[0] == 1000"
   ]
  },
  {
   "cell_type": "markdown",
   "metadata": {},
   "source": [
    "### API - playlists"
   ]
  },
  {
   "cell_type": "code",
   "execution_count": null,
   "metadata": {},
   "outputs": [],
   "source": [
    "# TEST with playlists\n",
    "collect_data_api('playlists', 'koSuixzk25Cz0fDgsPfhkgeZcKBr7lpQ', sample_size, 'Api_data/playlist.csv')\n",
    "playlists = pd.read_csv('Api_data/playlist.csv', sep='\\t')\n",
    "assert playlists.shape[0] == 1000"
   ]
  },
  {
   "cell_type": "markdown",
   "metadata": {},
   "source": [
    "### API - tracks - ON-GOING"
   ]
  },
  {
   "cell_type": "code",
   "execution_count": null,
   "metadata": {
    "scrolled": true
   },
   "outputs": [],
   "source": [
    "# TEST with tracks\n",
    "collect_data_api('tracks', 'yLDMxXMZsSiBSpUG5psrlryn56TID1wS', sample_size, 'Api_data/track.csv')\n",
    "# collect_data_api('tracks', 'koSuixzk25Cz0fDgsPfhkgeZcKBr7lpQ', sample_size, 'Api_data/track.csv')\n",
    "tracks = pd.read_csv('Api_data/track.csv', sep='\\t')\n",
    "assert tracks.shape[0] == 1000"
   ]
  },
  {
   "cell_type": "markdown",
   "metadata": {},
   "source": [
    "### Tham khảo\n",
    "\n",
    "- [Cách lấy client-id Soundcloud](https://stackoverflow.com/questions/54753238/soundcloud-application-registration-form-is-closed)"
   ]
  }
 ],
 "metadata": {
  "kernelspec": {
   "display_name": "Python 3",
   "language": "python",
   "name": "python3"
  },
  "language_info": {
   "codemirror_mode": {
    "name": "ipython",
    "version": 3
   },
   "file_extension": ".py",
   "mimetype": "text/x-python",
   "name": "python",
   "nbconvert_exporter": "python",
   "pygments_lexer": "ipython3",
   "version": "3.7.9"
  }
 },
 "nbformat": 4,
 "nbformat_minor": 4
}
